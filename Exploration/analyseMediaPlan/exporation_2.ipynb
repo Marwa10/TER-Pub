{
 "cells": [
  {
   "cell_type": "code",
   "execution_count": 1,
   "metadata": {},
   "outputs": [],
   "source": [
    "import pandas as pd"
   ]
  },
  {
   "cell_type": "code",
   "execution_count": 3,
   "metadata": {},
   "outputs": [],
   "source": [
    "data = pd.read_csv(\"../../../data/df_tabmo_oneWeek.csv\",low_memory=False)"
   ]
  },
  {
   "cell_type": "code",
   "execution_count": 4,
   "metadata": {},
   "outputs": [],
   "source": [
    "clicks_event = data[data[\"event_type\"] == \"click\"]"
   ]
  },
  {
   "cell_type": "code",
   "execution_count": 17,
   "metadata": {},
   "outputs": [
    {
     "data": {
      "text/html": [
       "<div>\n",
       "<style scoped>\n",
       "    .dataframe tbody tr th:only-of-type {\n",
       "        vertical-align: middle;\n",
       "    }\n",
       "\n",
       "    .dataframe tbody tr th {\n",
       "        vertical-align: top;\n",
       "    }\n",
       "\n",
       "    .dataframe thead th {\n",
       "        text-align: right;\n",
       "    }\n",
       "</style>\n",
       "<table border=\"1\" class=\"dataframe\">\n",
       "  <thead>\n",
       "    <tr style=\"text-align: right;\">\n",
       "      <th></th>\n",
       "      <th>date</th>\n",
       "      <th>timestamp</th>\n",
       "      <th>event_auction_id</th>\n",
       "      <th>event_type</th>\n",
       "      <th>event_exchange</th>\n",
       "      <th>event_app_or_site</th>\n",
       "      <th>event_app_site_name</th>\n",
       "      <th>event_city</th>\n",
       "      <th>event_country</th>\n",
       "      <th>event_has_gps</th>\n",
       "      <th>...</th>\n",
       "      <th>schedule_start</th>\n",
       "      <th>schedule_end</th>\n",
       "      <th>line_updated_at</th>\n",
       "      <th>mediaplan_daily_budget</th>\n",
       "      <th>mediaplan_id</th>\n",
       "      <th>mediaplan_currency</th>\n",
       "      <th>deal_cpm</th>\n",
       "      <th>event_hash_geo_name</th>\n",
       "      <th>hash_deal_identifier</th>\n",
       "      <th>event_hash_branding_to_store</th>\n",
       "    </tr>\n",
       "  </thead>\n",
       "  <tbody>\n",
       "    <tr>\n",
       "      <td>1886410</td>\n",
       "      <td>2019-08-19</td>\n",
       "      <td>2019-08-19 16:07:25.154 UTC</td>\n",
       "      <td>ec4777dc-2d29-4b29-9558-4d95d2a898ee</td>\n",
       "      <td>click</td>\n",
       "      <td>mopub</td>\n",
       "      <td>app</td>\n",
       "      <td>Paint by Numbers: New Coloring Pictures Book Free</td>\n",
       "      <td>NaN</td>\n",
       "      <td>GBR</td>\n",
       "      <td>False</td>\n",
       "      <td>...</td>\n",
       "      <td>2019-08-04 23:00:00 UTC</td>\n",
       "      <td>2019-09-01 22:59:59 UTC</td>\n",
       "      <td>2019-08-02 16:20:30.569 UTC</td>\n",
       "      <td>NaN</td>\n",
       "      <td>0647004e-6074-479b-9fbc-68a622ee5f1a</td>\n",
       "      <td>USD</td>\n",
       "      <td>NaN</td>\n",
       "      <td>743b98115e4ce339c03c39d92810de496076e2148a672c...</td>\n",
       "      <td>NaN</td>\n",
       "      <td>NaN</td>\n",
       "    </tr>\n",
       "  </tbody>\n",
       "</table>\n",
       "<p>1 rows × 45 columns</p>\n",
       "</div>"
      ],
      "text/plain": [
       "               date                    timestamp  \\\n",
       "1886410  2019-08-19  2019-08-19 16:07:25.154 UTC   \n",
       "\n",
       "                             event_auction_id event_type event_exchange  \\\n",
       "1886410  ec4777dc-2d29-4b29-9558-4d95d2a898ee      click          mopub   \n",
       "\n",
       "        event_app_or_site                                event_app_site_name  \\\n",
       "1886410               app  Paint by Numbers: New Coloring Pictures Book Free   \n",
       "\n",
       "        event_city event_country  event_has_gps  ...           schedule_start  \\\n",
       "1886410        NaN           GBR          False  ...  2019-08-04 23:00:00 UTC   \n",
       "\n",
       "                    schedule_end              line_updated_at  \\\n",
       "1886410  2019-09-01 22:59:59 UTC  2019-08-02 16:20:30.569 UTC   \n",
       "\n",
       "        mediaplan_daily_budget                          mediaplan_id  \\\n",
       "1886410                    NaN  0647004e-6074-479b-9fbc-68a622ee5f1a   \n",
       "\n",
       "         mediaplan_currency deal_cpm  \\\n",
       "1886410                 USD      NaN   \n",
       "\n",
       "                                       event_hash_geo_name  \\\n",
       "1886410  743b98115e4ce339c03c39d92810de496076e2148a672c...   \n",
       "\n",
       "         hash_deal_identifier  event_hash_branding_to_store  \n",
       "1886410                   NaN                           NaN  \n",
       "\n",
       "[1 rows x 45 columns]"
      ]
     },
     "execution_count": 17,
     "metadata": {},
     "output_type": "execute_result"
    }
   ],
   "source": [
    "clicks_event[clicks_event.duplicated(keep='first')]"
   ]
  },
  {
   "cell_type": "code",
   "execution_count": null,
   "metadata": {},
   "outputs": [],
   "source": []
  }
 ],
 "metadata": {
  "kernelspec": {
   "display_name": "Python 3",
   "language": "python",
   "name": "python3"
  },
  "language_info": {
   "codemirror_mode": {
    "name": "ipython",
    "version": 3
   },
   "file_extension": ".py",
   "mimetype": "text/x-python",
   "name": "python",
   "nbconvert_exporter": "python",
   "pygments_lexer": "ipython3",
   "version": "3.7.4"
  }
 },
 "nbformat": 4,
 "nbformat_minor": 2
}
