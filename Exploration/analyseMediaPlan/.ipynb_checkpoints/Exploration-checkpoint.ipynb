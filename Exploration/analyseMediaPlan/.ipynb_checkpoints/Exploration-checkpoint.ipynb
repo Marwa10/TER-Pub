{
 "cells": [
  {
   "cell_type": "markdown",
   "metadata": {},
   "source": [
    "<hr style=\"border_width:3px;border-color:\"#FFFFFF\">\n",
    "<center> Data Exploration <center/>\n",
    "<hr style=\"border_width:3px;border-color:\"#FFFFFF\">\n",
    "                                                  \n",
    "                                                  \n",
    "                                            "
   ]
  },
  {
   "cell_type": "code",
   "execution_count": 1,
   "metadata": {},
   "outputs": [],
   "source": [
    "import pandas as pd\n",
    "import numpy as np"
   ]
  },
  {
   "cell_type": "markdown",
   "metadata": {},
   "source": [
    "## Lecture du fichier"
   ]
  },
  {
   "cell_type": "code",
   "execution_count": 25,
   "metadata": {},
   "outputs": [],
   "source": [
    "db = pd.read_csv(\"Datas/df_tabmo.csv\")"
   ]
  },
  {
   "cell_type": "markdown",
   "metadata": {},
   "source": [
    "Dimension du jeu de données"
   ]
  },
  {
   "cell_type": "code",
   "execution_count": 80,
   "metadata": {},
   "outputs": [
    {
     "data": {
      "text/plain": [
       "(240289, 45)"
      ]
     },
     "execution_count": 80,
     "metadata": {},
     "output_type": "execute_result"
    }
   ],
   "source": [
    "db.shape"
   ]
  },
  {
   "cell_type": "markdown",
   "metadata": {},
   "source": [
    "## Nettoyage des données"
   ]
  },
  {
   "cell_type": "markdown",
   "metadata": {},
   "source": [
    "### Retrait de modalités inutiles pour la variable event_type"
   ]
  },
  {
   "cell_type": "code",
   "execution_count": 77,
   "metadata": {},
   "outputs": [],
   "source": [
    "db = db[db['event_type'].isin([\"sspwin\",\n",
    "                        \"win\",\n",
    "                        \"mute\",\n",
    "                        \"umute\",\n",
    "                        \"firstQuartile\",\n",
    "                        \"midPoint\",\n",
    "                        \"thirdQuartile\",\n",
    "                        \"complete\",\n",
    "                        \"start\",\n",
    "                        \"pause\",\n",
    "                        \"slide\",\n",
    "                        \"resume\",\n",
    "                        \"click\",\n",
    "                        \"impression\"])]"
   ]
  },
  {
   "cell_type": "markdown",
   "metadata": {},
   "source": [
    "## Analyse de la variable *event_type* en fonction des Campagne"
   ]
  },
  {
   "cell_type": "markdown",
   "metadata": {},
   "source": [
    "*Dans un premier, il s'agit de regarder la fréquence d'apparition des campagnes dans le jeu de données*"
   ]
  },
  {
   "cell_type": "code",
   "execution_count": 78,
   "metadata": {},
   "outputs": [],
   "source": [
    "campagne= db['mediaplan_id'].value_counts()"
   ]
  },
  {
   "cell_type": "code",
   "execution_count": 79,
   "metadata": {
    "collapsed": true
   },
   "outputs": [
    {
     "data": {
      "text/plain": [
       "2588ff4e-9765-4fda-9175-09a32ad985f5    105893\n",
       "d0884e3e-75b0-4f9a-b87f-d2a3f95336af     30925\n",
       "ea1c135a-6354-421f-9598-16c39b7e4f13     18146\n",
       "3ab0ad73-a6c3-4396-96e1-8b5203069520      8010\n",
       "36b52954-1374-4b4a-87ac-75296a1392ce      5836\n",
       "Name: mediaplan_id, dtype: int64"
      ]
     },
     "execution_count": 79,
     "metadata": {},
     "output_type": "execute_result"
    }
   ],
   "source": [
    "campagne.head()"
   ]
  },
  {
   "cell_type": "code",
   "execution_count": 82,
   "metadata": {},
   "outputs": [
    {
     "data": {
      "text/plain": [
       "96.48839522408433"
      ]
     },
     "execution_count": 82,
     "metadata": {},
     "output_type": "execute_result"
    }
   ],
   "source": [
    "np.sum(campagne.head(50))/db.shape[0]*100"
   ]
  },
  {
   "cell_type": "markdown",
   "metadata": {},
   "source": [
    "En prenant les 50 première campagnes, on conserve 96% du jeu de données"
   ]
  },
  {
   "cell_type": "code",
   "execution_count": 83,
   "metadata": {
    "collapsed": true
   },
   "outputs": [
    {
     "data": {
      "text/plain": [
       "2588ff4e-9765-4fda-9175-09a32ad985f5    105893\n",
       "d0884e3e-75b0-4f9a-b87f-d2a3f95336af     30925\n",
       "ea1c135a-6354-421f-9598-16c39b7e4f13     18146\n",
       "3ab0ad73-a6c3-4396-96e1-8b5203069520      8010\n",
       "36b52954-1374-4b4a-87ac-75296a1392ce      5836\n",
       "7aebed2b-52d3-4a56-862f-b92041e8b605      4764\n",
       "f4e4ec2f-e096-4c12-a833-ef4e2c942425      4648\n",
       "4caf53ca-2608-4351-a213-b7fbf442978e      4626\n",
       "b4409cfa-4ecf-4760-a0fa-c1dfa4000ef0      3738\n",
       "d804d581-9c11-4f80-84d2-b559fb02df1e      3695\n",
       "af8fdb95-b6d0-422d-8be4-3f759fb67389      3147\n",
       "378f0ed5-369f-419c-b74c-14ad2d7b4481      2519\n",
       "5c14575a-f6c5-49d7-a28e-03ed496d1a26      2372\n",
       "cbebf1b8-5eec-4be1-b223-21edceea06e8      2113\n",
       "51328c0a-5507-49db-ab4d-c228e362ca75      1996\n",
       "011d0170-5a80-43ae-897a-d8e4c0c479a0      1988\n",
       "45825fe0-9ef3-45cb-87fa-58a663d7ce70      1940\n",
       "26b4b9c7-6897-4e49-90b7-b7e85cd35f13      1912\n",
       "f810cbd5-fcf5-464f-b26c-d8721b893a85      1686\n",
       "22288c82-b3ad-484d-b362-5a4c4df48131      1625\n",
       "ef9ea8d9-ed97-469b-9ce0-c0ff01e0b7c1      1598\n",
       "1d4909dd-3ffa-4a8b-995d-ebd2d8bb1631      1528\n",
       "0514f614-4151-4693-8941-f6cadf392ad1      1308\n",
       "6f06548b-41f9-4e0e-9dbc-fad9aef1f6c8      1295\n",
       "07e77938-85d6-477b-80ea-49a1013f1847       991\n",
       "da8c3112-2b86-418a-8e0d-7da1efdaf49b       862\n",
       "88ce09c0-7480-4c46-bdda-0feac2af3df7       787\n",
       "6456a759-2149-44ed-b9cf-18889aae4b4a       716\n",
       "4fbbc609-cace-4b79-8c96-802da43b8ca8       715\n",
       "d38e7d44-e77a-4543-aa91-36f04caadd8f       701\n",
       "e5ad2763-ee97-4d4a-8eef-dedc673223e2       685\n",
       "3d568adc-5790-4af8-9df5-46c43beb5bff       637\n",
       "01a6d652-3378-4e7c-8fbb-a3157884fd32       618\n",
       "05c8144c-b664-4b12-8148-914b7fe39b92       605\n",
       "b00360f7-10b7-4f22-997a-64cf8ad5af73       586\n",
       "7d0e3c39-e08c-41bf-bf38-f42445a302a4       561\n",
       "a35bf1da-6e87-4e08-9389-e6c4aa8a5f8b       561\n",
       "fe3ad2a3-f61d-4d81-b627-ee2fe929062f       542\n",
       "46fee3fd-f889-48d4-8c7a-fd2d4edef389       525\n",
       "c1942cdb-820f-405f-a887-bb8b3ecc546f       512\n",
       "067d287f-f0a6-4846-931a-da1934d7e43f       510\n",
       "69b6dbde-794c-4aea-8362-c74b2d3c883f       464\n",
       "fed22126-6256-4440-9b75-2520a6161753       441\n",
       "969b55d6-b39f-4c08-9b57-4df6f4e9bfb8       394\n",
       "f4c3e867-79c1-4fd7-9b47-4d93a995c688       389\n",
       "a7cbc1f9-7cf6-4e77-a2ad-864be1675bb1       386\n",
       "6c625b5b-adfc-40ff-b798-4e2b8e9e4192       384\n",
       "44cd261a-fb38-4868-9b84-c07b152563e0       343\n",
       "82c8ac42-45a8-4d78-9ef5-e46914e88b1f       315\n",
       "f6f03483-afff-4a1f-a911-2b1f01bd8448       313\n",
       "Name: mediaplan_id, dtype: int64"
      ]
     },
     "execution_count": 83,
     "metadata": {},
     "output_type": "execute_result"
    }
   ],
   "source": [
    "campagne.head(50)"
   ]
  }
 ],
 "metadata": {
  "kernelspec": {
   "display_name": "Python 3",
   "language": "python",
   "name": "python3"
  },
  "language_info": {
   "codemirror_mode": {
    "name": "ipython",
    "version": 3
   },
   "file_extension": ".py",
   "mimetype": "text/x-python",
   "name": "python",
   "nbconvert_exporter": "python",
   "pygments_lexer": "ipython3",
   "version": "3.7.4"
  }
 },
 "nbformat": 4,
 "nbformat_minor": 2
}
