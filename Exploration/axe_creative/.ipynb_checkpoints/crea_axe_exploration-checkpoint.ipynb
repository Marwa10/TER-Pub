{
 "cells": [
  {
   "cell_type": "code",
   "execution_count": 2,
   "metadata": {},
   "outputs": [],
   "source": [
    "import pandas as pd\n",
    "import numpy as np\n",
    "import matplotlib.pyplot as plt"
   ]
  },
  {
   "cell_type": "code",
   "execution_count": null,
   "metadata": {},
   "outputs": [],
   "source": []
  },
  {
   "cell_type": "code",
   "execution_count": 16,
   "metadata": {},
   "outputs": [],
   "source": [
    "data = pd.read_csv(\"../../../data/df_tabmo_oneWeek.csv\",low_memory=False)"
   ]
  },
  {
   "cell_type": "markdown",
   "metadata": {},
   "source": [
    "\"Quelles publicités génèrent une conversion? Pour les pubs classiques, celà correspond à un event_type de type click\""
   ]
  },
  {
   "cell_type": "code",
   "execution_count": 31,
   "metadata": {},
   "outputs": [],
   "source": [
    "ev_type_without_media_type = data[data.event_media_type.isna()].event_type"
   ]
  },
  {
   "cell_type": "code",
   "execution_count": 32,
   "metadata": {},
   "outputs": [
    {
     "data": {
      "text/plain": [
       "Series([], Name: event_type, dtype: object)"
      ]
     },
     "execution_count": 32,
     "metadata": {},
     "output_type": "execute_result"
    }
   ],
   "source": [
    "ev_type_without_media_type[ev_type_without_media_type != 'click']"
   ]
  },
  {
   "cell_type": "markdown",
   "metadata": {},
   "source": [
    "##### Aucune information sur l'event media type des click..."
   ]
  },
  {
   "cell_type": "code",
   "execution_count": 17,
   "metadata": {},
   "outputs": [],
   "source": [
    "clicks_event = data[data[\"event_type\"] == \"click\"]"
   ]
  },
  {
   "cell_type": "code",
   "execution_count": 18,
   "metadata": {},
   "outputs": [
    {
     "data": {
      "text/html": [
       "<div>\n",
       "<style scoped>\n",
       "    .dataframe tbody tr th:only-of-type {\n",
       "        vertical-align: middle;\n",
       "    }\n",
       "\n",
       "    .dataframe tbody tr th {\n",
       "        vertical-align: top;\n",
       "    }\n",
       "\n",
       "    .dataframe thead th {\n",
       "        text-align: right;\n",
       "    }\n",
       "</style>\n",
       "<table border=\"1\" class=\"dataframe\">\n",
       "  <thead>\n",
       "    <tr style=\"text-align: right;\">\n",
       "      <th></th>\n",
       "      <th>date</th>\n",
       "      <th>timestamp</th>\n",
       "      <th>event_auction_id</th>\n",
       "      <th>event_type</th>\n",
       "      <th>event_exchange</th>\n",
       "      <th>event_app_or_site</th>\n",
       "      <th>event_app_site_name</th>\n",
       "      <th>event_city</th>\n",
       "      <th>event_country</th>\n",
       "      <th>event_has_gps</th>\n",
       "      <th>...</th>\n",
       "      <th>schedule_start</th>\n",
       "      <th>schedule_end</th>\n",
       "      <th>line_updated_at</th>\n",
       "      <th>mediaplan_daily_budget</th>\n",
       "      <th>mediaplan_id</th>\n",
       "      <th>mediaplan_currency</th>\n",
       "      <th>deal_cpm</th>\n",
       "      <th>event_hash_geo_name</th>\n",
       "      <th>hash_deal_identifier</th>\n",
       "      <th>event_hash_branding_to_store</th>\n",
       "    </tr>\n",
       "  </thead>\n",
       "  <tbody>\n",
       "    <tr>\n",
       "      <td>1886410</td>\n",
       "      <td>2019-08-19</td>\n",
       "      <td>2019-08-19 16:07:25.154 UTC</td>\n",
       "      <td>ec4777dc-2d29-4b29-9558-4d95d2a898ee</td>\n",
       "      <td>click</td>\n",
       "      <td>mopub</td>\n",
       "      <td>app</td>\n",
       "      <td>Paint by Numbers: New Coloring Pictures Book Free</td>\n",
       "      <td>NaN</td>\n",
       "      <td>GBR</td>\n",
       "      <td>False</td>\n",
       "      <td>...</td>\n",
       "      <td>2019-08-04 23:00:00 UTC</td>\n",
       "      <td>2019-09-01 22:59:59 UTC</td>\n",
       "      <td>2019-08-02 16:20:30.569 UTC</td>\n",
       "      <td>NaN</td>\n",
       "      <td>0647004e-6074-479b-9fbc-68a622ee5f1a</td>\n",
       "      <td>USD</td>\n",
       "      <td>NaN</td>\n",
       "      <td>743b98115e4ce339c03c39d92810de496076e2148a672c...</td>\n",
       "      <td>NaN</td>\n",
       "      <td>NaN</td>\n",
       "    </tr>\n",
       "  </tbody>\n",
       "</table>\n",
       "<p>1 rows × 45 columns</p>\n",
       "</div>"
      ],
      "text/plain": [
       "               date                    timestamp  \\\n",
       "1886410  2019-08-19  2019-08-19 16:07:25.154 UTC   \n",
       "\n",
       "                             event_auction_id event_type event_exchange  \\\n",
       "1886410  ec4777dc-2d29-4b29-9558-4d95d2a898ee      click          mopub   \n",
       "\n",
       "        event_app_or_site                                event_app_site_name  \\\n",
       "1886410               app  Paint by Numbers: New Coloring Pictures Book Free   \n",
       "\n",
       "        event_city event_country  event_has_gps  ...           schedule_start  \\\n",
       "1886410        NaN           GBR          False  ...  2019-08-04 23:00:00 UTC   \n",
       "\n",
       "                    schedule_end              line_updated_at  \\\n",
       "1886410  2019-09-01 22:59:59 UTC  2019-08-02 16:20:30.569 UTC   \n",
       "\n",
       "        mediaplan_daily_budget                          mediaplan_id  \\\n",
       "1886410                    NaN  0647004e-6074-479b-9fbc-68a622ee5f1a   \n",
       "\n",
       "         mediaplan_currency deal_cpm  \\\n",
       "1886410                 USD      NaN   \n",
       "\n",
       "                                       event_hash_geo_name  \\\n",
       "1886410  743b98115e4ce339c03c39d92810de496076e2148a672c...   \n",
       "\n",
       "         hash_deal_identifier  event_hash_branding_to_store  \n",
       "1886410                   NaN                           NaN  \n",
       "\n",
       "[1 rows x 45 columns]"
      ]
     },
     "execution_count": 18,
     "metadata": {},
     "output_type": "execute_result"
    }
   ],
   "source": [
    "clicks_event[clicks_event.duplicated(keep='first')]"
   ]
  },
  {
   "cell_type": "code",
   "execution_count": 19,
   "metadata": {},
   "outputs": [
    {
     "data": {
      "text/html": [
       "<div>\n",
       "<style scoped>\n",
       "    .dataframe tbody tr th:only-of-type {\n",
       "        vertical-align: middle;\n",
       "    }\n",
       "\n",
       "    .dataframe tbody tr th {\n",
       "        vertical-align: top;\n",
       "    }\n",
       "\n",
       "    .dataframe thead th {\n",
       "        text-align: right;\n",
       "    }\n",
       "</style>\n",
       "<table border=\"1\" class=\"dataframe\">\n",
       "  <thead>\n",
       "    <tr style=\"text-align: right;\">\n",
       "      <th></th>\n",
       "      <th>event_connection_type</th>\n",
       "      <th>win_price</th>\n",
       "      <th>win_price_loc</th>\n",
       "      <th>event_ias_cpm</th>\n",
       "      <th>longitude</th>\n",
       "      <th>latitude</th>\n",
       "      <th>event_hash_ifa</th>\n",
       "      <th>event_hash_ip</th>\n",
       "      <th>event_imp_multiplier</th>\n",
       "      <th>mediaplan_daily_budget</th>\n",
       "      <th>deal_cpm</th>\n",
       "    </tr>\n",
       "  </thead>\n",
       "  <tbody>\n",
       "    <tr>\n",
       "      <td>count</td>\n",
       "      <td>0.0</td>\n",
       "      <td>6566.0</td>\n",
       "      <td>6566.0</td>\n",
       "      <td>0.0</td>\n",
       "      <td>0.0</td>\n",
       "      <td>0.0</td>\n",
       "      <td>4.862000e+03</td>\n",
       "      <td>6.566000e+03</td>\n",
       "      <td>0.0</td>\n",
       "      <td>2082.000000</td>\n",
       "      <td>424.000000</td>\n",
       "    </tr>\n",
       "    <tr>\n",
       "      <td>mean</td>\n",
       "      <td>NaN</td>\n",
       "      <td>0.0</td>\n",
       "      <td>0.0</td>\n",
       "      <td>NaN</td>\n",
       "      <td>NaN</td>\n",
       "      <td>NaN</td>\n",
       "      <td>-4.994717e+17</td>\n",
       "      <td>-8.192457e+16</td>\n",
       "      <td>NaN</td>\n",
       "      <td>758.263449</td>\n",
       "      <td>8.716321</td>\n",
       "    </tr>\n",
       "    <tr>\n",
       "      <td>std</td>\n",
       "      <td>NaN</td>\n",
       "      <td>0.0</td>\n",
       "      <td>0.0</td>\n",
       "      <td>NaN</td>\n",
       "      <td>NaN</td>\n",
       "      <td>NaN</td>\n",
       "      <td>5.230091e+18</td>\n",
       "      <td>5.156824e+18</td>\n",
       "      <td>NaN</td>\n",
       "      <td>746.163443</td>\n",
       "      <td>3.957941</td>\n",
       "    </tr>\n",
       "    <tr>\n",
       "      <td>min</td>\n",
       "      <td>NaN</td>\n",
       "      <td>0.0</td>\n",
       "      <td>0.0</td>\n",
       "      <td>NaN</td>\n",
       "      <td>NaN</td>\n",
       "      <td>NaN</td>\n",
       "      <td>-9.219411e+18</td>\n",
       "      <td>-9.222204e+18</td>\n",
       "      <td>NaN</td>\n",
       "      <td>20.000000</td>\n",
       "      <td>3.220000</td>\n",
       "    </tr>\n",
       "    <tr>\n",
       "      <td>25%</td>\n",
       "      <td>NaN</td>\n",
       "      <td>0.0</td>\n",
       "      <td>0.0</td>\n",
       "      <td>NaN</td>\n",
       "      <td>NaN</td>\n",
       "      <td>NaN</td>\n",
       "      <td>-4.646648e+18</td>\n",
       "      <td>-4.277920e+18</td>\n",
       "      <td>NaN</td>\n",
       "      <td>170.000000</td>\n",
       "      <td>4.800000</td>\n",
       "    </tr>\n",
       "    <tr>\n",
       "      <td>50%</td>\n",
       "      <td>NaN</td>\n",
       "      <td>0.0</td>\n",
       "      <td>0.0</td>\n",
       "      <td>NaN</td>\n",
       "      <td>NaN</td>\n",
       "      <td>NaN</td>\n",
       "      <td>-8.426718e+17</td>\n",
       "      <td>-5.717070e+17</td>\n",
       "      <td>NaN</td>\n",
       "      <td>715.000000</td>\n",
       "      <td>9.000000</td>\n",
       "    </tr>\n",
       "    <tr>\n",
       "      <td>75%</td>\n",
       "      <td>NaN</td>\n",
       "      <td>0.0</td>\n",
       "      <td>0.0</td>\n",
       "      <td>NaN</td>\n",
       "      <td>NaN</td>\n",
       "      <td>NaN</td>\n",
       "      <td>3.820089e+18</td>\n",
       "      <td>4.296983e+18</td>\n",
       "      <td>NaN</td>\n",
       "      <td>1400.000000</td>\n",
       "      <td>9.000000</td>\n",
       "    </tr>\n",
       "    <tr>\n",
       "      <td>max</td>\n",
       "      <td>NaN</td>\n",
       "      <td>0.0</td>\n",
       "      <td>0.0</td>\n",
       "      <td>NaN</td>\n",
       "      <td>NaN</td>\n",
       "      <td>NaN</td>\n",
       "      <td>9.212582e+18</td>\n",
       "      <td>9.218535e+18</td>\n",
       "      <td>NaN</td>\n",
       "      <td>3000.000000</td>\n",
       "      <td>17.000000</td>\n",
       "    </tr>\n",
       "  </tbody>\n",
       "</table>\n",
       "</div>"
      ],
      "text/plain": [
       "       event_connection_type  win_price  win_price_loc  event_ias_cpm  \\\n",
       "count                    0.0     6566.0         6566.0            0.0   \n",
       "mean                     NaN        0.0            0.0            NaN   \n",
       "std                      NaN        0.0            0.0            NaN   \n",
       "min                      NaN        0.0            0.0            NaN   \n",
       "25%                      NaN        0.0            0.0            NaN   \n",
       "50%                      NaN        0.0            0.0            NaN   \n",
       "75%                      NaN        0.0            0.0            NaN   \n",
       "max                      NaN        0.0            0.0            NaN   \n",
       "\n",
       "       longitude  latitude  event_hash_ifa  event_hash_ip  \\\n",
       "count        0.0       0.0    4.862000e+03   6.566000e+03   \n",
       "mean         NaN       NaN   -4.994717e+17  -8.192457e+16   \n",
       "std          NaN       NaN    5.230091e+18   5.156824e+18   \n",
       "min          NaN       NaN   -9.219411e+18  -9.222204e+18   \n",
       "25%          NaN       NaN   -4.646648e+18  -4.277920e+18   \n",
       "50%          NaN       NaN   -8.426718e+17  -5.717070e+17   \n",
       "75%          NaN       NaN    3.820089e+18   4.296983e+18   \n",
       "max          NaN       NaN    9.212582e+18   9.218535e+18   \n",
       "\n",
       "       event_imp_multiplier  mediaplan_daily_budget    deal_cpm  \n",
       "count                   0.0             2082.000000  424.000000  \n",
       "mean                    NaN              758.263449    8.716321  \n",
       "std                     NaN              746.163443    3.957941  \n",
       "min                     NaN               20.000000    3.220000  \n",
       "25%                     NaN              170.000000    4.800000  \n",
       "50%                     NaN              715.000000    9.000000  \n",
       "75%                     NaN             1400.000000    9.000000  \n",
       "max                     NaN             3000.000000   17.000000  "
      ]
     },
     "execution_count": 19,
     "metadata": {},
     "output_type": "execute_result"
    }
   ],
   "source": [
    "clicks_event.describe()"
   ]
  },
  {
   "cell_type": "markdown",
   "metadata": {},
   "source": [
    "Regardons alors les creative"
   ]
  },
  {
   "cell_type": "code",
   "execution_count": 35,
   "metadata": {},
   "outputs": [
    {
     "data": {
      "text/plain": [
       "javascript      1537\n",
       "mraid2          1167\n",
       "banner           994\n",
       "html             604\n",
       "vast             560\n",
       "mraid1           492\n",
       "fullscreen       433\n",
       "adspot           338\n",
       "gpstore          298\n",
       "audiospot        100\n",
       "innercube         34\n",
       "native             8\n",
       "spinningcube       1\n",
       "Name: creative_type, dtype: int64"
      ]
     },
     "execution_count": 35,
     "metadata": {},
     "output_type": "execute_result"
    }
   ],
   "source": [
    "clicks_event.creative_type.value_counts()"
   ]
  },
  {
   "cell_type": "code",
   "execution_count": 45,
   "metadata": {},
   "outputs": [],
   "source": [
    "crea_type_proportion_for_clicks = clicks_event.creative_type.value_counts().values"
   ]
  },
  {
   "cell_type": "code",
   "execution_count": 46,
   "metadata": {},
   "outputs": [],
   "source": [
    "crea_type_proportion_for_clicks_labels = clicks_event.creative_type.value_counts().index"
   ]
  },
  {
   "cell_type": "code",
   "execution_count": 52,
   "metadata": {},
   "outputs": [
    {
     "data": {
      "text/plain": [
       "Index(['javascript', 'mraid2', 'banner', 'html', 'vast'], dtype='object')"
      ]
     },
     "execution_count": 52,
     "metadata": {},
     "output_type": "execute_result"
    }
   ],
   "source": [
    "crea_type_proportion_for_clicks_labels[:5]"
   ]
  },
  {
   "cell_type": "code",
   "execution_count": 55,
   "metadata": {},
   "outputs": [
    {
     "data": {
      "image/png": "[encoded data removed]",
      "text/plain": [
       "<Figure size 432x288 with 1 Axes>"
      ]
     },
     "metadata": {},
     "output_type": "display_data"
    }
   ],
   "source": [
    "fig1, ax1 = plt.subplots()\n",
    "ax1.pie(list(crea_type_proportion_for_clicks[:5]),labels=crea_type_proportion_for_clicks_labels[:5],autopct='%1.1f%%')\n",
    "plt.show()"
   ]
  },
  {
   "cell_type": "code",
   "execution_count": 10,
   "metadata": {},
   "outputs": [
    {
     "data": {
      "text/plain": [
       "Series([], Name: event_media_type, dtype: int64)"
      ]
     },
     "execution_count": 10,
     "metadata": {},
     "output_type": "execute_result"
    }
   ],
   "source": [
    "clicks_event.event_media_type.value_counts()"
   ]
  },
  {
   "cell_type": "code",
   "execution_count": 1,
   "metadata": {},
   "outputs": [
    {
     "ename": "NameError",
     "evalue": "name 'plt' is not defined",
     "output_type": "error",
     "traceback": [
      "\u001b[0;31m---------------------------------------------------------------------------\u001b[0m",
      "\u001b[0;31mNameError\u001b[0m                                 Traceback (most recent call last)",
      "\u001b[0;32m<ipython-input-1-4cdae0adfa55>\u001b[0m in \u001b[0;36m<module>\u001b[0;34m\u001b[0m\n\u001b[0;32m----> 1\u001b[0;31m \u001b[0mfig1\u001b[0m\u001b[0;34m,\u001b[0m \u001b[0max1\u001b[0m \u001b[0;34m=\u001b[0m \u001b[0mplt\u001b[0m\u001b[0;34m.\u001b[0m\u001b[0msubplots\u001b[0m\u001b[0;34m(\u001b[0m\u001b[0;34m)\u001b[0m\u001b[0;34m\u001b[0m\u001b[0;34m\u001b[0m\u001b[0m\n\u001b[0m\u001b[1;32m      2\u001b[0m \u001b[0;34m\u001b[0m\u001b[0m\n\u001b[1;32m      3\u001b[0m \u001b[0mnb_de_app\u001b[0m \u001b[0;34m=\u001b[0m \u001b[0msum\u001b[0m\u001b[0;34m(\u001b[0m\u001b[0mclicks_event\u001b[0m\u001b[0;34m[\u001b[0m\u001b[0;34m'event_app_or_site'\u001b[0m\u001b[0;34m]\u001b[0m \u001b[0;34m==\u001b[0m \u001b[0;34m'app'\u001b[0m\u001b[0;34m)\u001b[0m\u001b[0;34m\u001b[0m\u001b[0;34m\u001b[0m\u001b[0m\n\u001b[1;32m      4\u001b[0m \u001b[0mnb_de_site\u001b[0m \u001b[0;34m=\u001b[0m \u001b[0msum\u001b[0m\u001b[0;34m(\u001b[0m\u001b[0mclicks_event\u001b[0m\u001b[0;34m[\u001b[0m\u001b[0;34m'event_app_or_site'\u001b[0m\u001b[0;34m]\u001b[0m \u001b[0;34m==\u001b[0m \u001b[0;34m'site'\u001b[0m\u001b[0;34m)\u001b[0m\u001b[0;34m\u001b[0m\u001b[0;34m\u001b[0m\u001b[0m\n\u001b[1;32m      5\u001b[0m \u001b[0;34m\u001b[0m\u001b[0m\n",
      "\u001b[0;31mNameError\u001b[0m: name 'plt' is not defined"
     ]
    }
   ],
   "source": [
    "fig1, ax1 = plt.subplots()\n",
    "\n",
    "nb_de_app = sum(clicks_event['event_app_or_site'] == 'app')\n",
    "nb_de_site = sum(clicks_event['event_app_or_site'] == 'site')\n",
    "\n",
    "size = [nb_de_app,nb_de_site]\n",
    "\n",
    "ax1.pie(size,labels=['app','site'],autopct='%1.1f%%')\n",
    "\n",
    "plt.show()"
   ]
  },
  {
   "cell_type": "code",
   "execution_count": null,
   "metadata": {},
   "outputs": [],
   "source": []
  },
  {
   "cell_type": "code",
   "execution_count": null,
   "metadata": {},
   "outputs": [],
   "source": []
  },
  {
   "cell_type": "code",
   "execution_count": 20,
   "metadata": {},
   "outputs": [
    {
     "data": {
      "text/html": [
       "<div>\n",
       "<style scoped>\n",
       "    .dataframe tbody tr th:only-of-type {\n",
       "        vertical-align: middle;\n",
       "    }\n",
       "\n",
       "    .dataframe tbody tr th {\n",
       "        vertical-align: top;\n",
       "    }\n",
       "\n",
       "    .dataframe thead th {\n",
       "        text-align: right;\n",
       "    }\n",
       "</style>\n",
       "<table border=\"1\" class=\"dataframe\">\n",
       "  <thead>\n",
       "    <tr style=\"text-align: right;\">\n",
       "      <th></th>\n",
       "      <th>event_has_gps</th>\n",
       "      <th>event_connection_type</th>\n",
       "      <th>event_has_ifa</th>\n",
       "      <th>win_price</th>\n",
       "      <th>win_price_loc</th>\n",
       "      <th>event_ias_cpm</th>\n",
       "      <th>longitude</th>\n",
       "      <th>latitude</th>\n",
       "      <th>event_hash_ifa</th>\n",
       "      <th>event_hash_ip</th>\n",
       "      <th>event_imp_multiplier</th>\n",
       "      <th>mediaplan_daily_budget</th>\n",
       "      <th>deal_cpm</th>\n",
       "    </tr>\n",
       "    <tr>\n",
       "      <th>event_app_or_site</th>\n",
       "      <th></th>\n",
       "      <th></th>\n",
       "      <th></th>\n",
       "      <th></th>\n",
       "      <th></th>\n",
       "      <th></th>\n",
       "      <th></th>\n",
       "      <th></th>\n",
       "      <th></th>\n",
       "      <th></th>\n",
       "      <th></th>\n",
       "      <th></th>\n",
       "      <th></th>\n",
       "    </tr>\n",
       "  </thead>\n",
       "  <tbody>\n",
       "    <tr>\n",
       "      <td>app</td>\n",
       "      <td>False</td>\n",
       "      <td>0.0</td>\n",
       "      <td>False</td>\n",
       "      <td>0.0</td>\n",
       "      <td>0.0</td>\n",
       "      <td>0.0</td>\n",
       "      <td>0.0</td>\n",
       "      <td>0.0</td>\n",
       "      <td>-2.428431e+21</td>\n",
       "      <td>-7.240335e+20</td>\n",
       "      <td>0.0</td>\n",
       "      <td>1575028.5</td>\n",
       "      <td>1033.60</td>\n",
       "    </tr>\n",
       "    <tr>\n",
       "      <td>site</td>\n",
       "      <td>False</td>\n",
       "      <td>0.0</td>\n",
       "      <td>False</td>\n",
       "      <td>0.0</td>\n",
       "      <td>0.0</td>\n",
       "      <td>0.0</td>\n",
       "      <td>0.0</td>\n",
       "      <td>0.0</td>\n",
       "      <td>0.000000e+00</td>\n",
       "      <td>1.861168e+20</td>\n",
       "      <td>0.0</td>\n",
       "      <td>3676.0</td>\n",
       "      <td>2662.12</td>\n",
       "    </tr>\n",
       "  </tbody>\n",
       "</table>\n",
       "</div>"
      ],
      "text/plain": [
       "                   event_has_gps  event_connection_type  event_has_ifa  \\\n",
       "event_app_or_site                                                        \n",
       "app                        False                    0.0          False   \n",
       "site                       False                    0.0          False   \n",
       "\n",
       "                   win_price  win_price_loc  event_ias_cpm  longitude  \\\n",
       "event_app_or_site                                                       \n",
       "app                      0.0            0.0            0.0        0.0   \n",
       "site                     0.0            0.0            0.0        0.0   \n",
       "\n",
       "                   latitude  event_hash_ifa  event_hash_ip  \\\n",
       "event_app_or_site                                            \n",
       "app                     0.0   -2.428431e+21  -7.240335e+20   \n",
       "site                    0.0    0.000000e+00   1.861168e+20   \n",
       "\n",
       "                   event_imp_multiplier  mediaplan_daily_budget  deal_cpm  \n",
       "event_app_or_site                                                          \n",
       "app                                 0.0               1575028.5   1033.60  \n",
       "site                                0.0                  3676.0   2662.12  "
      ]
     },
     "execution_count": 20,
     "metadata": {},
     "output_type": "execute_result"
    }
   ],
   "source": [
    "clicks_event.groupby('event_app_or_site')"
   ]
  }
 ],
 "metadata": {
  "kernelspec": {
   "display_name": "Python 3",
   "language": "python",
   "name": "python3"
  },
  "language_info": {
   "codemirror_mode": {
    "name": "ipython",
    "version": 3
   },
   "file_extension": ".py",
   "mimetype": "text/x-python",
   "name": "python",
   "nbconvert_exporter": "python",
   "pygments_lexer": "ipython3",
   "version": "3.7.4"
  }
 },
 "nbformat": 4,
 "nbformat_minor": 2
}
