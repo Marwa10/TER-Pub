{
 "cells": [
  {
   "cell_type": "markdown",
   "metadata": {},
   "source": [
    "<hr>\n",
    "<center><b>Machine learning sur les données tabmo</center> <br>\n",
    "<center><b>Over sampling </center> <br>\n",
    "<hr>"
   ]
  },
  {
   "cell_type": "markdown",
   "metadata": {},
   "source": [
    "# Objectif "
   ]
  },
  {
   "cell_type": "markdown",
   "metadata": {},
   "source": [
    "# Import"
   ]
  },
  {
   "cell_type": "code",
   "execution_count": 4,
   "metadata": {
    "ExecuteTime": {
     "end_time": "2020-03-11T11:08:23.647988Z",
     "start_time": "2020-03-11T11:08:21.073168Z"
    },
    "hide_input": false
   },
   "outputs": [],
   "source": [
    "import pandas as pd\n",
    "import numpy as np\n",
    "import seaborn as sns\n",
    "import matplotlib.pyplot as plt\n",
    "from jupyterthemes import jtplot\n",
    "from sklearn import preprocessing\n",
    "from sklearn.preprocessing import scale, normalize\n",
    "from sklearn.decomposition import TruncatedSVD\n",
    "from sklearn.linear_model import LogisticRegression\n",
    "from sklearn.model_selection import train_test_split\n",
    "from sklearn.model_selection import GridSearchCV, RandomizedSearchCV\n",
    "from sklearn.metrics import classification_report\n",
    "from sklearn import metrics\n",
    "from imblearn.over_sampling import SMOTE\n",
    "from sklearn.svm import SVC, LinearSVC\n",
    "sns.set(style=\"whitegrid\")"
   ]
  },
  {
   "cell_type": "markdown",
   "metadata": {},
   "source": [
    "# Data import & exploration"
   ]
  },
  {
   "cell_type": "code",
   "execution_count": 5,
   "metadata": {
    "ExecuteTime": {
     "end_time": "2020-03-11T11:09:11.157730Z",
     "start_time": "2020-03-11T11:09:10.722235Z"
    },
    "hide_input": false
   },
   "outputs": [
    {
     "name": "stdout",
     "output_type": "stream",
     "text": [
      "Taille : (92056, 78) \n",
      "Variables : Index(['auction_id', 'click', 'exchange', 'app_or_site', 'has_gps',\n",
      "       'device_type', 'connection_type', 'creative_size', 'has_ifa',\n",
      "       'win_price', 'win_price_loc', 'bidder_name', 'Device_language',\n",
      "       'Country_language', 'Device_lg_Equals_country_lg', 'Continent',\n",
      "       'Country_name', 'City', 'Timestamp', 'IAB1', 'IAB1%', 'IAB10', 'IAB11',\n",
      "       'IAB12', 'IAB13', 'IAB14', 'IAB15', 'IAB16', 'IAB17', 'IAB18', 'IAB19',\n",
      "       'IAB2', 'IAB20', 'IAB21', 'IAB22', 'IAB23', 'IAB24', 'IAB26', 'IAB3',\n",
      "       'IAB3%', 'IAB4', 'IAB5', 'IAB6', 'IAB7', 'IAB8', 'IAB9', 'IAB9%',\n",
      "       'books', 'busin', 'educa', 'enter', 'finan', 'games', 'healt', 'lifes',\n",
      "       'medic', 'music', 'navig', 'news', 'photo', 'produ', 'refer', 'socia',\n",
      "       'sport', 'trave', 'unkno', 'utili', 'weath', 'fullOsInfo',\n",
      "       'Timestamp_second', 'Timestamp_minute', 'Timestamp_hour',\n",
      "       'Timestamp_DayOfWeek', 'Timestamp_DayOfMonth', 'Timestamp_Month',\n",
      "       'Days_Since_Campaign_Starts', 'Days_Before_Campaign_Ends',\n",
      "       'Campaign_Duration'],\n",
      "      dtype='object')\n"
     ]
    }
   ],
   "source": [
    "df = pd.read_csv(\"data_one_month_cleaned.csv\", low_memory=False)\n",
    "print(\"Taille :\",df.shape,\n",
    "     \"\\nVariables :\",df.columns) "
   ]
  },
  {
   "cell_type": "markdown",
   "metadata": {},
   "source": [
    "# Data cleaning"
   ]
  },
  {
   "cell_type": "code",
   "execution_count": 6,
   "metadata": {},
   "outputs": [],
   "source": [
    "df.drop(['auction_id', 'win_price_loc', 'Campaign_Duration',\n",
    "         'Timestamp','Timestamp_Month'],axis = 1, inplace = True)\n",
    "creative_size = df['creative_size'].str.split('x',expand=True)\n",
    "df['creative_size1'] = creative_size[0]\n",
    "df['creative_size2'] = creative_size[1]\n",
    "df['win_price'] = pd.qcut(df[\"win_price\"],10)\n",
    "df['Timestamp_hour'] = pd.cut(df.Timestamp_hour, 4, labels=['nuit','Matin','Aprem','Soir'])\n",
    "df['Timestamp_minute'] = pd.cut(df.Timestamp_minute,4)\n",
    "df.drop(\"creative_size\", axis=1, inplace=True)\n",
    "y_0_X = df[df['click'] == 0]\n",
    "y_0_X_reduced = y_0_X.sample(frac=0.50)\n",
    "df = pd.concat([y_0_X_reduced,df[df['click'] == 1]])"
   ]
  },
  {
   "cell_type": "markdown",
   "metadata": {},
   "source": [
    "## Get Labels values"
   ]
  },
  {
   "cell_type": "code",
   "execution_count": 7,
   "metadata": {},
   "outputs": [],
   "source": [
    "le = preprocessing.LabelEncoder()\n",
    "for i in range(len(df.columns)):\n",
    "    le.fit(list(df[df.columns[i]].value_counts().index))\n",
    "    df[df.columns[i]]=le.transform(df[df.columns[i]]) \n",
    "y = df['click']\n",
    "X = df.drop(['click'],axis =1)"
   ]
  },
  {
   "cell_type": "markdown",
   "metadata": {},
   "source": [
    "## SVD for dimensionnal reduction"
   ]
  },
  {
   "cell_type": "code",
   "execution_count": 8,
   "metadata": {
    "ExecuteTime": {
     "end_time": "2020-03-11T11:09:38.886930Z",
     "start_time": "2020-03-11T11:09:38.080217Z"
    }
   },
   "outputs": [
    {
     "name": "stdout",
     "output_type": "stream",
     "text": [
      "Pourcentage d'inertie :  0.9869179266410516\n"
     ]
    }
   ],
   "source": [
    "svd = TruncatedSVD(n_components=10, n_iter=7, random_state=42)\n",
    "X_normalized = normalize(X) # Normalize before svd\n",
    "X_transformed = svd.fit_transform(X_normalized)\n",
    "print(\"Pourcentage d'inertie : \", svd.explained_variance_ratio_.sum())"
   ]
  },
  {
   "cell_type": "code",
   "execution_count": 9,
   "metadata": {
    "ExecuteTime": {
     "end_time": "2020-03-11T11:09:40.108987Z",
     "start_time": "2020-03-11T11:09:40.095204Z"
    },
    "scrolled": true
   },
   "outputs": [
    {
     "name": "stdout",
     "output_type": "stream",
     "text": [
      "Shape before SVD :  (49403, 10) \n",
      "Shape after SVD :  (49403, 10)\n"
     ]
    }
   ],
   "source": [
    "## Concatenate dataframe for modelization\n",
    "X = pd.DataFrame(X_transformed)\n",
    "print(\"Shape before SVD : \",X.shape,\"\\nShape after SVD : \", X.shape,)"
   ]
  },
  {
   "cell_type": "code",
   "execution_count": 10,
   "metadata": {
    "ExecuteTime": {
     "end_time": "2020-03-11T10:38:47.380223Z",
     "start_time": "2020-03-11T10:38:47.353604Z"
    },
    "scrolled": true
   },
   "outputs": [
    {
     "data": {
      "text/html": [
       "<div>\n",
       "<style scoped>\n",
       "    .dataframe tbody tr th:only-of-type {\n",
       "        vertical-align: middle;\n",
       "    }\n",
       "\n",
       "    .dataframe tbody tr th {\n",
       "        vertical-align: top;\n",
       "    }\n",
       "\n",
       "    .dataframe thead th {\n",
       "        text-align: right;\n",
       "    }\n",
       "</style>\n",
       "<table border=\"1\" class=\"dataframe\">\n",
       "  <thead>\n",
       "    <tr style=\"text-align: right;\">\n",
       "      <th></th>\n",
       "      <th>0</th>\n",
       "      <th>1</th>\n",
       "      <th>2</th>\n",
       "      <th>3</th>\n",
       "      <th>4</th>\n",
       "      <th>5</th>\n",
       "      <th>6</th>\n",
       "      <th>7</th>\n",
       "      <th>8</th>\n",
       "      <th>9</th>\n",
       "    </tr>\n",
       "  </thead>\n",
       "  <tbody>\n",
       "    <tr>\n",
       "      <td>0</td>\n",
       "      <td>0.899785</td>\n",
       "      <td>-0.070116</td>\n",
       "      <td>0.285947</td>\n",
       "      <td>-0.157796</td>\n",
       "      <td>0.042590</td>\n",
       "      <td>-0.234501</td>\n",
       "      <td>-0.113636</td>\n",
       "      <td>-0.049739</td>\n",
       "      <td>-0.022232</td>\n",
       "      <td>0.060873</td>\n",
       "    </tr>\n",
       "    <tr>\n",
       "      <td>1</td>\n",
       "      <td>0.930597</td>\n",
       "      <td>-0.096547</td>\n",
       "      <td>0.311966</td>\n",
       "      <td>-0.080453</td>\n",
       "      <td>0.027123</td>\n",
       "      <td>-0.017902</td>\n",
       "      <td>-0.025079</td>\n",
       "      <td>-0.104831</td>\n",
       "      <td>-0.017254</td>\n",
       "      <td>0.065140</td>\n",
       "    </tr>\n",
       "    <tr>\n",
       "      <td>2</td>\n",
       "      <td>0.767689</td>\n",
       "      <td>0.450106</td>\n",
       "      <td>-0.115546</td>\n",
       "      <td>0.290493</td>\n",
       "      <td>-0.267433</td>\n",
       "      <td>0.012437</td>\n",
       "      <td>-0.009008</td>\n",
       "      <td>-0.042623</td>\n",
       "      <td>-0.021745</td>\n",
       "      <td>-0.014857</td>\n",
       "    </tr>\n",
       "    <tr>\n",
       "      <td>3</td>\n",
       "      <td>0.902979</td>\n",
       "      <td>-0.357777</td>\n",
       "      <td>0.113404</td>\n",
       "      <td>0.053722</td>\n",
       "      <td>-0.110344</td>\n",
       "      <td>-0.120856</td>\n",
       "      <td>-0.094509</td>\n",
       "      <td>-0.040544</td>\n",
       "      <td>-0.050281</td>\n",
       "      <td>-0.011715</td>\n",
       "    </tr>\n",
       "    <tr>\n",
       "      <td>4</td>\n",
       "      <td>0.965086</td>\n",
       "      <td>-0.014702</td>\n",
       "      <td>-0.182578</td>\n",
       "      <td>0.022528</td>\n",
       "      <td>-0.120715</td>\n",
       "      <td>-0.076009</td>\n",
       "      <td>-0.061202</td>\n",
       "      <td>-0.072711</td>\n",
       "      <td>-0.006887</td>\n",
       "      <td>-0.025054</td>\n",
       "    </tr>\n",
       "  </tbody>\n",
       "</table>\n",
       "</div>"
      ],
      "text/plain": [
       "          0         1         2         3         4         5         6  \\\n",
       "0  0.899785 -0.070116  0.285947 -0.157796  0.042590 -0.234501 -0.113636   \n",
       "1  0.930597 -0.096547  0.311966 -0.080453  0.027123 -0.017902 -0.025079   \n",
       "2  0.767689  0.450106 -0.115546  0.290493 -0.267433  0.012437 -0.009008   \n",
       "3  0.902979 -0.357777  0.113404  0.053722 -0.110344 -0.120856 -0.094509   \n",
       "4  0.965086 -0.014702 -0.182578  0.022528 -0.120715 -0.076009 -0.061202   \n",
       "\n",
       "          7         8         9  \n",
       "0 -0.049739 -0.022232  0.060873  \n",
       "1 -0.104831 -0.017254  0.065140  \n",
       "2 -0.042623 -0.021745 -0.014857  \n",
       "3 -0.040544 -0.050281 -0.011715  \n",
       "4 -0.072711 -0.006887 -0.025054  "
      ]
     },
     "execution_count": 10,
     "metadata": {},
     "output_type": "execute_result"
    }
   ],
   "source": [
    "X.head()"
   ]
  },
  {
   "cell_type": "markdown",
   "metadata": {},
   "source": [
    "## Train & test sample split"
   ]
  },
  {
   "cell_type": "code",
   "execution_count": 11,
   "metadata": {
    "ExecuteTime": {
     "end_time": "2020-03-11T11:10:21.157378Z",
     "start_time": "2020-03-11T11:10:21.132488Z"
    }
   },
   "outputs": [],
   "source": [
    "X_train, X_test, y_train, y_test = train_test_split(\n",
    "     X, y, test_size = 0.30, random_state = 42)"
   ]
  },
  {
   "cell_type": "markdown",
   "metadata": {},
   "source": [
    "# Labels repartition"
   ]
  },
  {
   "cell_type": "code",
   "execution_count": 12,
   "metadata": {},
   "outputs": [
    {
     "data": {
      "text/plain": [
       "<matplotlib.axes._subplots.AxesSubplot at 0x7fb52a62c190>"
      ]
     },
     "execution_count": 12,
     "metadata": {},
     "output_type": "execute_result"
    },
    {
     "data": {
      "image/png": "[encoded data removed]",
      "text/plain": [
       "<Figure size 432x288 with 1 Axes>"
      ]
     },
     "metadata": {
      "needs_background": "light"
     },
     "output_type": "display_data"
    }
   ],
   "source": [
    "y_train.value_counts().plot(kind = 'bar')"
   ]
  },
  {
   "cell_type": "markdown",
   "metadata": {},
   "source": [
    "# Oversampling"
   ]
  },
  {
   "cell_type": "code",
   "execution_count": 13,
   "metadata": {
    "ExecuteTime": {
     "end_time": "2020-03-11T11:10:31.384995Z",
     "start_time": "2020-03-11T11:10:31.117009Z"
    }
   },
   "outputs": [
    {
     "data": {
      "text/plain": [
       "<matplotlib.axes._subplots.AxesSubplot at 0x7fb529949910>"
      ]
     },
     "execution_count": 13,
     "metadata": {},
     "output_type": "execute_result"
    },
    {
     "data": {
      "image/png": "[encoded data removed]",
      "text/plain": [
       "<Figure size 432x288 with 1 Axes>"
      ]
     },
     "metadata": {
      "needs_background": "light"
     },
     "output_type": "display_data"
    }
   ],
   "source": [
    "smt = SMOTE()\n",
    "X_train, y_train = smt.fit_sample(X_train, y_train)\n",
    "y_train.value_counts().plot(kind = 'bar')"
   ]
  },
  {
   "cell_type": "markdown",
   "metadata": {},
   "source": [
    "# Les  modèles testés"
   ]
  },
  {
   "cell_type": "markdown",
   "metadata": {},
   "source": [
    "## Support Vector Machine"
   ]
  },
  {
   "cell_type": "markdown",
   "metadata": {},
   "source": [
    "     - Les SVM pour Support Vector Machines\n",
    "     - Méthode de Boosting, AdaBoost et GradientBoosting"
   ]
  },
  {
   "cell_type": "code",
   "execution_count": 14,
   "metadata": {},
   "outputs": [],
   "source": [
    "def svc_param_selection(X, y):\n",
    "    Cs = [0.001, 0.01, 0.1, 1, 10, 25, 50, 75, 100]\n",
    "    gammas = np.arange(0,1,0.1)\n",
    "    param_grid = {'C': Cs, 'gamma' : gammas, 'kernel':('linear', 'rbf')}\n",
    "    grid_search = GridSearchCV(SVC(kernel='rbf'), param_grid, cv=5)\n",
    "    grid_search.fit(X, y)\n",
    "    grid_search.best_params_\n",
    "    return grid_search.best_params_"
   ]
  },
  {
   "cell_type": "code",
   "execution_count": null,
   "metadata": {},
   "outputs": [],
   "source": [
    "clf_svm = svc_param_selection(X_train, y_train)"
   ]
  },
  {
   "cell_type": "code",
   "execution_count": null,
   "metadata": {},
   "outputs": [],
   "source": []
  },
  {
   "cell_type": "code",
   "execution_count": null,
   "metadata": {},
   "outputs": [],
   "source": []
  }
 ],
 "metadata": {
  "kernelspec": {
   "display_name": "Python 3",
   "language": "python",
   "name": "python3"
  },
  "language_info": {
   "codemirror_mode": {
    "name": "ipython",
    "version": 3
   },
   "file_extension": ".py",
   "mimetype": "text/x-python",
   "name": "python",
   "nbconvert_exporter": "python",
   "pygments_lexer": "ipython3",
   "version": "3.7.4"
  },
  "toc": {
   "base_numbering": 1,
   "nav_menu": {},
   "number_sections": true,
   "sideBar": true,
   "skip_h1_title": false,
   "title_cell": "Table of Contents",
   "title_sidebar": "Contents",
   "toc_cell": false,
   "toc_position": {},
   "toc_section_display": true,
   "toc_window_display": true
  }
 },
 "nbformat": 4,
 "nbformat_minor": 2
}
