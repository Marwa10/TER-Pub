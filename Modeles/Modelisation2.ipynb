{
 "cells": [
  {
   "cell_type": "code",
   "execution_count": 1,
   "metadata": {
    "ExecuteTime": {
     "end_time": "2020-04-28T15:28:25.302875Z",
     "start_time": "2020-04-28T15:28:23.276737Z"
    }
   },
   "outputs": [],
   "source": [
    "import pandas as pd\n",
    "from sklearn.ensemble import AdaBoostClassifier, BaggingClassifier \n",
    "from sklearn.tree import DecisionTreeClassifier\n",
    "from sklearn.model_selection import train_test_split \n",
    "from sklearn.metrics import f1_score \n",
    "import pandas as pd\n",
    "import numpy as np\n",
    "from sklearn.metrics import classification_report, confusion_matrix\n",
    "import pandas as pd\n",
    "from sklearn import ensemble\n",
    "from sklearn.model_selection import train_test_split\n",
    "from sklearn.svm import SVC\n",
    "import matplotlib.pyplot as plt\n",
    "from sklearn.metrics import classification_report , mean_squared_error, roc_curve, auc\n",
    "%matplotlib inline\n",
    "from sklearn.ensemble import GradientBoostingClassifier"
   ]
  },
  {
   "cell_type": "code",
   "execution_count": 3,
   "metadata": {
    "ExecuteTime": {
     "end_time": "2020-04-28T15:29:16.494137Z",
     "start_time": "2020-04-28T15:29:15.699656Z"
    }
   },
   "outputs": [
    {
     "name": "stderr",
     "output_type": "stream",
     "text": [
      "/Users/marwa/anaconda3/lib/python3.7/site-packages/IPython/core/interactiveshell.py:3057: DtypeWarning: Columns (5) have mixed types. Specify dtype option on import or set low_memory=False.\n",
      "  interactivity=interactivity, compiler=compiler, result=result)\n"
     ]
    },
    {
     "data": {
      "text/html": [
       "<div>\n",
       "<style scoped>\n",
       "    .dataframe tbody tr th:only-of-type {\n",
       "        vertical-align: middle;\n",
       "    }\n",
       "\n",
       "    .dataframe tbody tr th {\n",
       "        vertical-align: top;\n",
       "    }\n",
       "\n",
       "    .dataframe thead th {\n",
       "        text-align: right;\n",
       "    }\n",
       "</style>\n",
       "<table border=\"1\" class=\"dataframe\">\n",
       "  <thead>\n",
       "    <tr style=\"text-align: right;\">\n",
       "      <th></th>\n",
       "      <th>auction_id</th>\n",
       "      <th>click</th>\n",
       "      <th>exchange</th>\n",
       "      <th>app_or_site</th>\n",
       "      <th>has_gps</th>\n",
       "      <th>device_type</th>\n",
       "      <th>connection_type</th>\n",
       "      <th>creative_size</th>\n",
       "      <th>has_ifa</th>\n",
       "      <th>win_price</th>\n",
       "      <th>...</th>\n",
       "      <th>fullOsInfo</th>\n",
       "      <th>Timestamp_second</th>\n",
       "      <th>Timestamp_minute</th>\n",
       "      <th>Timestamp_hour</th>\n",
       "      <th>Timestamp_DayOfWeek</th>\n",
       "      <th>Timestamp_DayOfMonth</th>\n",
       "      <th>Timestamp_Month</th>\n",
       "      <th>Days_Since_Campaign_Starts</th>\n",
       "      <th>Days_Before_Campaign_Ends</th>\n",
       "      <th>Campaign_Duration</th>\n",
       "    </tr>\n",
       "  </thead>\n",
       "  <tbody>\n",
       "    <tr>\n",
       "      <th>0</th>\n",
       "      <td>00013c2d-c680-4108-ac8d-8606d72b6fd0</td>\n",
       "      <td>0</td>\n",
       "      <td>mopub</td>\n",
       "      <td>app</td>\n",
       "      <td>True</td>\n",
       "      <td>1</td>\n",
       "      <td>2</td>\n",
       "      <td>300x250</td>\n",
       "      <td>True</td>\n",
       "      <td>0.430000</td>\n",
       "      <td>...</td>\n",
       "      <td>Android9</td>\n",
       "      <td>53</td>\n",
       "      <td>57</td>\n",
       "      <td>15</td>\n",
       "      <td>7</td>\n",
       "      <td>2</td>\n",
       "      <td>11</td>\n",
       "      <td>34</td>\n",
       "      <td>8</td>\n",
       "      <td>42</td>\n",
       "    </tr>\n",
       "    <tr>\n",
       "      <th>1</th>\n",
       "      <td>0009ade41e7048ab19ba9ea839b246cb7f8fbaec_43</td>\n",
       "      <td>0</td>\n",
       "      <td>rubicon</td>\n",
       "      <td>site</td>\n",
       "      <td>False</td>\n",
       "      <td>4</td>\n",
       "      <td>unknown</td>\n",
       "      <td>320x50</td>\n",
       "      <td>False</td>\n",
       "      <td>0.149999</td>\n",
       "      <td>...</td>\n",
       "      <td>iOS13</td>\n",
       "      <td>16</td>\n",
       "      <td>9</td>\n",
       "      <td>1</td>\n",
       "      <td>6</td>\n",
       "      <td>8</td>\n",
       "      <td>11</td>\n",
       "      <td>2</td>\n",
       "      <td>53</td>\n",
       "      <td>55</td>\n",
       "    </tr>\n",
       "    <tr>\n",
       "      <th>2</th>\n",
       "      <td>0010e5a6-418c-4250-a257-9027f1ecfdd9</td>\n",
       "      <td>1</td>\n",
       "      <td>mopub</td>\n",
       "      <td>app</td>\n",
       "      <td>True</td>\n",
       "      <td>1</td>\n",
       "      <td>2</td>\n",
       "      <td>300x250</td>\n",
       "      <td>True</td>\n",
       "      <td>1.750000</td>\n",
       "      <td>...</td>\n",
       "      <td>Android7</td>\n",
       "      <td>30</td>\n",
       "      <td>11</td>\n",
       "      <td>5</td>\n",
       "      <td>5</td>\n",
       "      <td>14</td>\n",
       "      <td>11</td>\n",
       "      <td>3</td>\n",
       "      <td>2</td>\n",
       "      <td>5</td>\n",
       "    </tr>\n",
       "    <tr>\n",
       "      <th>3</th>\n",
       "      <td>00184670-d598-4e99-b067-13ae9aac471e</td>\n",
       "      <td>0</td>\n",
       "      <td>mopub</td>\n",
       "      <td>app</td>\n",
       "      <td>True</td>\n",
       "      <td>4</td>\n",
       "      <td>2</td>\n",
       "      <td>320x50</td>\n",
       "      <td>True</td>\n",
       "      <td>0.480000</td>\n",
       "      <td>...</td>\n",
       "      <td>iOS13</td>\n",
       "      <td>18</td>\n",
       "      <td>22</td>\n",
       "      <td>21</td>\n",
       "      <td>4</td>\n",
       "      <td>27</td>\n",
       "      <td>11</td>\n",
       "      <td>1</td>\n",
       "      <td>9</td>\n",
       "      <td>10</td>\n",
       "    </tr>\n",
       "    <tr>\n",
       "      <th>4</th>\n",
       "      <td>001f282c-efeb-4735-9a45-853c0c161039</td>\n",
       "      <td>0</td>\n",
       "      <td>mopub</td>\n",
       "      <td>app</td>\n",
       "      <td>True</td>\n",
       "      <td>4</td>\n",
       "      <td>1</td>\n",
       "      <td>320x480</td>\n",
       "      <td>False</td>\n",
       "      <td>1.180000</td>\n",
       "      <td>...</td>\n",
       "      <td>Android7</td>\n",
       "      <td>42</td>\n",
       "      <td>55</td>\n",
       "      <td>10</td>\n",
       "      <td>4</td>\n",
       "      <td>6</td>\n",
       "      <td>11</td>\n",
       "      <td>1</td>\n",
       "      <td>2</td>\n",
       "      <td>3</td>\n",
       "    </tr>\n",
       "  </tbody>\n",
       "</table>\n",
       "<p>5 rows × 78 columns</p>\n",
       "</div>"
      ],
      "text/plain": [
       "                                    auction_id  click exchange app_or_site  \\\n",
       "0         00013c2d-c680-4108-ac8d-8606d72b6fd0      0    mopub         app   \n",
       "1  0009ade41e7048ab19ba9ea839b246cb7f8fbaec_43      0  rubicon        site   \n",
       "2         0010e5a6-418c-4250-a257-9027f1ecfdd9      1    mopub         app   \n",
       "3         00184670-d598-4e99-b067-13ae9aac471e      0    mopub         app   \n",
       "4         001f282c-efeb-4735-9a45-853c0c161039      0    mopub         app   \n",
       "\n",
       "   has_gps device_type connection_type creative_size  has_ifa  win_price  ...  \\\n",
       "0     True           1               2       300x250     True   0.430000  ...   \n",
       "1    False           4         unknown        320x50    False   0.149999  ...   \n",
       "2     True           1               2       300x250     True   1.750000  ...   \n",
       "3     True           4               2        320x50     True   0.480000  ...   \n",
       "4     True           4               1       320x480    False   1.180000  ...   \n",
       "\n",
       "   fullOsInfo Timestamp_second Timestamp_minute Timestamp_hour  \\\n",
       "0    Android9               53               57             15   \n",
       "1       iOS13               16                9              1   \n",
       "2    Android7               30               11              5   \n",
       "3       iOS13               18               22             21   \n",
       "4    Android7               42               55             10   \n",
       "\n",
       "   Timestamp_DayOfWeek Timestamp_DayOfMonth Timestamp_Month  \\\n",
       "0                    7                    2              11   \n",
       "1                    6                    8              11   \n",
       "2                    5                   14              11   \n",
       "3                    4                   27              11   \n",
       "4                    4                    6              11   \n",
       "\n",
       "  Days_Since_Campaign_Starts Days_Before_Campaign_Ends  Campaign_Duration  \n",
       "0                         34                         8                 42  \n",
       "1                          2                        53                 55  \n",
       "2                          3                         2                  5  \n",
       "3                          1                         9                 10  \n",
       "4                          1                         2                  3  \n",
       "\n",
       "[5 rows x 78 columns]"
      ]
     },
     "execution_count": 3,
     "metadata": {},
     "output_type": "execute_result"
    }
   ],
   "source": [
    "df = pd.read_csv(\"data_one_month_cleaned_over_sampling.csv\")\n",
    "df.head()"
   ]
  },
  {
   "cell_type": "code",
   "execution_count": null,
   "metadata": {},
   "outputs": [],
   "source": [
    "#df.drop(df[df.click == 0].sample(70000).index, inplace=True)"
   ]
  },
  {
   "cell_type": "code",
   "execution_count": 4,
   "metadata": {
    "ExecuteTime": {
     "end_time": "2020-04-28T15:29:25.862096Z",
     "start_time": "2020-04-28T15:29:25.856433Z"
    }
   },
   "outputs": [],
   "source": [
    "import random\n",
    "random.seed(1234)"
   ]
  },
  {
   "cell_type": "code",
   "execution_count": 5,
   "metadata": {
    "ExecuteTime": {
     "end_time": "2020-04-28T15:29:28.137314Z",
     "start_time": "2020-04-28T15:29:28.130863Z"
    }
   },
   "outputs": [
    {
     "data": {
      "text/plain": [
       "(92056, 78)"
      ]
     },
     "execution_count": 5,
     "metadata": {},
     "output_type": "execute_result"
    }
   ],
   "source": [
    "df.shape"
   ]
  },
  {
   "cell_type": "code",
   "execution_count": 6,
   "metadata": {
    "ExecuteTime": {
     "end_time": "2020-04-28T15:29:30.244795Z",
     "start_time": "2020-04-28T15:29:30.234784Z"
    }
   },
   "outputs": [
    {
     "data": {
      "text/plain": [
       "0    85306\n",
       "1     6750\n",
       "Name: click, dtype: int64"
      ]
     },
     "execution_count": 6,
     "metadata": {},
     "output_type": "execute_result"
    }
   ],
   "source": [
    "df['click'].value_counts()"
   ]
  },
  {
   "cell_type": "code",
   "execution_count": 7,
   "metadata": {
    "ExecuteTime": {
     "end_time": "2020-04-28T15:29:32.761869Z",
     "start_time": "2020-04-28T15:29:32.565074Z"
    }
   },
   "outputs": [
    {
     "data": {
      "text/plain": [
       "<matplotlib.axes._subplots.AxesSubplot at 0x1a164fbac8>"
      ]
     },
     "execution_count": 7,
     "metadata": {},
     "output_type": "execute_result"
    },
    {
     "data": {
      "image/png": "[encoded data removed]",
      "text/plain": [
       "<Figure size 432x288 with 1 Axes>"
      ]
     },
     "metadata": {
      "needs_background": "light"
     },
     "output_type": "display_data"
    }
   ],
   "source": [
    "df['click'].value_counts().plot(kind='bar')"
   ]
  },
  {
   "cell_type": "code",
   "execution_count": 8,
   "metadata": {
    "ExecuteTime": {
     "end_time": "2020-04-28T15:29:37.167447Z",
     "start_time": "2020-04-28T15:29:37.119766Z"
    }
   },
   "outputs": [],
   "source": [
    "target = df.click\n",
    "data = df.drop(\"click\", axis = 1)"
   ]
  },
  {
   "cell_type": "code",
   "execution_count": 9,
   "metadata": {
    "ExecuteTime": {
     "end_time": "2020-04-28T15:29:40.062579Z",
     "start_time": "2020-04-28T15:29:40.031819Z"
    }
   },
   "outputs": [],
   "source": [
    "data.drop(['auction_id','win_price','IAB1', 'IAB1%', 'IAB10', 'IAB11',\n",
    "       'IAB12', 'IAB13', 'IAB14', 'IAB15', 'IAB16', 'IAB17', 'IAB18', 'IAB19',\n",
    "       'IAB2', 'IAB20', 'IAB21', 'IAB22', 'IAB23', 'IAB24', 'IAB3', 'IAB3%',\n",
    "       'IAB4', 'IAB5', 'IAB6', 'IAB7', 'IAB8', 'IAB9', 'IAB9%', 'books',\n",
    "       'busin', 'educa', 'enter', 'finan', 'games', 'healt', 'lifes', 'medic',\n",
    "       'music', 'navig', 'news', 'photo', 'produ', 'refer', 'socia', 'sport',\n",
    "       'trave', 'unkno', 'utili', 'weath', 'fullOsInfo', 'Country_language',\n",
    "        'Country_language', 'Timestamp', 'Timestamp_second',\n",
    "       'Timestamp_minute', 'IAB26', 'exchange'], axis = 1, inplace = True)"
   ]
  },
  {
   "cell_type": "code",
   "execution_count": 10,
   "metadata": {
    "ExecuteTime": {
     "end_time": "2020-04-28T15:29:45.271064Z",
     "start_time": "2020-04-28T15:29:44.716372Z"
    }
   },
   "outputs": [],
   "source": [
    "col = data.columns\n",
    "for i in col:\n",
    "    if data[i].dtype == 'O' :\n",
    "        data = data.join(pd.get_dummies(data[i], prefix = i))\n",
    "        data.drop([i], axis = 1, inplace = True)"
   ]
  },
  {
   "cell_type": "code",
   "execution_count": 11,
   "metadata": {
    "ExecuteTime": {
     "end_time": "2020-04-28T15:29:47.280698Z",
     "start_time": "2020-04-28T15:29:47.204238Z"
    }
   },
   "outputs": [],
   "source": [
    "X_train,X_test,y_train,y_test = train_test_split(data, target, test_size = 0.3 , random_state = 1234)"
   ]
  },
  {
   "cell_type": "code",
   "execution_count": null,
   "metadata": {
    "ExecuteTime": {
     "start_time": "2020-04-28T15:32:20.205Z"
    }
   },
   "outputs": [],
   "source": [
    "from imblearn.over_sampling import SMOTE\n",
    "smt = SMOTE(random_state = 0)\n",
    "X_train_res, y_train_res = smt.fit_sample(X_train_res, y_train)"
   ]
  },
  {
   "cell_type": "code",
   "execution_count": 13,
   "metadata": {
    "ExecuteTime": {
     "end_time": "2020-04-28T15:29:54.497813Z",
     "start_time": "2020-04-28T15:29:54.461623Z"
    }
   },
   "outputs": [
    {
     "ename": "AttributeError",
     "evalue": "'numpy.ndarray' object has no attribute 'value_counts'",
     "output_type": "error",
     "traceback": [
      "\u001b[0;31m---------------------------------------------------------------------------\u001b[0m",
      "\u001b[0;31mAttributeError\u001b[0m                            Traceback (most recent call last)",
      "\u001b[0;32m<ipython-input-13-a91a94749906>\u001b[0m in \u001b[0;36m<module>\u001b[0;34m\u001b[0m\n\u001b[0;32m----> 1\u001b[0;31m \u001b[0my_train_res\u001b[0m\u001b[0;34m.\u001b[0m\u001b[0mvalue_counts\u001b[0m\u001b[0;34m(\u001b[0m\u001b[0;34m)\u001b[0m\u001b[0;34m.\u001b[0m\u001b[0mplot\u001b[0m\u001b[0;34m(\u001b[0m\u001b[0mkind\u001b[0m\u001b[0;34m=\u001b[0m\u001b[0;34m'bar'\u001b[0m\u001b[0;34m)\u001b[0m\u001b[0;34m\u001b[0m\u001b[0;34m\u001b[0m\u001b[0m\n\u001b[0m",
      "\u001b[0;31mAttributeError\u001b[0m: 'numpy.ndarray' object has no attribute 'value_counts'"
     ]
    }
   ],
   "source": [
    "y_train_res.value_counts().plot(kind='bar')"
   ]
  },
  {
   "cell_type": "code",
   "execution_count": 14,
   "metadata": {
    "ExecuteTime": {
     "end_time": "2020-04-28T15:31:29.671807Z",
     "start_time": "2020-04-28T15:31:29.525520Z"
    }
   },
   "outputs": [
    {
     "data": {
      "text/plain": [
       "<matplotlib.axes._subplots.AxesSubplot at 0x1a16e66c50>"
      ]
     },
     "execution_count": 14,
     "metadata": {},
     "output_type": "execute_result"
    },
    {
     "data": {
      "image/png": "[encoded data removed]",
      "text/plain": [
       "<Figure size 432x288 with 1 Axes>"
      ]
     },
     "metadata": {
      "needs_background": "light"
     },
     "output_type": "display_data"
    }
   ],
   "source": [
    "y_test.value_counts().plot(kind='bar')"
   ]
  },
  {
   "cell_type": "code",
   "execution_count": null,
   "metadata": {},
   "outputs": [],
   "source": [
    "# parametres = dict(C =  [0.1,1,10], kernel = ['rbf', 'linear','poly'], gamma = [0.001,0.01, 0.1, 0.5])\n",
    "# clf = SVC()\n",
    "# grid_clf = GridSearchCV(estimator = clf, param_grid = parametres)\n",
    "# grille = grid_clf.fit(X_train_res,y_train_res)\n",
    "# print(pd.DataFrame.from_dict(grille.cv_results_).loc[:,[\"params\",\"mean_test_score\"]])\n",
    "\n",
    "# print(grid_clf.best_params_)"
   ]
  },
  {
   "cell_type": "markdown",
   "metadata": {},
   "source": [
    "**ALGORITHME :**\n",
    "\n",
    "On part d’un dataset réduit :\n",
    "\n",
    "- 30 % positifs : faire un oversampling spécifique à prendre les cas positifs, analyser la variabilité de paramètre qu’on a entre ces différentes lignes et on en créée de nouveaux (en bougeant juste un peu les variables)\n",
    "\n",
    "- 70 % négatifs avec un échantillon aléatoire\n",
    "\n",
    "On a une métrique qui nous intéresse (F1-score)\n",
    "\n",
    "On fait un modèle sur un échantillon d’apprentissage.\n",
    "\n",
    "On teste le modèle sur un échantillon de test.\n",
    "\n",
    "On calcule F1-score\n",
    "\n",
    "Analyser les erreurs (faux négatifs et faux positifs) et de les corriger\n",
    "\n",
    "* Tant que F1-score est inférieur à 40 % (ou un autre), on prend les input sur lesquels il s’est planté dans l’échantillon de test et les rajouter dans l’échantillon d’apprentissage.\n",
    "\n",
    "* Réapprendre le modèle. Réappliquer sur l’échantillon de test. Réestimer F1-score.\n",
    "\n",
    "* On recommence ça jusqu’à obtenir un F1-score qu’on souhaite obtenir.\n",
    "\n",
    "**IDEE : Corriger petit à petit les erreurs qu’il fait jusqu’à obtenir un F1-score qu’on veut**"
   ]
  },
  {
   "cell_type": "code",
   "execution_count": null,
   "metadata": {
    "ExecuteTime": {
     "start_time": "2020-04-28T15:31:34.086Z"
    }
   },
   "outputs": [
    {
     "name": "stdout",
     "output_type": "stream",
     "text": [
      "f1-score :  0.2604081632653061 \n",
      "\n",
      "              precision    recall  f1-score   support\n",
      "\n",
      "           0       0.94      0.91      0.93     25581\n",
      "           1       0.22      0.31      0.26      2036\n",
      "\n",
      "    accuracy                           0.87     27617\n",
      "   macro avg       0.58      0.61      0.59     27617\n",
      "weighted avg       0.89      0.87      0.88     27617\n",
      " \n",
      "\n",
      "Matrice de confusion : \n",
      " Prédite  False  True \n",
      "Réelle               \n",
      "0        23355   2226\n",
      "1         1398    638\n"
     ]
    },
    {
     "data": {
      "image/png": "[encoded data removed]",
      "text/plain": [
       "<Figure size 432x288 with 1 Axes>"
      ]
     },
     "metadata": {
      "needs_background": "light"
     },
     "output_type": "display_data"
    },
    {
     "data": {
      "image/png": "[encoded data removed]",
      "text/plain": [
       "<Figure size 432x288 with 1 Axes>"
      ]
     },
     "metadata": {
      "needs_background": "light"
     },
     "output_type": "display_data"
    },
    {
     "name": "stdout",
     "output_type": "stream",
     "text": [
      "Vous voulez continuer : oui\n",
      "f1-score :  0.29406392694063926 \n",
      "\n",
      "              precision    recall  f1-score   support\n",
      "\n",
      "           0       0.95      0.93      0.94     25136\n",
      "           1       0.26      0.34      0.29      1896\n",
      "\n",
      "    accuracy                           0.89     27032\n",
      "   macro avg       0.60      0.63      0.62     27032\n",
      "weighted avg       0.90      0.89      0.89     27032\n",
      " \n",
      "\n",
      "Matrice de confusion : \n",
      " Prédite  False  True \n",
      "Réelle               \n",
      "0        23296   1840\n",
      "1         1252    644\n"
     ]
    },
    {
     "data": {
      "image/png": "[encoded data removed]",
      "text/plain": [
       "<Figure size 432x288 with 1 Axes>"
      ]
     },
     "metadata": {
      "needs_background": "light"
     },
     "output_type": "display_data"
    },
    {
     "data": {
      "image/png": "[encoded data removed]",
      "text/plain": [
       "<Figure size 432x288 with 1 Axes>"
      ]
     },
     "metadata": {
      "needs_background": "light"
     },
     "output_type": "display_data"
    },
    {
     "name": "stdout",
     "output_type": "stream",
     "text": [
      "Vous voulez continuer : oui\n",
      "f1-score :  0.3272446616928222 \n",
      "\n",
      "              precision    recall  f1-score   support\n",
      "\n",
      "           0       0.95      0.94      0.95     24768\n",
      "           1       0.30      0.36      0.33      1771\n",
      "\n",
      "    accuracy                           0.90     26539\n",
      "   macro avg       0.63      0.65      0.64     26539\n",
      "weighted avg       0.91      0.90      0.91     26539\n",
      " \n",
      "\n",
      "Matrice de confusion : \n",
      " Prédite  False  True \n",
      "Réelle               \n",
      "0        23288   1480\n",
      "1         1135    636\n"
     ]
    },
    {
     "data": {
      "image/png": "[encoded data removed]",
      "text/plain": [
       "<Figure size 432x288 with 1 Axes>"
      ]
     },
     "metadata": {
      "needs_background": "light"
     },
     "output_type": "display_data"
    },
    {
     "data": {
      "image/png": "[encoded data removed]",
      "text/plain": [
       "<Figure size 432x288 with 1 Axes>"
      ]
     },
     "metadata": {
      "needs_background": "light"
     },
     "output_type": "display_data"
    },
    {
     "name": "stdout",
     "output_type": "stream",
     "text": [
      "Vous voulez continuer : oui\n",
      "f1-score :  0.3610250633624331 \n",
      "\n",
      "              precision    recall  f1-score   support\n",
      "\n",
      "           0       0.96      0.95      0.95     24472\n",
      "           1       0.34      0.39      0.36      1657\n",
      "\n",
      "    accuracy                           0.91     26129\n",
      "   macro avg       0.65      0.67      0.66     26129\n",
      "weighted avg       0.92      0.91      0.92     26129\n",
      " \n",
      "\n",
      "Matrice de confusion : \n",
      " Prédite  False  True \n",
      "Réelle               \n",
      "0        23219   1253\n",
      "1         1016    641\n"
     ]
    },
    {
     "data": {
      "image/png": "[encoded data removed]",
      "text/plain": [
       "<Figure size 432x288 with 1 Axes>"
      ]
     },
     "metadata": {
      "needs_background": "light"
     },
     "output_type": "display_data"
    },
    {
     "data": {
      "image/png": "[encoded data removed]",
      "text/plain": [
       "<Figure size 432x288 with 1 Axes>"
      ]
     },
     "metadata": {
      "needs_background": "light"
     },
     "output_type": "display_data"
    },
    {
     "name": "stdout",
     "output_type": "stream",
     "text": [
      "Vous voulez continuer : oui\n",
      "f1-score :  0.39481996209728365 \n",
      "\n",
      "              precision    recall  f1-score   support\n",
      "\n",
      "           0       0.96      0.96      0.96     24221\n",
      "           1       0.39      0.40      0.39      1555\n",
      "\n",
      "    accuracy                           0.93     25776\n",
      "   macro avg       0.67      0.68      0.68     25776\n",
      "weighted avg       0.93      0.93      0.93     25776\n",
      " \n",
      "\n",
      "Matrice de confusion : \n",
      " Prédite  False  True \n",
      "Réelle               \n",
      "0        23235    986\n",
      "1          930    625\n"
     ]
    },
    {
     "data": {
      "image/png": "[encoded data removed]",
      "text/plain": [
       "<Figure size 432x288 with 1 Axes>"
      ]
     },
     "metadata": {
      "needs_background": "light"
     },
     "output_type": "display_data"
    },
    {
     "data": {
      "image/png": "[encoded data removed]",
      "text/plain": [
       "<Figure size 432x288 with 1 Axes>"
      ]
     },
     "metadata": {
      "needs_background": "light"
     },
     "output_type": "display_data"
    }
   ],
   "source": [
    "i = 0\n",
    "x = []\n",
    "score = []\n",
    "continuer = \"OUI\"\n",
    "while continuer == \"OUI\" : \n",
    "    \n",
    "    # classification\n",
    "    clf = DecisionTreeClassifier()\n",
    "    \n",
    "    # Entrainement\n",
    "    clf.fit(X_train, y_train)\n",
    "    \n",
    "    # Prédiction\n",
    "    #y_pred = clf.predict(X_test)\n",
    "    y_pred = (clf.predict_proba(X_test)[:,1] >= 0.1).astype(bool)\n",
    "    \n",
    "    # Probabilité \n",
    "    probs = clf.predict_proba(X_test)\n",
    "    \n",
    "    # F1-score\n",
    "    f1 = f1_score(y_test, y_pred)\n",
    "    print(\"f1-score : \", f1, \"\\n\")\n",
    "    \n",
    "    i += 1\n",
    "    x.append(str(i))\n",
    "    score.append(f1)\n",
    "    \n",
    "    # classification_report\n",
    "    print(classification_report(y_test, y_pred),\"\\n\")\n",
    "    \n",
    "    # Matrice de confusion\n",
    "    print(\"Matrice de confusion : \\n\", pd.crosstab(y_test, y_pred, rownames=['Réelle'], colnames=['Prédite']))\n",
    "    \n",
    "    # Courbe ROC\n",
    "    fpr, tpr, seuils = roc_curve(y_test, probs[:,1] ,pos_label = 1)\n",
    "    roc_auc = auc(fpr, tpr)\n",
    "    plt.plot(fpr, tpr, color = \"blue\", label = '(auc = ' + str(round(roc_auc,2)) + ')')\n",
    "    plt.plot([0,1],[0,1], color = 'red', linestyle = '--', label = 'Aléatoire (auc = 0.5)')\n",
    "    plt.legend(loc = 'lower right')\n",
    "    plt.title('Courbe ROC')\n",
    "    plt.xlabel('Taux faux positifs')\n",
    "    plt.ylabel('Taux vrais positifs')\n",
    "    plt.xlim([0, 1])\n",
    "    plt.show(); \n",
    "    \n",
    "    # Evolution\n",
    "    plt.scatter(x, score)\n",
    "    plt.show()\n",
    "     \n",
    "    continuer = input('Vous voulez continuer : ').upper()\n",
    "    if continuer == \"OUI\" :\n",
    "        y = pd.DataFrame({\"réel\" : y_test , \"pred\" : y_pred})\n",
    "        faux_negatifs = y[(y[\"pred\"] == 0) & (y[\"réel\"] == 1)]\n",
    "        faux_negatifs_sample = faux_negatifs.sample(frac=0.1, random_state=1234)\n",
    "        faux_positifs = y[(y[\"pred\"] == 1) & (y[\"réel\"] == 0)]\n",
    "        faux_positifs_sample = faux_positifs.sample(frac=0.2, random_state=1234)\n",
    "        faux = pd.concat([faux_negatifs_sample, faux_positifs_sample])\n",
    "        X_test = X_test[~X_test.index.isin(faux.index)]\n",
    "        y_test = y_test[~y_test.index.isin(faux.index)]\n",
    "        X_train = pd.concat([X_train, X_test[X_test.index.isin(faux.index)]])\n",
    "        y_train = pd.concat([y_train, y_test[y_test.index.isin(faux.index)]])"
   ]
  }
 ],
 "metadata": {
  "kernelspec": {
   "display_name": "Python 3",
   "language": "python",
   "name": "python3"
  },
  "language_info": {
   "codemirror_mode": {
    "name": "ipython",
    "version": 3
   },
   "file_extension": ".py",
   "mimetype": "text/x-python",
   "name": "python",
   "nbconvert_exporter": "python",
   "pygments_lexer": "ipython3",
   "version": "3.7.3"
  },
  "toc": {
   "base_numbering": 1,
   "nav_menu": {},
   "number_sections": true,
   "sideBar": true,
   "skip_h1_title": false,
   "title_cell": "Table of Contents",
   "title_sidebar": "Contents",
   "toc_cell": false,
   "toc_position": {},
   "toc_section_display": true,
   "toc_window_display": false
  }
 },
 "nbformat": 4,
 "nbformat_minor": 2
}
