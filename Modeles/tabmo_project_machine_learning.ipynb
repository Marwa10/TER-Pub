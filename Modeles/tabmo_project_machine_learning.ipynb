{
  "nbformat": 4,
  "nbformat_minor": 0,
  "metadata": {
    "colab": {
      "name": "tabmo_project_machine_learning",
      "provenance": [],
      "collapsed_sections": [],
      "toc_visible": true
    },
    "kernelspec": {
      "name": "python3",
      "display_name": "Python 3"
    }
  },
  "cells": [
    {
      "cell_type": "markdown",
      "metadata": {
        "id": "s-IyNj-R0_R_",
        "colab_type": "text"
      },
      "source": [
        "<hr>\n",
        "<center><b>Machine learning sur les données tabmo</center> <br>\n",
        "<center><b>Over sampling </center> <br>\n",
        "<hr>\n",
        "\n"
      ]
    },
    {
      "cell_type": "markdown",
      "metadata": {
        "id": "ZJrPx8sm1LMv",
        "colab_type": "text"
      },
      "source": [
        "# Objectif "
      ]
    },
    {
      "cell_type": "markdown",
      "metadata": {
        "id": "PaHOsTy41MV3",
        "colab_type": "text"
      },
      "source": [
        "# Import"
      ]
    },
    {
      "cell_type": "code",
      "metadata": {
        "id": "dADuCXtx1Wrq",
        "colab_type": "code",
        "colab": {}
      },
      "source": [
        "import pandas as pd\n",
        "import numpy as np\n",
        "import seaborn as sns\n",
        "import matplotlib.pyplot as plt\n",
        "from sklearn.feature_selection import RFE\n",
        "from sklearn import preprocessing\n",
        "from sklearn.svm import LinearSVC\n",
        "from sklearn.preprocessing import scale, StandardScaler, normalize\n",
        "from sklearn.decomposition import TruncatedSVD\n",
        "from sklearn.naive_bayes import GaussianNB\n",
        "from sklearn.linear_model import LogisticRegression\n",
        "from sklearn.model_selection import train_test_split\n",
        "from sklearn.ensemble import AdaBoostRegressor\n",
        "from sklearn.model_selection import RandomizedSearchCV\n",
        "from sklearn.model_selection import GridSearchCV, RandomizedSearchCV\n",
        "from sklearn.tree import DecisionTreeClassifier\n",
        "from sklearn.metrics import accuracy_score\n",
        "from sklearn.neural_network import MLPClassifier\n",
        "from sklearn.metrics import classification_report\n",
        "from sklearn.ensemble import AdaBoostClassifier\n",
        "from sklearn.ensemble import GradientBoostingClassifier\n",
        "from sklearn import metrics\n",
        "from imblearn.over_sampling import SMOTE, ADASYN\n",
        "from sklearn.svm import SVC, LinearSVC\n",
        "from imblearn.over_sampling import RandomOverSampler\n",
        "from imblearn.combine import SMOTETomek\n",
        "sns.set(style=\"whitegrid\")"
      ],
      "execution_count": 0,
      "outputs": []
    },
    {
      "cell_type": "markdown",
      "metadata": {
        "id": "y3X_NwoP1g4m",
        "colab_type": "text"
      },
      "source": [
        "# Data import & exploration"
      ]
    },
    {
      "cell_type": "code",
      "metadata": {
        "id": "QEj2-8er1kJm",
        "colab_type": "code",
        "outputId": "0d900ac4-c141-4b7e-bfed-6cfe385c8fda",
        "colab": {
          "base_uri": "https://localhost:8080/",
          "height": 306
        }
      },
      "source": [
        "read_df = pd.read_csv(\"data.csv\", low_memory=False)\n",
        "read_df, valid = train_test_split(read_df, test_size=0.05, random_state = 42)\n",
        "print(\"Taille :\", read_df.shape,\n",
        "     \"\\nVariables :\", read_df.columns) "
      ],
      "execution_count": 22,
      "outputs": [
        {
          "output_type": "stream",
          "text": [
            "Taille : (87453, 78) \n",
            "Variables : Index(['auction_id', 'click', 'exchange', 'app_or_site', 'has_gps',\n",
            "       'device_type', 'connection_type', 'creative_size', 'has_ifa',\n",
            "       'win_price', 'win_price_loc', 'bidder_name', 'Device_language',\n",
            "       'Country_language', 'Device_lg_Equals_country_lg', 'Continent',\n",
            "       'Country_name', 'City', 'Timestamp', 'IAB1', 'IAB1%', 'IAB10', 'IAB11',\n",
            "       'IAB12', 'IAB13', 'IAB14', 'IAB15', 'IAB16', 'IAB17', 'IAB18', 'IAB19',\n",
            "       'IAB2', 'IAB20', 'IAB21', 'IAB22', 'IAB23', 'IAB24', 'IAB26', 'IAB3',\n",
            "       'IAB3%', 'IAB4', 'IAB5', 'IAB6', 'IAB7', 'IAB8', 'IAB9', 'IAB9%',\n",
            "       'books', 'busin', 'educa', 'enter', 'finan', 'games', 'healt', 'lifes',\n",
            "       'medic', 'music', 'navig', 'news', 'photo', 'produ', 'refer', 'socia',\n",
            "       'sport', 'trave', 'unkno', 'utili', 'weath', 'fullOsInfo',\n",
            "       'Timestamp_second', 'Timestamp_minute', 'Timestamp_hour',\n",
            "       'Timestamp_DayOfWeek', 'Timestamp_DayOfMonth', 'Timestamp_Month',\n",
            "       'Days_Since_Campaign_Starts', 'Days_Before_Campaign_Ends',\n",
            "       'Campaign_Duration'],\n",
            "      dtype='object')\n"
          ],
          "name": "stdout"
        }
      ]
    },
    {
      "cell_type": "markdown",
      "metadata": {
        "id": "boQCsIMS2A0U",
        "colab_type": "text"
      },
      "source": [
        "# Data cleaning"
      ]
    },
    {
      "cell_type": "code",
      "metadata": {
        "id": "bvwNzy0A2M7u",
        "colab_type": "code",
        "colab": {}
      },
      "source": [
        "def cleaning(df,frac=1):\n",
        "  df = df.drop(['auction_id', 'win_price_loc', 'Campaign_Duration',\n",
        "          'Timestamp', 'Timestamp_Month'],axis = 1)\n",
        "  creative_size = df['creative_size'].str.split('x',expand=True)\n",
        "  df['creative_size1'] = creative_size[0]\n",
        "  df['creative_size2'] = creative_size[1]\n",
        "  df['win_price'] = pd.qcut(df[\"win_price\"],10)\n",
        "  df.drop(\"creative_size\", axis=1, inplace=True)\n",
        "  y_0_X = df[df['click'] == 0]\n",
        "  y_0_X_reduced = y_0_X.sample(frac=frac)\n",
        "  return pd.concat([y_0_X_reduced,df[df['click'] == 1]])\n",
        "\n",
        "df = cleaning(read_df,frac=1)"
      ],
      "execution_count": 0,
      "outputs": []
    },
    {
      "cell_type": "code",
      "metadata": {
        "id": "YbckqOzXdjM1",
        "colab_type": "code",
        "colab": {
          "base_uri": "https://localhost:8080/",
          "height": 292
        },
        "outputId": "ae5fcc59-3f33-4706-ff67-663079b839ec"
      },
      "source": [
        "df.head()"
      ],
      "execution_count": 24,
      "outputs": [
        {
          "output_type": "execute_result",
          "data": {
            "text/html": [
              "<div>\n",
              "<style scoped>\n",
              "    .dataframe tbody tr th:only-of-type {\n",
              "        vertical-align: middle;\n",
              "    }\n",
              "\n",
              "    .dataframe tbody tr th {\n",
              "        vertical-align: top;\n",
              "    }\n",
              "\n",
              "    .dataframe thead th {\n",
              "        text-align: right;\n",
              "    }\n",
              "</style>\n",
              "<table border=\"1\" class=\"dataframe\">\n",
              "  <thead>\n",
              "    <tr style=\"text-align: right;\">\n",
              "      <th></th>\n",
              "      <th>click</th>\n",
              "      <th>exchange</th>\n",
              "      <th>app_or_site</th>\n",
              "      <th>has_gps</th>\n",
              "      <th>device_type</th>\n",
              "      <th>connection_type</th>\n",
              "      <th>has_ifa</th>\n",
              "      <th>win_price</th>\n",
              "      <th>bidder_name</th>\n",
              "      <th>Device_language</th>\n",
              "      <th>Country_language</th>\n",
              "      <th>Device_lg_Equals_country_lg</th>\n",
              "      <th>Continent</th>\n",
              "      <th>Country_name</th>\n",
              "      <th>City</th>\n",
              "      <th>IAB1</th>\n",
              "      <th>IAB1%</th>\n",
              "      <th>IAB10</th>\n",
              "      <th>IAB11</th>\n",
              "      <th>IAB12</th>\n",
              "      <th>IAB13</th>\n",
              "      <th>IAB14</th>\n",
              "      <th>IAB15</th>\n",
              "      <th>IAB16</th>\n",
              "      <th>IAB17</th>\n",
              "      <th>IAB18</th>\n",
              "      <th>IAB19</th>\n",
              "      <th>IAB2</th>\n",
              "      <th>IAB20</th>\n",
              "      <th>IAB21</th>\n",
              "      <th>IAB22</th>\n",
              "      <th>IAB23</th>\n",
              "      <th>IAB24</th>\n",
              "      <th>IAB26</th>\n",
              "      <th>IAB3</th>\n",
              "      <th>IAB3%</th>\n",
              "      <th>IAB4</th>\n",
              "      <th>IAB5</th>\n",
              "      <th>IAB6</th>\n",
              "      <th>IAB7</th>\n",
              "      <th>IAB8</th>\n",
              "      <th>IAB9</th>\n",
              "      <th>IAB9%</th>\n",
              "      <th>books</th>\n",
              "      <th>busin</th>\n",
              "      <th>educa</th>\n",
              "      <th>enter</th>\n",
              "      <th>finan</th>\n",
              "      <th>games</th>\n",
              "      <th>healt</th>\n",
              "      <th>lifes</th>\n",
              "      <th>medic</th>\n",
              "      <th>music</th>\n",
              "      <th>navig</th>\n",
              "      <th>news</th>\n",
              "      <th>photo</th>\n",
              "      <th>produ</th>\n",
              "      <th>refer</th>\n",
              "      <th>socia</th>\n",
              "      <th>sport</th>\n",
              "      <th>trave</th>\n",
              "      <th>unkno</th>\n",
              "      <th>utili</th>\n",
              "      <th>weath</th>\n",
              "      <th>fullOsInfo</th>\n",
              "      <th>Timestamp_second</th>\n",
              "      <th>Timestamp_minute</th>\n",
              "      <th>Timestamp_hour</th>\n",
              "      <th>Timestamp_DayOfWeek</th>\n",
              "      <th>Timestamp_DayOfMonth</th>\n",
              "      <th>Days_Since_Campaign_Starts</th>\n",
              "      <th>Days_Before_Campaign_Ends</th>\n",
              "      <th>creative_size1</th>\n",
              "      <th>creative_size2</th>\n",
              "    </tr>\n",
              "  </thead>\n",
              "  <tbody>\n",
              "    <tr>\n",
              "      <th>38494</th>\n",
              "      <td>0</td>\n",
              "      <td>rubicon</td>\n",
              "      <td>site</td>\n",
              "      <td>False</td>\n",
              "      <td>1</td>\n",
              "      <td>unknown</td>\n",
              "      <td>False</td>\n",
              "      <td>(0.18, 0.38]</td>\n",
              "      <td>butor</td>\n",
              "      <td>en</td>\n",
              "      <td>ar</td>\n",
              "      <td>False</td>\n",
              "      <td>Asia</td>\n",
              "      <td>Yemen</td>\n",
              "      <td>Aden</td>\n",
              "      <td>0</td>\n",
              "      <td>0</td>\n",
              "      <td>0</td>\n",
              "      <td>0</td>\n",
              "      <td>1</td>\n",
              "      <td>0</td>\n",
              "      <td>0</td>\n",
              "      <td>0</td>\n",
              "      <td>0</td>\n",
              "      <td>0</td>\n",
              "      <td>0</td>\n",
              "      <td>1</td>\n",
              "      <td>0</td>\n",
              "      <td>0</td>\n",
              "      <td>0</td>\n",
              "      <td>0</td>\n",
              "      <td>0</td>\n",
              "      <td>0</td>\n",
              "      <td>0</td>\n",
              "      <td>0</td>\n",
              "      <td>0</td>\n",
              "      <td>0</td>\n",
              "      <td>0</td>\n",
              "      <td>0</td>\n",
              "      <td>0</td>\n",
              "      <td>0</td>\n",
              "      <td>0</td>\n",
              "      <td>0</td>\n",
              "      <td>0</td>\n",
              "      <td>0</td>\n",
              "      <td>0</td>\n",
              "      <td>0</td>\n",
              "      <td>0</td>\n",
              "      <td>0</td>\n",
              "      <td>0</td>\n",
              "      <td>0</td>\n",
              "      <td>0</td>\n",
              "      <td>0</td>\n",
              "      <td>0</td>\n",
              "      <td>0</td>\n",
              "      <td>0</td>\n",
              "      <td>0</td>\n",
              "      <td>0</td>\n",
              "      <td>0</td>\n",
              "      <td>0</td>\n",
              "      <td>0</td>\n",
              "      <td>0</td>\n",
              "      <td>0</td>\n",
              "      <td>0</td>\n",
              "      <td>Android6</td>\n",
              "      <td>49</td>\n",
              "      <td>49</td>\n",
              "      <td>23</td>\n",
              "      <td>5</td>\n",
              "      <td>21</td>\n",
              "      <td>9</td>\n",
              "      <td>40</td>\n",
              "      <td>300</td>\n",
              "      <td>250</td>\n",
              "    </tr>\n",
              "    <tr>\n",
              "      <th>49059</th>\n",
              "      <td>0</td>\n",
              "      <td>appnexus</td>\n",
              "      <td>site</td>\n",
              "      <td>False</td>\n",
              "      <td>4</td>\n",
              "      <td>unknown</td>\n",
              "      <td>False</td>\n",
              "      <td>(4.571, 9.42]</td>\n",
              "      <td>butor</td>\n",
              "      <td>de</td>\n",
              "      <td>ar</td>\n",
              "      <td>False</td>\n",
              "      <td>Asia</td>\n",
              "      <td>Yemen</td>\n",
              "      <td>Aden</td>\n",
              "      <td>0</td>\n",
              "      <td>0</td>\n",
              "      <td>0</td>\n",
              "      <td>0</td>\n",
              "      <td>0</td>\n",
              "      <td>0</td>\n",
              "      <td>0</td>\n",
              "      <td>0</td>\n",
              "      <td>0</td>\n",
              "      <td>0</td>\n",
              "      <td>0</td>\n",
              "      <td>0</td>\n",
              "      <td>1</td>\n",
              "      <td>0</td>\n",
              "      <td>0</td>\n",
              "      <td>0</td>\n",
              "      <td>0</td>\n",
              "      <td>0</td>\n",
              "      <td>0</td>\n",
              "      <td>0</td>\n",
              "      <td>0</td>\n",
              "      <td>0</td>\n",
              "      <td>0</td>\n",
              "      <td>0</td>\n",
              "      <td>0</td>\n",
              "      <td>0</td>\n",
              "      <td>0</td>\n",
              "      <td>0</td>\n",
              "      <td>0</td>\n",
              "      <td>0</td>\n",
              "      <td>0</td>\n",
              "      <td>0</td>\n",
              "      <td>0</td>\n",
              "      <td>0</td>\n",
              "      <td>0</td>\n",
              "      <td>0</td>\n",
              "      <td>0</td>\n",
              "      <td>0</td>\n",
              "      <td>0</td>\n",
              "      <td>0</td>\n",
              "      <td>0</td>\n",
              "      <td>0</td>\n",
              "      <td>0</td>\n",
              "      <td>0</td>\n",
              "      <td>0</td>\n",
              "      <td>0</td>\n",
              "      <td>0</td>\n",
              "      <td>0</td>\n",
              "      <td>0</td>\n",
              "      <td>Androidunknown</td>\n",
              "      <td>1</td>\n",
              "      <td>54</td>\n",
              "      <td>9</td>\n",
              "      <td>5</td>\n",
              "      <td>21</td>\n",
              "      <td>21</td>\n",
              "      <td>24</td>\n",
              "      <td>320</td>\n",
              "      <td>480</td>\n",
              "    </tr>\n",
              "    <tr>\n",
              "      <th>89334</th>\n",
              "      <td>0</td>\n",
              "      <td>rubicon</td>\n",
              "      <td>site</td>\n",
              "      <td>False</td>\n",
              "      <td>1</td>\n",
              "      <td>unknown</td>\n",
              "      <td>False</td>\n",
              "      <td>(9.42, 109.122]</td>\n",
              "      <td>butor</td>\n",
              "      <td>fr</td>\n",
              "      <td>ar</td>\n",
              "      <td>False</td>\n",
              "      <td>Asia</td>\n",
              "      <td>Yemen</td>\n",
              "      <td>Aden</td>\n",
              "      <td>0</td>\n",
              "      <td>0</td>\n",
              "      <td>0</td>\n",
              "      <td>0</td>\n",
              "      <td>0</td>\n",
              "      <td>0</td>\n",
              "      <td>0</td>\n",
              "      <td>0</td>\n",
              "      <td>0</td>\n",
              "      <td>0</td>\n",
              "      <td>0</td>\n",
              "      <td>0</td>\n",
              "      <td>0</td>\n",
              "      <td>0</td>\n",
              "      <td>0</td>\n",
              "      <td>0</td>\n",
              "      <td>0</td>\n",
              "      <td>0</td>\n",
              "      <td>0</td>\n",
              "      <td>0</td>\n",
              "      <td>0</td>\n",
              "      <td>0</td>\n",
              "      <td>0</td>\n",
              "      <td>0</td>\n",
              "      <td>0</td>\n",
              "      <td>0</td>\n",
              "      <td>0</td>\n",
              "      <td>0</td>\n",
              "      <td>0</td>\n",
              "      <td>0</td>\n",
              "      <td>0</td>\n",
              "      <td>0</td>\n",
              "      <td>0</td>\n",
              "      <td>0</td>\n",
              "      <td>0</td>\n",
              "      <td>0</td>\n",
              "      <td>0</td>\n",
              "      <td>0</td>\n",
              "      <td>0</td>\n",
              "      <td>0</td>\n",
              "      <td>0</td>\n",
              "      <td>0</td>\n",
              "      <td>0</td>\n",
              "      <td>0</td>\n",
              "      <td>0</td>\n",
              "      <td>0</td>\n",
              "      <td>1</td>\n",
              "      <td>0</td>\n",
              "      <td>0</td>\n",
              "      <td>iOS12</td>\n",
              "      <td>16</td>\n",
              "      <td>41</td>\n",
              "      <td>20</td>\n",
              "      <td>1</td>\n",
              "      <td>3</td>\n",
              "      <td>14</td>\n",
              "      <td>0</td>\n",
              "      <td>728</td>\n",
              "      <td>90</td>\n",
              "    </tr>\n",
              "    <tr>\n",
              "      <th>55249</th>\n",
              "      <td>0</td>\n",
              "      <td>doubleclick</td>\n",
              "      <td>site</td>\n",
              "      <td>False</td>\n",
              "      <td>4</td>\n",
              "      <td>unknown</td>\n",
              "      <td>False</td>\n",
              "      <td>(-0.001, 0.09]</td>\n",
              "      <td>albatros</td>\n",
              "      <td>unknown</td>\n",
              "      <td>ar</td>\n",
              "      <td>False</td>\n",
              "      <td>Asia</td>\n",
              "      <td>Yemen</td>\n",
              "      <td>Aden</td>\n",
              "      <td>0</td>\n",
              "      <td>0</td>\n",
              "      <td>0</td>\n",
              "      <td>0</td>\n",
              "      <td>0</td>\n",
              "      <td>0</td>\n",
              "      <td>0</td>\n",
              "      <td>0</td>\n",
              "      <td>0</td>\n",
              "      <td>0</td>\n",
              "      <td>0</td>\n",
              "      <td>0</td>\n",
              "      <td>0</td>\n",
              "      <td>0</td>\n",
              "      <td>0</td>\n",
              "      <td>0</td>\n",
              "      <td>0</td>\n",
              "      <td>0</td>\n",
              "      <td>0</td>\n",
              "      <td>0</td>\n",
              "      <td>0</td>\n",
              "      <td>0</td>\n",
              "      <td>0</td>\n",
              "      <td>0</td>\n",
              "      <td>0</td>\n",
              "      <td>0</td>\n",
              "      <td>0</td>\n",
              "      <td>0</td>\n",
              "      <td>0</td>\n",
              "      <td>0</td>\n",
              "      <td>0</td>\n",
              "      <td>0</td>\n",
              "      <td>0</td>\n",
              "      <td>0</td>\n",
              "      <td>0</td>\n",
              "      <td>0</td>\n",
              "      <td>0</td>\n",
              "      <td>0</td>\n",
              "      <td>0</td>\n",
              "      <td>0</td>\n",
              "      <td>0</td>\n",
              "      <td>0</td>\n",
              "      <td>0</td>\n",
              "      <td>0</td>\n",
              "      <td>0</td>\n",
              "      <td>0</td>\n",
              "      <td>1</td>\n",
              "      <td>0</td>\n",
              "      <td>0</td>\n",
              "      <td>Androidunknown</td>\n",
              "      <td>33</td>\n",
              "      <td>21</td>\n",
              "      <td>13</td>\n",
              "      <td>4</td>\n",
              "      <td>27</td>\n",
              "      <td>3</td>\n",
              "      <td>3</td>\n",
              "      <td>300</td>\n",
              "      <td>250</td>\n",
              "    </tr>\n",
              "    <tr>\n",
              "      <th>69189</th>\n",
              "      <td>0</td>\n",
              "      <td>mopub</td>\n",
              "      <td>app</td>\n",
              "      <td>True</td>\n",
              "      <td>4</td>\n",
              "      <td>2</td>\n",
              "      <td>True</td>\n",
              "      <td>(0.38, 1.101]</td>\n",
              "      <td>butor</td>\n",
              "      <td>en</td>\n",
              "      <td>en</td>\n",
              "      <td>True</td>\n",
              "      <td>Europe</td>\n",
              "      <td>United Kingdom</td>\n",
              "      <td>London</td>\n",
              "      <td>0</td>\n",
              "      <td>0</td>\n",
              "      <td>0</td>\n",
              "      <td>0</td>\n",
              "      <td>0</td>\n",
              "      <td>0</td>\n",
              "      <td>0</td>\n",
              "      <td>0</td>\n",
              "      <td>0</td>\n",
              "      <td>0</td>\n",
              "      <td>0</td>\n",
              "      <td>0</td>\n",
              "      <td>0</td>\n",
              "      <td>0</td>\n",
              "      <td>0</td>\n",
              "      <td>0</td>\n",
              "      <td>0</td>\n",
              "      <td>1</td>\n",
              "      <td>0</td>\n",
              "      <td>0</td>\n",
              "      <td>0</td>\n",
              "      <td>0</td>\n",
              "      <td>0</td>\n",
              "      <td>0</td>\n",
              "      <td>0</td>\n",
              "      <td>0</td>\n",
              "      <td>0</td>\n",
              "      <td>0</td>\n",
              "      <td>0</td>\n",
              "      <td>0</td>\n",
              "      <td>0</td>\n",
              "      <td>0</td>\n",
              "      <td>0</td>\n",
              "      <td>0</td>\n",
              "      <td>0</td>\n",
              "      <td>0</td>\n",
              "      <td>0</td>\n",
              "      <td>0</td>\n",
              "      <td>0</td>\n",
              "      <td>0</td>\n",
              "      <td>0</td>\n",
              "      <td>0</td>\n",
              "      <td>0</td>\n",
              "      <td>1</td>\n",
              "      <td>0</td>\n",
              "      <td>0</td>\n",
              "      <td>0</td>\n",
              "      <td>0</td>\n",
              "      <td>0</td>\n",
              "      <td>iOS12</td>\n",
              "      <td>12</td>\n",
              "      <td>48</td>\n",
              "      <td>20</td>\n",
              "      <td>4</td>\n",
              "      <td>13</td>\n",
              "      <td>24</td>\n",
              "      <td>1</td>\n",
              "      <td>300</td>\n",
              "      <td>250</td>\n",
              "    </tr>\n",
              "  </tbody>\n",
              "</table>\n",
              "</div>"
            ],
            "text/plain": [
              "       click     exchange  ... creative_size1  creative_size2\n",
              "38494      0      rubicon  ...            300             250\n",
              "49059      0     appnexus  ...            320             480\n",
              "89334      0      rubicon  ...            728              90\n",
              "55249      0  doubleclick  ...            300             250\n",
              "69189      0        mopub  ...            300             250\n",
              "\n",
              "[5 rows x 74 columns]"
            ]
          },
          "metadata": {
            "tags": []
          },
          "execution_count": 24
        }
      ]
    },
    {
      "cell_type": "markdown",
      "metadata": {
        "id": "mSwAaoNI2QPk",
        "colab_type": "text"
      },
      "source": [
        "## Get Labels values"
      ]
    },
    {
      "cell_type": "code",
      "metadata": {
        "id": "W5qoUx9T2RJl",
        "colab_type": "code",
        "colab": {}
      },
      "source": [
        "y = df['click']\n",
        "X = pd.get_dummies(df.drop(['click'],axis =1))"
      ],
      "execution_count": 0,
      "outputs": []
    },
    {
      "cell_type": "markdown",
      "metadata": {
        "id": "be4XUmSO2Vb5",
        "colab_type": "text"
      },
      "source": [
        "## SVD for dimensionnal reduction"
      ]
    },
    {
      "cell_type": "code",
      "metadata": {
        "id": "SEHs-Huh2W8r",
        "colab_type": "code",
        "colab": {
          "base_uri": "https://localhost:8080/",
          "height": 34
        },
        "outputId": "ce21e5cd-4c79-415c-c4e0-b85ee39eb4cb"
      },
      "source": [
        "svd = TruncatedSVD(n_components=15, n_iter=7)\n",
        "X_normalized = normalize(X) # Normalize before svd\n",
        "X_transformed = svd.fit_transform(X_normalized)\n",
        "print(\"Pourcentage d'inertie : \", svd.explained_variance_ratio_.sum())"
      ],
      "execution_count": 26,
      "outputs": [
        {
          "output_type": "stream",
          "text": [
            "Pourcentage d'inertie :  0.9928578990003659\n"
          ],
          "name": "stdout"
        }
      ]
    },
    {
      "cell_type": "code",
      "metadata": {
        "id": "vjswGUOo2b09",
        "colab_type": "code",
        "colab": {
          "base_uri": "https://localhost:8080/",
          "height": 51
        },
        "outputId": "fd42f7f8-5d99-41fa-8a08-01bbf3ecfc92"
      },
      "source": [
        "## Concatenate dataframe for modelization\n",
        "X = preprocessing.normalize(pd.DataFrame(X_transformed))\n",
        "print(\"Shape before SVD : \", pd.DataFrame(X_normalized).shape, \"\\nShape after SVD : \", X.shape)"
      ],
      "execution_count": 27,
      "outputs": [
        {
          "output_type": "stream",
          "text": [
            "Shape before SVD :  (87453, 386) \n",
            "Shape after SVD :  (87453, 15)\n"
          ],
          "name": "stdout"
        }
      ]
    },
    {
      "cell_type": "markdown",
      "metadata": {
        "id": "hZAXPyKk2hSu",
        "colab_type": "text"
      },
      "source": [
        "## Train & test sample split"
      ]
    },
    {
      "cell_type": "code",
      "metadata": {
        "id": "zz-M3XLp2iX-",
        "colab_type": "code",
        "colab": {}
      },
      "source": [
        "X_train, X_test, y_train, y_test = train_test_split(\n",
        "     X, y, test_size = 0.15, random_state = 42)"
      ],
      "execution_count": 0,
      "outputs": []
    },
    {
      "cell_type": "markdown",
      "metadata": {
        "id": "Rs7vokgX2n2T",
        "colab_type": "text"
      },
      "source": [
        "# Labels repartition"
      ]
    },
    {
      "cell_type": "code",
      "metadata": {
        "id": "lWMYosIZ2q_4",
        "colab_type": "code",
        "colab": {
          "base_uri": "https://localhost:8080/",
          "height": 265
        },
        "outputId": "0ed7b4d3-05ce-4a98-d81d-4efa416ba7e6"
      },
      "source": [
        "y_train.value_counts().plot(kind = 'bar')\n",
        "weight_0 = y_train.shape[0]/(2*df[\"click\"].value_counts()[0])\n",
        "weight_1 = y_train.shape[0]/(2*df[\"click\"].value_counts()[1])"
      ],
      "execution_count": 29,
      "outputs": [
        {
          "output_type": "display_data",
          "data": {
            "image/png": "[encoded data removed]",
            "text/plain": [
              "<Figure size 432x288 with 1 Axes>"
            ]
          },
          "metadata": {
            "tags": []
          }
        }
      ]
    },
    {
      "cell_type": "code",
      "metadata": {
        "id": "ZlTJHaUsR2DI",
        "colab_type": "code",
        "colab": {
          "base_uri": "https://localhost:8080/",
          "height": 34
        },
        "outputId": "492d619c-1aeb-44ff-e8cf-d4735b994e4f"
      },
      "source": [
        "print(\"poids label 0 : \" ,weight_0, \" & poid label 1 : \", weight_1)"
      ],
      "execution_count": 30,
      "outputs": [
        {
          "output_type": "stream",
          "text": [
            "poids label 0 :  0.4584561680502276  & poid label 1 :  5.823801316201817\n"
          ],
          "name": "stdout"
        }
      ]
    },
    {
      "cell_type": "markdown",
      "metadata": {
        "id": "8l7sbfZl2v-5",
        "colab_type": "text"
      },
      "source": [
        "# Oversampling"
      ]
    },
    {
      "cell_type": "code",
      "metadata": {
        "id": "DGw_6CNz2w8T",
        "colab_type": "code",
        "colab": {
          "base_uri": "https://localhost:8080/",
          "height": 105
        },
        "outputId": "275d078d-20cc-4ca8-9200-bb88de4411c9"
      },
      "source": [
        "smote_enn=SMOTETomek(random_state=42)\n",
        "X_train, y_train = smote_enn.fit_resample(X_train, y_train)"
      ],
      "execution_count": 31,
      "outputs": [
        {
          "output_type": "stream",
          "text": [
            "/usr/local/lib/python3.6/dist-packages/sklearn/utils/deprecation.py:87: FutureWarning: Function safe_indexing is deprecated; safe_indexing is deprecated in version 0.22 and will be removed in version 0.24.\n",
            "  warnings.warn(msg, category=FutureWarning)\n",
            "/usr/local/lib/python3.6/dist-packages/sklearn/utils/deprecation.py:87: FutureWarning: Function safe_indexing is deprecated; safe_indexing is deprecated in version 0.22 and will be removed in version 0.24.\n",
            "  warnings.warn(msg, category=FutureWarning)\n"
          ],
          "name": "stderr"
        }
      ]
    },
    {
      "cell_type": "code",
      "metadata": {
        "id": "iUmfQK9Phwa0",
        "colab_type": "code",
        "colab": {
          "base_uri": "https://localhost:8080/",
          "height": 282
        },
        "outputId": "b6dfe00d-dcbb-4a2b-f949-64b5c6c8c107"
      },
      "source": [
        "pd.Series(y_train).value_counts().plot(kind = 'bar')"
      ],
      "execution_count": 32,
      "outputs": [
        {
          "output_type": "execute_result",
          "data": {
            "text/plain": [
              "<matplotlib.axes._subplots.AxesSubplot at 0x7f9e6219dc50>"
            ]
          },
          "metadata": {
            "tags": []
          },
          "execution_count": 32
        },
        {
          "output_type": "display_data",
          "data": {
            "image/png": "[encoded data removed]",
            "text/plain": [
              "<Figure size 432x288 with 1 Axes>"
            ]
          },
          "metadata": {
            "tags": []
          }
        }
      ]
    },
    {
      "cell_type": "markdown",
      "metadata": {
        "id": "EElm0C4r25Cg",
        "colab_type": "text"
      },
      "source": [
        "# Les  modèles testés"
      ]
    },
    {
      "cell_type": "code",
      "metadata": {
        "id": "CcRdFtvB-vhG",
        "colab_type": "code",
        "colab": {}
      },
      "source": [
        "lsvm=LinearSVC(penalty='l2', \n",
        "          loss='hinge', \n",
        "          dual=True, \n",
        "          tol=0.1,\n",
        "          C=1,\n",
        "          fit_intercept=True,\n",
        "          class_weight=\"balanced\",\n",
        "          max_iter=100,\n",
        "          intercept_scaling=1\n",
        "          )\n",
        "\n",
        "lr=rfe = RFE(LogisticRegression(solver='newton-cg',\n",
        "                                  fit_intercept=True,\n",
        "                                  class_weight = \"balanced\",\n",
        "                                  C=1,\n",
        "                                  tol=0.1,\n",
        "                                  penalty='l2',\n",
        "                                  intercept_scaling=1)) \n",
        "\n",
        "dtc=DecisionTreeClassifier(random_state=42,\n",
        "                             max_features=\"auto\", \n",
        "                             class_weight=\"balanced\",\n",
        "                             criterion=\"entropy\",\n",
        "                             splitter=\"random\",\n",
        "                             max_depth=100)\n",
        "\n",
        "abc=AdaBoostClassifier(base_estimator = dtc, n_estimators = 100)\n",
        "\n",
        "gnb=GaussianNB()\n",
        "\n",
        "\n",
        "mlp=MLPClassifier(hidden_layer_sizes=(15, 30, 18, 1),\n",
        "                    alpha=1e-05,\n",
        "                    activation=\"tanh\",\n",
        "                    solver=\"adam\",\n",
        "                    random_state=42, \n",
        "                    max_iter=10000, \n",
        "                    warm_start=True)"
      ],
      "execution_count": 0,
      "outputs": []
    },
    {
      "cell_type": "code",
      "metadata": {
        "id": "R77cCjyVBEaS",
        "colab_type": "code",
        "colab": {}
      },
      "source": [
        "# Fit\n",
        "lsvm.fit(X_train, y_train)\n",
        "lr.fit(X_train, y_train)\n",
        "abc.fit(X_train, y_train)\n",
        "gnb.fit(X_train, y_train)\n",
        "mlp.fit(X_train, y_train)\n",
        "\n",
        "# Predict\n",
        "pred_lsvm=lsvm.predict(X_test)\n",
        "pred_lr=lr.predict(X_test)\n",
        "pred_abc=abc.predict(X_test)\n",
        "pred_gnb=gnb.predict(X_test)\n",
        "pred_mlp=mlp.predict(X_test)"
      ],
      "execution_count": 0,
      "outputs": []
    },
    {
      "cell_type": "markdown",
      "metadata": {
        "id": "7wlJfjVPkeyJ",
        "colab_type": "text"
      },
      "source": [
        "# Validation test sample"
      ]
    },
    {
      "cell_type": "code",
      "metadata": {
        "id": "Vz7NZPYBBa2k",
        "colab_type": "code",
        "colab": {
          "base_uri": "https://localhost:8080/",
          "height": 1000
        },
        "outputId": "05899674-3e18-4c9f-feec-5decebbf84e0"
      },
      "source": [
        "print(\"Linear Support Vector Machines \\n\\n \")\n",
        "print(\"Le score est : \", lsvm.score(X_test, y_test))\n",
        "print(\"Le score sur le jeu d'apprentissage est de :\", lsvm.score(X_train,y_train))\n",
        "print(\"Le score sur le jeu de test est de :\", lsvm.score(X_test,y_test))\n",
        "print(metrics.classification_report(y_test, pred_lsvm))\n",
        "print(\"\\nMatrice de confusion\")\n",
        "print(metrics.confusion_matrix(y_test, pred_lsvm))\n",
        "print(\"_____________________________________________________________\")\n",
        "\n",
        "\n",
        "print(\"\\n\\nLogistic Regression \\n\\n \")\n",
        "print(\"Le score est : \", lr.score(X_test, y_test))\n",
        "print(\"Le score sur le jeu d'apprentissage est de :\", lr.score(X_train,y_train))\n",
        "print(\"Le score sur le jeu de test est de :\", lr.score(X_test,y_test))\n",
        "print(metrics.classification_report(y_test, pred_lr))\n",
        "print(\"\\nMatrice de confusion\")\n",
        "print(metrics.confusion_matrix(y_test, pred_lr))\n",
        "print(\"_____________________________________________________________\")\n",
        "\n",
        "\n",
        "print(\"\\n\\nAdaBoostClassifier \\n\\n \")\n",
        "print(\"Le score est : \", abc.score(X_test, y_test))\n",
        "print(\"Le score sur le jeu d'apprentissage est de :\", abc.score(X_train,y_train))\n",
        "print(\"Le score sur le jeu de test est de :\", abc.score(X_test,y_test))\n",
        "print(metrics.classification_report(y_test, pred_abc))\n",
        "print(\"\\nMatrice de confusion\")\n",
        "print(metrics.confusion_matrix(y_test, pred_abc))\n",
        "print(\"_____________________________________________________________\")\n",
        "\n",
        "\n",
        "print(\"\\n\\nGaussian Naive Bayes  \\n\\n \")\n",
        "print(\"Le score est : \", gnb.score(X_test, y_test))\n",
        "print(\"Le score sur le jeu d'apprentissage est de :\", gnb.score(X_train,y_train))\n",
        "print(\"Le score sur le jeu de test est de :\", gnb.score(X_test,y_test))\n",
        "print(metrics.classification_report(y_test, pred_gnb))\n",
        "print(\"\\nMatrice de confusion\")\n",
        "print(metrics.confusion_matrix(y_test, pred_gnb))\n",
        "print(\"_____________________________________________________________\")\n",
        "\n",
        "\n",
        "print(\"\\n\\nMulti Layers Perceptron\\n\\n \")\n",
        "print(\"Le score est : \", mlp.score(X_test, y_test))\n",
        "print(\"Le score sur le jeu d'apprentissage est de :\", mlp.score(X_train,y_train))\n",
        "print(\"Le score sur le jeu de test est de :\", mlp.score(X_test,y_test))\n",
        "print(metrics.classification_report(y_test, pred_mlp))\n",
        "print(\"\\nMatrice de confusion\")\n",
        "print(metrics.confusion_matrix(y_test, pred_mlp))\n",
        "print(\"_____________________________________________________________\")\n"
      ],
      "execution_count": 37,
      "outputs": [
        {
          "output_type": "stream",
          "text": [
            "Linear Support Vector Machines \n",
            "\n",
            " \n",
            "Le score est :  0.7291507851806678\n",
            "Le score sur le jeu d'apprentissage est de : 0.7508775507231601\n",
            "Le score sur le jeu de test est de : 0.7291507851806678\n",
            "              precision    recall  f1-score   support\n",
            "\n",
            "           0       0.97      0.73      0.83     12164\n",
            "           1       0.17      0.73      0.28       954\n",
            "\n",
            "    accuracy                           0.73     13118\n",
            "   macro avg       0.57      0.73      0.56     13118\n",
            "weighted avg       0.91      0.73      0.79     13118\n",
            "\n",
            "\n",
            "Matrice de confusion\n",
            "[[8869 3295]\n",
            " [ 258  696]]\n",
            "_____________________________________________________________\n",
            "\n",
            "\n",
            "Logistic Regression \n",
            "\n",
            " \n",
            "Le score est :  0.7255679219393201\n",
            "Le score sur le jeu d'apprentissage est de : 0.7475566948745211\n",
            "Le score sur le jeu de test est de : 0.7255679219393201\n",
            "              precision    recall  f1-score   support\n",
            "\n",
            "           0       0.97      0.73      0.83     12164\n",
            "           1       0.17      0.73      0.28       954\n",
            "\n",
            "    accuracy                           0.73     13118\n",
            "   macro avg       0.57      0.73      0.55     13118\n",
            "weighted avg       0.91      0.73      0.79     13118\n",
            "\n",
            "\n",
            "Matrice de confusion\n",
            "[[8826 3338]\n",
            " [ 262  692]]\n",
            "_____________________________________________________________\n",
            "\n",
            "\n",
            "AdaBoostClassifier \n",
            "\n",
            " \n",
            "Le score est :  0.8572953194084464\n",
            "Le score sur le jeu d'apprentissage est de : 0.9999854348427691\n",
            "Le score sur le jeu de test est de : 0.8572953194084464\n",
            "              precision    recall  f1-score   support\n",
            "\n",
            "           0       0.95      0.89      0.92     12164\n",
            "           1       0.22      0.38      0.28       954\n",
            "\n",
            "    accuracy                           0.86     13118\n",
            "   macro avg       0.59      0.64      0.60     13118\n",
            "weighted avg       0.90      0.86      0.87     13118\n",
            "\n",
            "\n",
            "Matrice de confusion\n",
            "[[10881  1283]\n",
            " [  589   365]]\n",
            "_____________________________________________________________\n",
            "\n",
            "\n",
            "Gaussian Naive Bayes  \n",
            "\n",
            " \n",
            "Le score est :  0.7032322000304925\n",
            "Le score sur le jeu d'apprentissage est de : 0.7553053585213453\n",
            "Le score sur le jeu de test est de : 0.7032322000304925\n",
            "              precision    recall  f1-score   support\n",
            "\n",
            "           0       0.97      0.70      0.81     12164\n",
            "           1       0.16      0.74      0.27       954\n",
            "\n",
            "    accuracy                           0.70     13118\n",
            "   macro avg       0.57      0.72      0.54     13118\n",
            "weighted avg       0.91      0.70      0.77     13118\n",
            "\n",
            "\n",
            "Matrice de confusion\n",
            "[[8516 3648]\n",
            " [ 245  709]]\n",
            "_____________________________________________________________\n",
            "\n",
            "\n",
            "Multi Layers Perceptron\n",
            "\n",
            " \n",
            "Le score est :  0.7873913706357677\n",
            "Le score sur le jeu d'apprentissage est de : 0.8523384359934165\n",
            "Le score sur le jeu de test est de : 0.7873913706357677\n",
            "              precision    recall  f1-score   support\n",
            "\n",
            "           0       0.97      0.79      0.87     12164\n",
            "           1       0.21      0.71      0.33       954\n",
            "\n",
            "    accuracy                           0.79     13118\n",
            "   macro avg       0.59      0.75      0.60     13118\n",
            "weighted avg       0.92      0.79      0.83     13118\n",
            "\n",
            "\n",
            "Matrice de confusion\n",
            "[[9655 2509]\n",
            " [ 280  674]]\n",
            "_____________________________________________________________\n"
          ],
          "name": "stdout"
        }
      ]
    },
    {
      "cell_type": "markdown",
      "metadata": {
        "id": "1bgeEk7_k15f",
        "colab_type": "text"
      },
      "source": [
        "# Validation test sample"
      ]
    },
    {
      "cell_type": "code",
      "metadata": {
        "id": "UtOncqP1k3n_",
        "colab_type": "code",
        "colab": {
          "base_uri": "https://localhost:8080/",
          "height": 1000
        },
        "outputId": "ea9b296e-9c5d-4ae5-f515-9735ac488fe5"
      },
      "source": [
        "# Same cleaning \n",
        "valid_df = cleaning(valid)\n",
        "y_valid = valid_df['click']\n",
        "X_valid = pd.get_dummies(valid_df.drop(['click'],axis =1))\n",
        "svd = TruncatedSVD(n_components=15, n_iter=7)\n",
        "X_valid_normalized = normalize(X_valid) # Normalize before svd\n",
        "X_valid_transformed = svd.fit_transform(X_valid_normalized)\n",
        "X_valid = preprocessing.normalize(pd.DataFrame(X_valid_transformed))\n",
        "\n",
        "# Predict on validation sample\n",
        "pred_lsvm_valid = lsvm.predict(X_valid)\n",
        "pred_lr_valid = lr.predict(X_valid)\n",
        "pred_abc_valid = abc.predict(X_valid)\n",
        "pred_gnb_valid = gnb.predict(X_valid)\n",
        "pred_mlp_valid = mlp.predict(X_valid)\n",
        "\n",
        "\n",
        "# Results\n",
        "print(\"Linear Support Vector Machines \\n\\n \")\n",
        "print(\"Le score est : \", lsvm.score(X_valid,y_valid))\n",
        "print(\"Le score sur le jeu de validation est de :\", lsvm.score(X_valid,y_valid))\n",
        "print(metrics.classification_report(y_valid, pred_lsvm_valid))\n",
        "print(\"\\nMatrice de confusion\")\n",
        "print(metrics.confusion_matrix(y_valid, pred_lsvm_valid))\n",
        "print(\"_____________________________________________________________\")\n",
        "\n",
        "print(\"\\n\\nLogistic Regression \\n\\n \")\n",
        "print(\"Le score est : \", lr.score(X_valid,y_valid))\n",
        "print(\"Le score sur le jeu de validation est de :\", lr.score(X_valid,y_valid))\n",
        "print(metrics.classification_report(y_valid, pred_lr_valid))\n",
        "print(\"\\nMatrice de confusion\")\n",
        "print(metrics.confusion_matrix(y_valid, pred_lr_valid))\n",
        "print(\"_____________________________________________________________\")\n",
        "\n",
        "\n",
        "print(\"\\n\\nAdaBoostClassifier \\n\\n \")\n",
        "print(\"Le score est : \", abc.score(X_valid,y_valid))\n",
        "print(\"Le score sur le jeu de validation est de :\", abc.score(X_valid,y_valid))\n",
        "print(metrics.classification_report(y_valid, pred_abc_valid))\n",
        "print(\"\\nMatrice de confusion\")\n",
        "print(metrics.confusion_matrix(y_valid, pred_abc_valid))\n",
        "print(\"_____________________________________________________________\")\n",
        "\n",
        "\n",
        "print(\"\\n\\nGaussian Naive Bayes  \\n\\n \")\n",
        "print(\"Le score est : \", gnb.score(X_valid,y_valid))\n",
        "print(\"Le score sur le jeu de validation est de :\", gnb.score(X_valid,y_valid))\n",
        "print(metrics.classification_report(y_valid, pred_gnb_valid))\n",
        "print(\"\\nMatrice de confusion\")\n",
        "print(metrics.confusion_matrix(y_valid, pred_gnb_valid))\n",
        "print(\"_____________________________________________________________\")\n",
        "\n",
        "\n",
        "print(\"\\n\\nMulti Layers Perceptron \\n\\n \")\n",
        "print(\"Le score est : \", mlp.score(X_valid,y_valid))\n",
        "print(\"Le score sur le jeu de validation est de :\", mlp.score(X_valid,y_valid))\n",
        "print(metrics.classification_report(y_valid, pred_mlp_valid))\n",
        "print(\"\\nMatrice de confusion\")\n",
        "print(metrics.confusion_matrix(y_valid, pred_mlp_valid))\n",
        "print(\"_____________________________________________________________\")\n"
      ],
      "execution_count": 38,
      "outputs": [
        {
          "output_type": "stream",
          "text": [
            "Linear Support Vector Machines \n",
            "\n",
            " \n",
            "Le score est :  0.728003475993917\n",
            "Le score sur le jeu de validation est de : 0.728003475993917\n",
            "              precision    recall  f1-score   support\n",
            "\n",
            "           0       0.97      0.73      0.83      4235\n",
            "           1       0.19      0.71      0.29       368\n",
            "\n",
            "    accuracy                           0.73      4603\n",
            "   macro avg       0.58      0.72      0.56      4603\n",
            "weighted avg       0.90      0.73      0.79      4603\n",
            "\n",
            "\n",
            "Matrice de confusion\n",
            "[[3090 1145]\n",
            " [ 107  261]]\n",
            "_____________________________________________________________\n",
            "\n",
            "\n",
            "Logistic Regression \n",
            "\n",
            " \n",
            "Le score est :  0.7223549858787747\n",
            "Le score sur le jeu de validation est de : 0.7223549858787747\n",
            "              precision    recall  f1-score   support\n",
            "\n",
            "           0       0.97      0.72      0.83      4235\n",
            "           1       0.18      0.71      0.29       368\n",
            "\n",
            "    accuracy                           0.72      4603\n",
            "   macro avg       0.57      0.72      0.56      4603\n",
            "weighted avg       0.90      0.72      0.78      4603\n",
            "\n",
            "\n",
            "Matrice de confusion\n",
            "[[3062 1173]\n",
            " [ 105  263]]\n",
            "_____________________________________________________________\n",
            "\n",
            "\n",
            "AdaBoostClassifier \n",
            "\n",
            " \n",
            "Le score est :  0.8490115142298501\n",
            "Le score sur le jeu de validation est de : 0.8490115142298501\n",
            "              precision    recall  f1-score   support\n",
            "\n",
            "           0       0.94      0.89      0.92      4235\n",
            "           1       0.23      0.39      0.29       368\n",
            "\n",
            "    accuracy                           0.85      4603\n",
            "   macro avg       0.59      0.64      0.60      4603\n",
            "weighted avg       0.89      0.85      0.87      4603\n",
            "\n",
            "\n",
            "Matrice de confusion\n",
            "[[3765  470]\n",
            " [ 225  143]]\n",
            "_____________________________________________________________\n",
            "\n",
            "\n",
            "Gaussian Naive Bayes  \n",
            "\n",
            " \n",
            "Le score est :  0.7008472735172714\n",
            "Le score sur le jeu de validation est de : 0.7008472735172714\n",
            "              precision    recall  f1-score   support\n",
            "\n",
            "           0       0.96      0.70      0.81      4235\n",
            "           1       0.17      0.70      0.27       368\n",
            "\n",
            "    accuracy                           0.70      4603\n",
            "   macro avg       0.57      0.70      0.54      4603\n",
            "weighted avg       0.90      0.70      0.77      4603\n",
            "\n",
            "\n",
            "Matrice de confusion\n",
            "[[2968 1267]\n",
            " [ 110  258]]\n",
            "_____________________________________________________________\n",
            "\n",
            "\n",
            "Multi Layers Perceptron \n",
            "\n",
            " \n",
            "Le score est :  0.6928090375841842\n",
            "Le score sur le jeu de validation est de : 0.6928090375841842\n",
            "              precision    recall  f1-score   support\n",
            "\n",
            "           0       0.97      0.69      0.81      4235\n",
            "           1       0.17      0.71      0.27       368\n",
            "\n",
            "    accuracy                           0.69      4603\n",
            "   macro avg       0.57      0.70      0.54      4603\n",
            "weighted avg       0.90      0.69      0.76      4603\n",
            "\n",
            "\n",
            "Matrice de confusion\n",
            "[[2927 1308]\n",
            " [ 106  262]]\n",
            "_____________________________________________________________\n"
          ],
          "name": "stdout"
        }
      ]
    }
  ]
}