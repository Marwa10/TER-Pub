{
 "cells": [
  {
   "cell_type": "markdown",
   "metadata": {},
   "source": [
    "# Library import"
   ]
  },
  {
   "cell_type": "code",
   "execution_count": 2,
   "metadata": {
    "ExecuteTime": {
     "end_time": "2020-03-11T11:08:23.647988Z",
     "start_time": "2020-03-11T11:08:21.073168Z"
    },
    "hide_input": false
   },
   "outputs": [],
   "source": [
    "import pandas as pd\n",
    "import numpy as np\n",
    "import seaborn as sns\n",
    "import matplotlib.pyplot as plt\n",
    "from jupyterthemes import jtplot\n",
    "from sklearn.preprocessing import scale, normalize\n",
    "from sklearn.decomposition import TruncatedSVD\n",
    "from sklearn.linear_model import LogisticRegression\n",
    "from sklearn.model_selection import train_test_split\n",
    "from sklearn.model_selection import GridSearchCV, RandomizedSearchCV\n",
    "from sklearn.metrics import classification_report\n",
    "from sklearn import metrics\n",
    "from imblearn.over_sampling import SMOTE\n",
    "from sklearn.svm import SVC, LinearSVC\n",
    "sns.set(style=\"whitegrid\")"
   ]
  },
  {
   "cell_type": "markdown",
   "metadata": {},
   "source": [
    "# Data import & exploration"
   ]
  },
  {
   "cell_type": "code",
   "execution_count": 15,
   "metadata": {
    "ExecuteTime": {
     "end_time": "2020-03-11T11:09:11.157730Z",
     "start_time": "2020-03-11T11:09:10.722235Z"
    },
    "hide_input": false,
    "scrolled": true
   },
   "outputs": [
    {
     "name": "stdout",
     "output_type": "stream",
     "text": [
      "Taille : (44283, 77)\n"
     ]
    }
   ],
   "source": [
    "df = pd.read_csv(\"data_one_week_cleaned.csv\", low_memory=False)\n",
    "df.drop('auction_id',axis = 1, inplace = True)\n",
    "print(\"Taille :\",df.shape)"
   ]
  },
  {
   "cell_type": "code",
   "execution_count": 198,
   "metadata": {
    "ExecuteTime": {
     "end_time": "2020-03-11T10:34:38.353017Z",
     "start_time": "2020-03-11T10:34:38.329283Z"
    },
    "hide_input": false,
    "scrolled": false
   },
   "outputs": [
    {
     "data": {
      "text/html": [
       "<div>\n",
       "<style scoped>\n",
       "    .dataframe tbody tr th:only-of-type {\n",
       "        vertical-align: middle;\n",
       "    }\n",
       "\n",
       "    .dataframe tbody tr th {\n",
       "        vertical-align: top;\n",
       "    }\n",
       "\n",
       "    .dataframe thead th {\n",
       "        text-align: right;\n",
       "    }\n",
       "</style>\n",
       "<table border=\"1\" class=\"dataframe\">\n",
       "  <thead>\n",
       "    <tr style=\"text-align: right;\">\n",
       "      <th></th>\n",
       "      <th>click</th>\n",
       "      <th>exchange</th>\n",
       "      <th>app_or_site</th>\n",
       "      <th>has_gps</th>\n",
       "      <th>device_type</th>\n",
       "      <th>connection_type</th>\n",
       "      <th>has_ifa</th>\n",
       "      <th>win_price</th>\n",
       "      <th>win_price_loc</th>\n",
       "      <th>bidder_name</th>\n",
       "      <th>...</th>\n",
       "      <th>Timestamp_second</th>\n",
       "      <th>Timestamp_minute</th>\n",
       "      <th>Timestamp_hour</th>\n",
       "      <th>Timestamp_DayOfWeek</th>\n",
       "      <th>Timestamp_DayOfMonth</th>\n",
       "      <th>Timestamp_Month</th>\n",
       "      <th>Days_Since_Campaign_Starts</th>\n",
       "      <th>Days_Before_Campaign_Ends</th>\n",
       "      <th>Campaign_Duration</th>\n",
       "      <th>creative_size</th>\n",
       "    </tr>\n",
       "  </thead>\n",
       "  <tbody>\n",
       "    <tr>\n",
       "      <td>0</td>\n",
       "      <td>0</td>\n",
       "      <td>mopub</td>\n",
       "      <td>app</td>\n",
       "      <td>True</td>\n",
       "      <td>4</td>\n",
       "      <td>2</td>\n",
       "      <td>True</td>\n",
       "      <td>0.15000</td>\n",
       "      <td>0.15000</td>\n",
       "      <td>albatros</td>\n",
       "      <td>...</td>\n",
       "      <td>2</td>\n",
       "      <td>16</td>\n",
       "      <td>23</td>\n",
       "      <td>5</td>\n",
       "      <td>15</td>\n",
       "      <td>8</td>\n",
       "      <td>76</td>\n",
       "      <td>46</td>\n",
       "      <td>122</td>\n",
       "      <td>300x250</td>\n",
       "    </tr>\n",
       "    <tr>\n",
       "      <td>1</td>\n",
       "      <td>0</td>\n",
       "      <td>rubicon</td>\n",
       "      <td>app</td>\n",
       "      <td>True</td>\n",
       "      <td>1</td>\n",
       "      <td>2</td>\n",
       "      <td>True</td>\n",
       "      <td>5.04214</td>\n",
       "      <td>4.54997</td>\n",
       "      <td>butor</td>\n",
       "      <td>...</td>\n",
       "      <td>59</td>\n",
       "      <td>17</td>\n",
       "      <td>21</td>\n",
       "      <td>6</td>\n",
       "      <td>16</td>\n",
       "      <td>8</td>\n",
       "      <td>8</td>\n",
       "      <td>106</td>\n",
       "      <td>114</td>\n",
       "      <td>300x250</td>\n",
       "    </tr>\n",
       "    <tr>\n",
       "      <td>2</td>\n",
       "      <td>0</td>\n",
       "      <td>mopub</td>\n",
       "      <td>app</td>\n",
       "      <td>True</td>\n",
       "      <td>4</td>\n",
       "      <td>6</td>\n",
       "      <td>True</td>\n",
       "      <td>4.73000</td>\n",
       "      <td>4.26495</td>\n",
       "      <td>albatros</td>\n",
       "      <td>...</td>\n",
       "      <td>42</td>\n",
       "      <td>32</td>\n",
       "      <td>23</td>\n",
       "      <td>7</td>\n",
       "      <td>17</td>\n",
       "      <td>8</td>\n",
       "      <td>38</td>\n",
       "      <td>14</td>\n",
       "      <td>52</td>\n",
       "      <td>320x480</td>\n",
       "    </tr>\n",
       "    <tr>\n",
       "      <td>3</td>\n",
       "      <td>0</td>\n",
       "      <td>teads</td>\n",
       "      <td>site</td>\n",
       "      <td>True</td>\n",
       "      <td>4</td>\n",
       "      <td>unknown</td>\n",
       "      <td>False</td>\n",
       "      <td>6.00000</td>\n",
       "      <td>6.00000</td>\n",
       "      <td>albatros</td>\n",
       "      <td>...</td>\n",
       "      <td>6</td>\n",
       "      <td>15</td>\n",
       "      <td>22</td>\n",
       "      <td>6</td>\n",
       "      <td>16</td>\n",
       "      <td>8</td>\n",
       "      <td>3</td>\n",
       "      <td>15</td>\n",
       "      <td>18</td>\n",
       "      <td>300x250</td>\n",
       "    </tr>\n",
       "    <tr>\n",
       "      <td>4</td>\n",
       "      <td>0</td>\n",
       "      <td>mopub</td>\n",
       "      <td>app</td>\n",
       "      <td>True</td>\n",
       "      <td>4</td>\n",
       "      <td>6</td>\n",
       "      <td>True</td>\n",
       "      <td>1.39000</td>\n",
       "      <td>1.39000</td>\n",
       "      <td>butor</td>\n",
       "      <td>...</td>\n",
       "      <td>6</td>\n",
       "      <td>27</td>\n",
       "      <td>5</td>\n",
       "      <td>4</td>\n",
       "      <td>21</td>\n",
       "      <td>8</td>\n",
       "      <td>34</td>\n",
       "      <td>63</td>\n",
       "      <td>97</td>\n",
       "      <td>320x480</td>\n",
       "    </tr>\n",
       "  </tbody>\n",
       "</table>\n",
       "<p>5 rows × 77 columns</p>\n",
       "</div>"
      ],
      "text/plain": [
       "   click exchange app_or_site  has_gps device_type connection_type  has_ifa  \\\n",
       "0      0    mopub         app     True           4               2     True   \n",
       "1      0  rubicon         app     True           1               2     True   \n",
       "2      0    mopub         app     True           4               6     True   \n",
       "3      0    teads        site     True           4         unknown    False   \n",
       "4      0    mopub         app     True           4               6     True   \n",
       "\n",
       "   win_price  win_price_loc bidder_name  ... Timestamp_second  \\\n",
       "0    0.15000        0.15000    albatros  ...                2   \n",
       "1    5.04214        4.54997       butor  ...               59   \n",
       "2    4.73000        4.26495    albatros  ...               42   \n",
       "3    6.00000        6.00000    albatros  ...                6   \n",
       "4    1.39000        1.39000       butor  ...                6   \n",
       "\n",
       "  Timestamp_minute  Timestamp_hour Timestamp_DayOfWeek Timestamp_DayOfMonth  \\\n",
       "0               16              23                   5                   15   \n",
       "1               17              21                   6                   16   \n",
       "2               32              23                   7                   17   \n",
       "3               15              22                   6                   16   \n",
       "4               27               5                   4                   21   \n",
       "\n",
       "  Timestamp_Month Days_Since_Campaign_Starts Days_Before_Campaign_Ends  \\\n",
       "0               8                         76                        46   \n",
       "1               8                          8                       106   \n",
       "2               8                         38                        14   \n",
       "3               8                          3                        15   \n",
       "4               8                         34                        63   \n",
       "\n",
       "   Campaign_Duration  creative_size  \n",
       "0                122        300x250  \n",
       "1                114        300x250  \n",
       "2                 52        320x480  \n",
       "3                 18        300x250  \n",
       "4                 97        320x480  \n",
       "\n",
       "[5 rows x 77 columns]"
      ]
     },
     "execution_count": 198,
     "metadata": {},
     "output_type": "execute_result"
    }
   ],
   "source": [
    "df.head()"
   ]
  },
  {
   "cell_type": "code",
   "execution_count": 199,
   "metadata": {
    "ExecuteTime": {
     "end_time": "2020-03-11T10:34:44.909594Z",
     "start_time": "2020-03-11T10:34:44.905322Z"
    },
    "hide_input": false,
    "scrolled": false
   },
   "outputs": [
    {
     "data": {
      "text/plain": [
       "Index(['click', 'exchange', 'app_or_site', 'has_gps', 'device_type',\n",
       "       'connection_type', 'has_ifa', 'win_price', 'win_price_loc',\n",
       "       'bidder_name', 'Device_language', 'Country_language',\n",
       "       'Device_lg_Equals_country_lg', 'Continent', 'Country_code',\n",
       "       'Country_name', 'City', 'Timestamp', 'IAB1', 'IAB1%', 'IAB10', 'IAB11',\n",
       "       'IAB12', 'IAB13', 'IAB14', 'IAB15', 'IAB16', 'IAB17', 'IAB18', 'IAB19',\n",
       "       'IAB2', 'IAB20', 'IAB21', 'IAB22', 'IAB23', 'IAB24', 'IAB3', 'IAB3%',\n",
       "       'IAB4', 'IAB5', 'IAB6', 'IAB7', 'IAB8', 'IAB9', 'IAB9%', 'books',\n",
       "       'busin', 'educa', 'enter', 'finan', 'games', 'healt', 'lifes', 'medic',\n",
       "       'music', 'navig', 'news', 'photo', 'produ', 'refer', 'socia', 'sport',\n",
       "       'trave', 'unkno', 'utili', 'weath', 'fullOsInfo', 'Timestamp_second',\n",
       "       'Timestamp_minute', 'Timestamp_hour', 'Timestamp_DayOfWeek',\n",
       "       'Timestamp_DayOfMonth', 'Timestamp_Month', 'Days_Since_Campaign_Starts',\n",
       "       'Days_Before_Campaign_Ends', 'Campaign_Duration', 'creative_size'],\n",
       "      dtype='object')"
      ]
     },
     "execution_count": 199,
     "metadata": {},
     "output_type": "execute_result"
    }
   ],
   "source": [
    "df.columns"
   ]
  },
  {
   "cell_type": "markdown",
   "metadata": {
    "hide_input": false
   },
   "source": [
    "# Data preprocessing"
   ]
  },
  {
   "cell_type": "code",
   "execution_count": 16,
   "metadata": {
    "ExecuteTime": {
     "end_time": "2020-03-11T11:09:14.576327Z",
     "start_time": "2020-03-11T11:09:14.560416Z"
    }
   },
   "outputs": [],
   "source": [
    "# First, drop some columns that are useless for our model\n",
    "df.drop(['Timestamp_second', 'Timestamp_minute', 'Timestamp', 'Timestamp_Month',\n",
    "         'Country_language', 'win_price_loc'], axis=1, inplace=True)"
   ]
  },
  {
   "cell_type": "code",
   "execution_count": 17,
   "metadata": {
    "ExecuteTime": {
     "end_time": "2020-03-11T11:09:15.694018Z",
     "start_time": "2020-03-11T11:09:15.610655Z"
    },
    "hide_input": false,
    "scrolled": false
   },
   "outputs": [
    {
     "name": "stdout",
     "output_type": "stream",
     "text": [
      "Variable binaires :  53 \n",
      "Variable Catégorielle : 13 \n",
      "Variable numéirque : 5\n"
     ]
    }
   ],
   "source": [
    "# Separate variable into binair, multi categorie and numeric\n",
    "col = df.columns\n",
    "bin_var = []\n",
    "M_cat_var = []\n",
    "num_var = []\n",
    "for el in col:\n",
    "    if(len(df[el].unique()) == 2):\n",
    "        bin_var.append(el)\n",
    "    elif ((2 < len(df[el].unique()) < 40)) :\n",
    "        M_cat_var.append(el)\n",
    "    else:\n",
    "        num_var.append(el)\n",
    "print(\"Variable binaires : \", len(bin_var), \"\\nVariable Catégorielle :\",\n",
    "      len(M_cat_var), \"\\nVariable numéirque :\", len(num_var))"
   ]
  },
  {
   "cell_type": "markdown",
   "metadata": {},
   "source": [
    "## Binary variable"
   ]
  },
  {
   "cell_type": "code",
   "execution_count": 202,
   "metadata": {
    "ExecuteTime": {
     "end_time": "2020-03-11T10:34:53.280676Z",
     "start_time": "2020-03-11T10:34:53.250370Z"
    },
    "hide_input": false,
    "scrolled": true
   },
   "outputs": [
    {
     "data": {
      "text/html": [
       "<div>\n",
       "<style scoped>\n",
       "    .dataframe tbody tr th:only-of-type {\n",
       "        vertical-align: middle;\n",
       "    }\n",
       "\n",
       "    .dataframe tbody tr th {\n",
       "        vertical-align: top;\n",
       "    }\n",
       "\n",
       "    .dataframe thead th {\n",
       "        text-align: right;\n",
       "    }\n",
       "</style>\n",
       "<table border=\"1\" class=\"dataframe\">\n",
       "  <thead>\n",
       "    <tr style=\"text-align: right;\">\n",
       "      <th></th>\n",
       "      <th>click</th>\n",
       "      <th>app_or_site</th>\n",
       "      <th>has_gps</th>\n",
       "      <th>has_ifa</th>\n",
       "      <th>Device_lg_Equals_country_lg</th>\n",
       "      <th>IAB1</th>\n",
       "      <th>IAB1%</th>\n",
       "      <th>IAB10</th>\n",
       "      <th>IAB11</th>\n",
       "      <th>IAB12</th>\n",
       "      <th>...</th>\n",
       "      <th>news</th>\n",
       "      <th>photo</th>\n",
       "      <th>produ</th>\n",
       "      <th>refer</th>\n",
       "      <th>socia</th>\n",
       "      <th>sport</th>\n",
       "      <th>trave</th>\n",
       "      <th>unkno</th>\n",
       "      <th>utili</th>\n",
       "      <th>weath</th>\n",
       "    </tr>\n",
       "  </thead>\n",
       "  <tbody>\n",
       "    <tr>\n",
       "      <td>0</td>\n",
       "      <td>0</td>\n",
       "      <td>app</td>\n",
       "      <td>True</td>\n",
       "      <td>True</td>\n",
       "      <td>False</td>\n",
       "      <td>1</td>\n",
       "      <td>0</td>\n",
       "      <td>0</td>\n",
       "      <td>0</td>\n",
       "      <td>0</td>\n",
       "      <td>...</td>\n",
       "      <td>0</td>\n",
       "      <td>1</td>\n",
       "      <td>0</td>\n",
       "      <td>0</td>\n",
       "      <td>0</td>\n",
       "      <td>0</td>\n",
       "      <td>0</td>\n",
       "      <td>0</td>\n",
       "      <td>0</td>\n",
       "      <td>0</td>\n",
       "    </tr>\n",
       "    <tr>\n",
       "      <td>1</td>\n",
       "      <td>0</td>\n",
       "      <td>app</td>\n",
       "      <td>True</td>\n",
       "      <td>True</td>\n",
       "      <td>True</td>\n",
       "      <td>0</td>\n",
       "      <td>0</td>\n",
       "      <td>0</td>\n",
       "      <td>0</td>\n",
       "      <td>1</td>\n",
       "      <td>...</td>\n",
       "      <td>0</td>\n",
       "      <td>0</td>\n",
       "      <td>0</td>\n",
       "      <td>0</td>\n",
       "      <td>0</td>\n",
       "      <td>0</td>\n",
       "      <td>0</td>\n",
       "      <td>0</td>\n",
       "      <td>0</td>\n",
       "      <td>0</td>\n",
       "    </tr>\n",
       "    <tr>\n",
       "      <td>2</td>\n",
       "      <td>0</td>\n",
       "      <td>app</td>\n",
       "      <td>True</td>\n",
       "      <td>True</td>\n",
       "      <td>False</td>\n",
       "      <td>1</td>\n",
       "      <td>0</td>\n",
       "      <td>0</td>\n",
       "      <td>0</td>\n",
       "      <td>0</td>\n",
       "      <td>...</td>\n",
       "      <td>0</td>\n",
       "      <td>0</td>\n",
       "      <td>0</td>\n",
       "      <td>0</td>\n",
       "      <td>0</td>\n",
       "      <td>0</td>\n",
       "      <td>0</td>\n",
       "      <td>0</td>\n",
       "      <td>0</td>\n",
       "      <td>0</td>\n",
       "    </tr>\n",
       "    <tr>\n",
       "      <td>3</td>\n",
       "      <td>0</td>\n",
       "      <td>site</td>\n",
       "      <td>True</td>\n",
       "      <td>False</td>\n",
       "      <td>False</td>\n",
       "      <td>1</td>\n",
       "      <td>0</td>\n",
       "      <td>0</td>\n",
       "      <td>0</td>\n",
       "      <td>0</td>\n",
       "      <td>...</td>\n",
       "      <td>0</td>\n",
       "      <td>0</td>\n",
       "      <td>0</td>\n",
       "      <td>0</td>\n",
       "      <td>0</td>\n",
       "      <td>0</td>\n",
       "      <td>0</td>\n",
       "      <td>0</td>\n",
       "      <td>0</td>\n",
       "      <td>0</td>\n",
       "    </tr>\n",
       "    <tr>\n",
       "      <td>4</td>\n",
       "      <td>0</td>\n",
       "      <td>app</td>\n",
       "      <td>True</td>\n",
       "      <td>True</td>\n",
       "      <td>False</td>\n",
       "      <td>0</td>\n",
       "      <td>0</td>\n",
       "      <td>0</td>\n",
       "      <td>0</td>\n",
       "      <td>1</td>\n",
       "      <td>...</td>\n",
       "      <td>1</td>\n",
       "      <td>0</td>\n",
       "      <td>0</td>\n",
       "      <td>0</td>\n",
       "      <td>0</td>\n",
       "      <td>0</td>\n",
       "      <td>0</td>\n",
       "      <td>0</td>\n",
       "      <td>0</td>\n",
       "      <td>0</td>\n",
       "    </tr>\n",
       "  </tbody>\n",
       "</table>\n",
       "<p>5 rows × 53 columns</p>\n",
       "</div>"
      ],
      "text/plain": [
       "   click app_or_site  has_gps  has_ifa  Device_lg_Equals_country_lg  IAB1  \\\n",
       "0      0         app     True     True                        False     1   \n",
       "1      0         app     True     True                         True     0   \n",
       "2      0         app     True     True                        False     1   \n",
       "3      0        site     True    False                        False     1   \n",
       "4      0         app     True     True                        False     0   \n",
       "\n",
       "   IAB1%  IAB10  IAB11  IAB12  ...  news  photo  produ  refer  socia  sport  \\\n",
       "0      0      0      0      0  ...     0      1      0      0      0      0   \n",
       "1      0      0      0      1  ...     0      0      0      0      0      0   \n",
       "2      0      0      0      0  ...     0      0      0      0      0      0   \n",
       "3      0      0      0      0  ...     0      0      0      0      0      0   \n",
       "4      0      0      0      1  ...     1      0      0      0      0      0   \n",
       "\n",
       "   trave  unkno  utili  weath  \n",
       "0      0      0      0      0  \n",
       "1      0      0      0      0  \n",
       "2      0      0      0      0  \n",
       "3      0      0      0      0  \n",
       "4      0      0      0      0  \n",
       "\n",
       "[5 rows x 53 columns]"
      ]
     },
     "execution_count": 202,
     "metadata": {},
     "output_type": "execute_result"
    }
   ],
   "source": [
    "df[bin_var].head()"
   ]
  },
  {
   "cell_type": "code",
   "execution_count": 18,
   "metadata": {
    "ExecuteTime": {
     "end_time": "2020-03-11T11:09:18.433900Z",
     "start_time": "2020-03-11T11:09:18.354717Z"
    }
   },
   "outputs": [],
   "source": [
    "# Let's binarize some variable\n",
    "\n",
    "df.app_or_site = [1 if el == 'app' else 0 for el in df.app_or_site]\n",
    "df.has_gps = [1 if el == True else 0 for el in df.has_gps]\n",
    "df.has_ifa = [1 if el == True else 0 for el in df.has_ifa]\n",
    "df.Device_lg_Equals_country_lg = [\n",
    "    1 if el == True else 0 for el in df.Device_lg_Equals_country_lg]"
   ]
  },
  {
   "cell_type": "markdown",
   "metadata": {},
   "source": [
    "## Multicategorical var"
   ]
  },
  {
   "cell_type": "code",
   "execution_count": 206,
   "metadata": {
    "ExecuteTime": {
     "end_time": "2020-03-11T10:35:20.854806Z",
     "start_time": "2020-03-11T10:35:20.832893Z"
    },
    "scrolled": true
   },
   "outputs": [
    {
     "data": {
      "text/html": [
       "<div>\n",
       "<style scoped>\n",
       "    .dataframe tbody tr th:only-of-type {\n",
       "        vertical-align: middle;\n",
       "    }\n",
       "\n",
       "    .dataframe tbody tr th {\n",
       "        vertical-align: top;\n",
       "    }\n",
       "\n",
       "    .dataframe thead th {\n",
       "        text-align: right;\n",
       "    }\n",
       "</style>\n",
       "<table border=\"1\" class=\"dataframe\">\n",
       "  <thead>\n",
       "    <tr style=\"text-align: right;\">\n",
       "      <th></th>\n",
       "      <th>exchange</th>\n",
       "      <th>device_type</th>\n",
       "      <th>connection_type</th>\n",
       "      <th>bidder_name</th>\n",
       "      <th>Device_language</th>\n",
       "      <th>Continent</th>\n",
       "      <th>Country_code</th>\n",
       "      <th>Country_name</th>\n",
       "      <th>fullOsInfo</th>\n",
       "      <th>Timestamp_hour</th>\n",
       "      <th>Timestamp_DayOfWeek</th>\n",
       "      <th>Timestamp_DayOfMonth</th>\n",
       "      <th>creative_size</th>\n",
       "    </tr>\n",
       "  </thead>\n",
       "  <tbody>\n",
       "    <tr>\n",
       "      <td>0</td>\n",
       "      <td>mopub</td>\n",
       "      <td>4</td>\n",
       "      <td>2</td>\n",
       "      <td>albatros</td>\n",
       "      <td>en</td>\n",
       "      <td>Asia</td>\n",
       "      <td>AE</td>\n",
       "      <td>United Arab Emirates</td>\n",
       "      <td>iOS_12</td>\n",
       "      <td>23</td>\n",
       "      <td>5</td>\n",
       "      <td>15</td>\n",
       "      <td>300x250</td>\n",
       "    </tr>\n",
       "    <tr>\n",
       "      <td>1</td>\n",
       "      <td>rubicon</td>\n",
       "      <td>1</td>\n",
       "      <td>2</td>\n",
       "      <td>butor</td>\n",
       "      <td>de</td>\n",
       "      <td>Europe</td>\n",
       "      <td>DE</td>\n",
       "      <td>Germany</td>\n",
       "      <td>iOS_12</td>\n",
       "      <td>21</td>\n",
       "      <td>6</td>\n",
       "      <td>16</td>\n",
       "      <td>300x250</td>\n",
       "    </tr>\n",
       "    <tr>\n",
       "      <td>2</td>\n",
       "      <td>mopub</td>\n",
       "      <td>4</td>\n",
       "      <td>6</td>\n",
       "      <td>albatros</td>\n",
       "      <td>ar</td>\n",
       "      <td>Europe</td>\n",
       "      <td>FR</td>\n",
       "      <td>France</td>\n",
       "      <td>Android_8</td>\n",
       "      <td>23</td>\n",
       "      <td>7</td>\n",
       "      <td>17</td>\n",
       "      <td>320x480</td>\n",
       "    </tr>\n",
       "    <tr>\n",
       "      <td>3</td>\n",
       "      <td>teads</td>\n",
       "      <td>4</td>\n",
       "      <td>unknown</td>\n",
       "      <td>albatros</td>\n",
       "      <td>en</td>\n",
       "      <td>America</td>\n",
       "      <td>CA</td>\n",
       "      <td>Canada</td>\n",
       "      <td>iOS_12</td>\n",
       "      <td>22</td>\n",
       "      <td>6</td>\n",
       "      <td>16</td>\n",
       "      <td>300x250</td>\n",
       "    </tr>\n",
       "    <tr>\n",
       "      <td>4</td>\n",
       "      <td>mopub</td>\n",
       "      <td>4</td>\n",
       "      <td>6</td>\n",
       "      <td>butor</td>\n",
       "      <td>fr</td>\n",
       "      <td>Asia</td>\n",
       "      <td>YE</td>\n",
       "      <td>Yemen</td>\n",
       "      <td>iOS_11</td>\n",
       "      <td>5</td>\n",
       "      <td>4</td>\n",
       "      <td>21</td>\n",
       "      <td>320x480</td>\n",
       "    </tr>\n",
       "  </tbody>\n",
       "</table>\n",
       "</div>"
      ],
      "text/plain": [
       "  exchange device_type connection_type bidder_name Device_language Continent  \\\n",
       "0    mopub           4               2    albatros              en      Asia   \n",
       "1  rubicon           1               2       butor              de    Europe   \n",
       "2    mopub           4               6    albatros              ar    Europe   \n",
       "3    teads           4         unknown    albatros              en   America   \n",
       "4    mopub           4               6       butor              fr      Asia   \n",
       "\n",
       "  Country_code          Country_name fullOsInfo  Timestamp_hour  \\\n",
       "0           AE  United Arab Emirates     iOS_12              23   \n",
       "1           DE               Germany     iOS_12              21   \n",
       "2           FR                France  Android_8              23   \n",
       "3           CA                Canada     iOS_12              22   \n",
       "4           YE                 Yemen     iOS_11               5   \n",
       "\n",
       "   Timestamp_DayOfWeek  Timestamp_DayOfMonth creative_size  \n",
       "0                    5                    15       300x250  \n",
       "1                    6                    16       300x250  \n",
       "2                    7                    17       320x480  \n",
       "3                    6                    16       300x250  \n",
       "4                    4                    21       320x480  "
      ]
     },
     "execution_count": 206,
     "metadata": {},
     "output_type": "execute_result"
    }
   ],
   "source": [
    "df[M_cat_var].head()"
   ]
  },
  {
   "cell_type": "code",
   "execution_count": 19,
   "metadata": {
    "ExecuteTime": {
     "end_time": "2020-03-11T11:09:20.844293Z",
     "start_time": "2020-03-11T11:09:20.841597Z"
    }
   },
   "outputs": [],
   "source": [
    "# Remove city from num_var and add it as categorial var\n",
    "M_cat_var.append('City')\n",
    "num_var.remove('City')"
   ]
  },
  {
   "cell_type": "code",
   "execution_count": 20,
   "metadata": {
    "ExecuteTime": {
     "end_time": "2020-03-11T11:09:22.175905Z",
     "start_time": "2020-03-11T11:09:22.144758Z"
    },
    "hide_input": false,
    "scrolled": false
   },
   "outputs": [
    {
     "name": "stdout",
     "output_type": "stream",
     "text": [
      "exchange 12\n",
      "device_type 4\n",
      "connection_type 7\n",
      "bidder_name 3\n",
      "Device_language 38\n",
      "Continent 5\n",
      "Country_code 35\n",
      "Country_name 35\n",
      "fullOsInfo 24\n",
      "Timestamp_hour 24\n",
      "Timestamp_DayOfWeek 7\n",
      "Timestamp_DayOfMonth 10\n",
      "creative_size 10\n",
      "City 51\n"
     ]
    }
   ],
   "source": [
    "# See the number of level for each var\n",
    "for el in M_cat_var:\n",
    "    print(el, len(df[el].unique()))"
   ]
  },
  {
   "cell_type": "code",
   "execution_count": 21,
   "metadata": {
    "ExecuteTime": {
     "end_time": "2020-03-11T11:09:24.045159Z",
     "start_time": "2020-03-11T11:09:24.025346Z"
    }
   },
   "outputs": [],
   "source": [
    "# Discrétisation of the hour\n",
    "# 0h - 8h = Nuit\n",
    "# 8h - 12h = Matin\n",
    "# 12h - 18h = Après-midi\n",
    "# 18h - 0h = Soir \n",
    "df.Timestamp_hour = pd.cut(df.Timestamp_hour, [0, 8,12,18,24], labels=['nuit','Matin','Aprem','Soir'])"
   ]
  },
  {
   "cell_type": "code",
   "execution_count": 22,
   "metadata": {
    "ExecuteTime": {
     "end_time": "2020-03-11T11:09:26.423418Z",
     "start_time": "2020-03-11T11:09:26.319766Z"
    }
   },
   "outputs": [],
   "source": [
    "# Convert variable into categoy\n",
    "for el in M_cat_var:\n",
    "    df[el] = df[el].astype('category')"
   ]
  },
  {
   "cell_type": "code",
   "execution_count": 211,
   "metadata": {
    "ExecuteTime": {
     "end_time": "2020-03-11T10:35:45.636787Z",
     "start_time": "2020-03-11T10:35:45.610037Z"
    },
    "scrolled": false
   },
   "outputs": [
    {
     "data": {
      "text/html": [
       "<div>\n",
       "<style scoped>\n",
       "    .dataframe tbody tr th:only-of-type {\n",
       "        vertical-align: middle;\n",
       "    }\n",
       "\n",
       "    .dataframe tbody tr th {\n",
       "        vertical-align: top;\n",
       "    }\n",
       "\n",
       "    .dataframe thead th {\n",
       "        text-align: right;\n",
       "    }\n",
       "</style>\n",
       "<table border=\"1\" class=\"dataframe\">\n",
       "  <thead>\n",
       "    <tr style=\"text-align: right;\">\n",
       "      <th></th>\n",
       "      <th>exchange</th>\n",
       "      <th>device_type</th>\n",
       "      <th>connection_type</th>\n",
       "      <th>bidder_name</th>\n",
       "      <th>Device_language</th>\n",
       "      <th>Continent</th>\n",
       "      <th>Country_code</th>\n",
       "      <th>Country_name</th>\n",
       "      <th>fullOsInfo</th>\n",
       "      <th>Timestamp_hour</th>\n",
       "      <th>Timestamp_DayOfWeek</th>\n",
       "      <th>Timestamp_DayOfMonth</th>\n",
       "      <th>creative_size</th>\n",
       "      <th>City</th>\n",
       "    </tr>\n",
       "  </thead>\n",
       "  <tbody>\n",
       "    <tr>\n",
       "      <td>0</td>\n",
       "      <td>mopub</td>\n",
       "      <td>4</td>\n",
       "      <td>2</td>\n",
       "      <td>albatros</td>\n",
       "      <td>en</td>\n",
       "      <td>Asia</td>\n",
       "      <td>AE</td>\n",
       "      <td>United Arab Emirates</td>\n",
       "      <td>iOS_12</td>\n",
       "      <td>Soir</td>\n",
       "      <td>5</td>\n",
       "      <td>15</td>\n",
       "      <td>300x250</td>\n",
       "      <td>Dubai</td>\n",
       "    </tr>\n",
       "    <tr>\n",
       "      <td>1</td>\n",
       "      <td>rubicon</td>\n",
       "      <td>1</td>\n",
       "      <td>2</td>\n",
       "      <td>butor</td>\n",
       "      <td>de</td>\n",
       "      <td>Europe</td>\n",
       "      <td>DE</td>\n",
       "      <td>Germany</td>\n",
       "      <td>iOS_12</td>\n",
       "      <td>Soir</td>\n",
       "      <td>6</td>\n",
       "      <td>16</td>\n",
       "      <td>300x250</td>\n",
       "      <td>Berlin</td>\n",
       "    </tr>\n",
       "    <tr>\n",
       "      <td>2</td>\n",
       "      <td>mopub</td>\n",
       "      <td>4</td>\n",
       "      <td>6</td>\n",
       "      <td>albatros</td>\n",
       "      <td>ar</td>\n",
       "      <td>Europe</td>\n",
       "      <td>FR</td>\n",
       "      <td>France</td>\n",
       "      <td>Android_8</td>\n",
       "      <td>Soir</td>\n",
       "      <td>7</td>\n",
       "      <td>17</td>\n",
       "      <td>320x480</td>\n",
       "      <td>Paris</td>\n",
       "    </tr>\n",
       "    <tr>\n",
       "      <td>3</td>\n",
       "      <td>teads</td>\n",
       "      <td>4</td>\n",
       "      <td>unknown</td>\n",
       "      <td>albatros</td>\n",
       "      <td>en</td>\n",
       "      <td>America</td>\n",
       "      <td>CA</td>\n",
       "      <td>Canada</td>\n",
       "      <td>iOS_12</td>\n",
       "      <td>Soir</td>\n",
       "      <td>6</td>\n",
       "      <td>16</td>\n",
       "      <td>300x250</td>\n",
       "      <td>Toronto</td>\n",
       "    </tr>\n",
       "    <tr>\n",
       "      <td>4</td>\n",
       "      <td>mopub</td>\n",
       "      <td>4</td>\n",
       "      <td>6</td>\n",
       "      <td>butor</td>\n",
       "      <td>fr</td>\n",
       "      <td>Asia</td>\n",
       "      <td>YE</td>\n",
       "      <td>Yemen</td>\n",
       "      <td>iOS_11</td>\n",
       "      <td>nuit</td>\n",
       "      <td>4</td>\n",
       "      <td>21</td>\n",
       "      <td>320x480</td>\n",
       "      <td>Aden</td>\n",
       "    </tr>\n",
       "  </tbody>\n",
       "</table>\n",
       "</div>"
      ],
      "text/plain": [
       "  exchange device_type connection_type bidder_name Device_language Continent  \\\n",
       "0    mopub           4               2    albatros              en      Asia   \n",
       "1  rubicon           1               2       butor              de    Europe   \n",
       "2    mopub           4               6    albatros              ar    Europe   \n",
       "3    teads           4         unknown    albatros              en   America   \n",
       "4    mopub           4               6       butor              fr      Asia   \n",
       "\n",
       "  Country_code          Country_name fullOsInfo Timestamp_hour  \\\n",
       "0           AE  United Arab Emirates     iOS_12           Soir   \n",
       "1           DE               Germany     iOS_12           Soir   \n",
       "2           FR                France  Android_8           Soir   \n",
       "3           CA                Canada     iOS_12           Soir   \n",
       "4           YE                 Yemen     iOS_11           nuit   \n",
       "\n",
       "  Timestamp_DayOfWeek Timestamp_DayOfMonth creative_size     City  \n",
       "0                   5                   15       300x250    Dubai  \n",
       "1                   6                   16       300x250   Berlin  \n",
       "2                   7                   17       320x480    Paris  \n",
       "3                   6                   16       300x250  Toronto  \n",
       "4                   4                   21       320x480     Aden  "
      ]
     },
     "execution_count": 211,
     "metadata": {},
     "output_type": "execute_result"
    }
   ],
   "source": [
    "df[M_cat_var].head()"
   ]
  },
  {
   "cell_type": "markdown",
   "metadata": {},
   "source": [
    "## Numeric Variable"
   ]
  },
  {
   "cell_type": "code",
   "execution_count": 23,
   "metadata": {
    "ExecuteTime": {
     "end_time": "2020-03-11T11:09:29.972764Z",
     "start_time": "2020-03-11T11:09:29.939942Z"
    }
   },
   "outputs": [
    {
     "data": {
      "text/html": [
       "<div>\n",
       "<style scoped>\n",
       "    .dataframe tbody tr th:only-of-type {\n",
       "        vertical-align: middle;\n",
       "    }\n",
       "\n",
       "    .dataframe tbody tr th {\n",
       "        vertical-align: top;\n",
       "    }\n",
       "\n",
       "    .dataframe thead th {\n",
       "        text-align: right;\n",
       "    }\n",
       "</style>\n",
       "<table border=\"1\" class=\"dataframe\">\n",
       "  <thead>\n",
       "    <tr style=\"text-align: right;\">\n",
       "      <th></th>\n",
       "      <th>win_price</th>\n",
       "      <th>Days_Since_Campaign_Starts</th>\n",
       "      <th>Days_Before_Campaign_Ends</th>\n",
       "      <th>Campaign_Duration</th>\n",
       "    </tr>\n",
       "  </thead>\n",
       "  <tbody>\n",
       "    <tr>\n",
       "      <td>0</td>\n",
       "      <td>0.15000</td>\n",
       "      <td>76</td>\n",
       "      <td>46</td>\n",
       "      <td>122</td>\n",
       "    </tr>\n",
       "    <tr>\n",
       "      <td>1</td>\n",
       "      <td>5.04214</td>\n",
       "      <td>8</td>\n",
       "      <td>106</td>\n",
       "      <td>114</td>\n",
       "    </tr>\n",
       "    <tr>\n",
       "      <td>2</td>\n",
       "      <td>4.73000</td>\n",
       "      <td>38</td>\n",
       "      <td>14</td>\n",
       "      <td>52</td>\n",
       "    </tr>\n",
       "    <tr>\n",
       "      <td>3</td>\n",
       "      <td>6.00000</td>\n",
       "      <td>3</td>\n",
       "      <td>15</td>\n",
       "      <td>18</td>\n",
       "    </tr>\n",
       "    <tr>\n",
       "      <td>4</td>\n",
       "      <td>1.39000</td>\n",
       "      <td>34</td>\n",
       "      <td>63</td>\n",
       "      <td>97</td>\n",
       "    </tr>\n",
       "  </tbody>\n",
       "</table>\n",
       "</div>"
      ],
      "text/plain": [
       "   win_price  Days_Since_Campaign_Starts  Days_Before_Campaign_Ends  \\\n",
       "0    0.15000                          76                         46   \n",
       "1    5.04214                           8                        106   \n",
       "2    4.73000                          38                         14   \n",
       "3    6.00000                           3                         15   \n",
       "4    1.39000                          34                         63   \n",
       "\n",
       "   Campaign_Duration  \n",
       "0                122  \n",
       "1                114  \n",
       "2                 52  \n",
       "3                 18  \n",
       "4                 97  "
      ]
     },
     "execution_count": 23,
     "metadata": {},
     "output_type": "execute_result"
    }
   ],
   "source": [
    "df[num_var].head()"
   ]
  },
  {
   "cell_type": "code",
   "execution_count": 24,
   "metadata": {
    "ExecuteTime": {
     "end_time": "2020-03-11T11:09:31.766818Z",
     "start_time": "2020-03-11T11:09:31.735475Z"
    }
   },
   "outputs": [],
   "source": [
    "# Scale numeric var\n",
    "for el in num_var:\n",
    "    df[el] = scale(df[el])"
   ]
  },
  {
   "cell_type": "code",
   "execution_count": 215,
   "metadata": {
    "ExecuteTime": {
     "end_time": "2020-03-11T10:36:59.195319Z",
     "start_time": "2020-03-11T10:36:59.165113Z"
    },
    "scrolled": true
   },
   "outputs": [
    {
     "data": {
      "text/html": [
       "<div>\n",
       "<style scoped>\n",
       "    .dataframe tbody tr th:only-of-type {\n",
       "        vertical-align: middle;\n",
       "    }\n",
       "\n",
       "    .dataframe tbody tr th {\n",
       "        vertical-align: top;\n",
       "    }\n",
       "\n",
       "    .dataframe thead th {\n",
       "        text-align: right;\n",
       "    }\n",
       "</style>\n",
       "<table border=\"1\" class=\"dataframe\">\n",
       "  <thead>\n",
       "    <tr style=\"text-align: right;\">\n",
       "      <th></th>\n",
       "      <th>click</th>\n",
       "      <th>exchange</th>\n",
       "      <th>app_or_site</th>\n",
       "      <th>has_gps</th>\n",
       "      <th>device_type</th>\n",
       "      <th>connection_type</th>\n",
       "      <th>has_ifa</th>\n",
       "      <th>win_price</th>\n",
       "      <th>bidder_name</th>\n",
       "      <th>Device_language</th>\n",
       "      <th>...</th>\n",
       "      <th>utili</th>\n",
       "      <th>weath</th>\n",
       "      <th>fullOsInfo</th>\n",
       "      <th>Timestamp_hour</th>\n",
       "      <th>Timestamp_DayOfWeek</th>\n",
       "      <th>Timestamp_DayOfMonth</th>\n",
       "      <th>Days_Since_Campaign_Starts</th>\n",
       "      <th>Days_Before_Campaign_Ends</th>\n",
       "      <th>Campaign_Duration</th>\n",
       "      <th>creative_size</th>\n",
       "    </tr>\n",
       "  </thead>\n",
       "  <tbody>\n",
       "    <tr>\n",
       "      <td>0</td>\n",
       "      <td>0</td>\n",
       "      <td>mopub</td>\n",
       "      <td>0</td>\n",
       "      <td>1</td>\n",
       "      <td>4</td>\n",
       "      <td>2</td>\n",
       "      <td>1</td>\n",
       "      <td>-0.596066</td>\n",
       "      <td>albatros</td>\n",
       "      <td>en</td>\n",
       "      <td>...</td>\n",
       "      <td>0</td>\n",
       "      <td>0</td>\n",
       "      <td>iOS_12</td>\n",
       "      <td>Soir</td>\n",
       "      <td>5</td>\n",
       "      <td>15</td>\n",
       "      <td>3.288217</td>\n",
       "      <td>1.069634</td>\n",
       "      <td>2.380897</td>\n",
       "      <td>300x250</td>\n",
       "    </tr>\n",
       "    <tr>\n",
       "      <td>1</td>\n",
       "      <td>0</td>\n",
       "      <td>rubicon</td>\n",
       "      <td>0</td>\n",
       "      <td>1</td>\n",
       "      <td>1</td>\n",
       "      <td>2</td>\n",
       "      <td>1</td>\n",
       "      <td>1.294197</td>\n",
       "      <td>butor</td>\n",
       "      <td>de</td>\n",
       "      <td>...</td>\n",
       "      <td>0</td>\n",
       "      <td>0</td>\n",
       "      <td>iOS_12</td>\n",
       "      <td>Soir</td>\n",
       "      <td>6</td>\n",
       "      <td>16</td>\n",
       "      <td>-0.733083</td>\n",
       "      <td>3.647355</td>\n",
       "      <td>2.144289</td>\n",
       "      <td>300x250</td>\n",
       "    </tr>\n",
       "    <tr>\n",
       "      <td>2</td>\n",
       "      <td>0</td>\n",
       "      <td>mopub</td>\n",
       "      <td>0</td>\n",
       "      <td>1</td>\n",
       "      <td>4</td>\n",
       "      <td>6</td>\n",
       "      <td>1</td>\n",
       "      <td>1.173590</td>\n",
       "      <td>albatros</td>\n",
       "      <td>ar</td>\n",
       "      <td>...</td>\n",
       "      <td>0</td>\n",
       "      <td>0</td>\n",
       "      <td>Android_8</td>\n",
       "      <td>Soir</td>\n",
       "      <td>7</td>\n",
       "      <td>17</td>\n",
       "      <td>1.041020</td>\n",
       "      <td>-0.305150</td>\n",
       "      <td>0.310572</td>\n",
       "      <td>320x480</td>\n",
       "    </tr>\n",
       "    <tr>\n",
       "      <td>3</td>\n",
       "      <td>0</td>\n",
       "      <td>teads</td>\n",
       "      <td>0</td>\n",
       "      <td>1</td>\n",
       "      <td>4</td>\n",
       "      <td>unknown</td>\n",
       "      <td>0</td>\n",
       "      <td>1.664303</td>\n",
       "      <td>albatros</td>\n",
       "      <td>en</td>\n",
       "      <td>...</td>\n",
       "      <td>0</td>\n",
       "      <td>0</td>\n",
       "      <td>iOS_12</td>\n",
       "      <td>Soir</td>\n",
       "      <td>6</td>\n",
       "      <td>16</td>\n",
       "      <td>-1.028767</td>\n",
       "      <td>-0.262188</td>\n",
       "      <td>-0.695014</td>\n",
       "      <td>300x250</td>\n",
       "    </tr>\n",
       "    <tr>\n",
       "      <td>4</td>\n",
       "      <td>0</td>\n",
       "      <td>mopub</td>\n",
       "      <td>0</td>\n",
       "      <td>1</td>\n",
       "      <td>4</td>\n",
       "      <td>6</td>\n",
       "      <td>1</td>\n",
       "      <td>-0.116945</td>\n",
       "      <td>butor</td>\n",
       "      <td>fr</td>\n",
       "      <td>...</td>\n",
       "      <td>0</td>\n",
       "      <td>0</td>\n",
       "      <td>iOS_11</td>\n",
       "      <td>nuit</td>\n",
       "      <td>4</td>\n",
       "      <td>21</td>\n",
       "      <td>0.804473</td>\n",
       "      <td>1.799989</td>\n",
       "      <td>1.641496</td>\n",
       "      <td>320x480</td>\n",
       "    </tr>\n",
       "  </tbody>\n",
       "</table>\n",
       "<p>5 rows × 71 columns</p>\n",
       "</div>"
      ],
      "text/plain": [
       "   click exchange  app_or_site  has_gps device_type connection_type  has_ifa  \\\n",
       "0      0    mopub            0        1           4               2        1   \n",
       "1      0  rubicon            0        1           1               2        1   \n",
       "2      0    mopub            0        1           4               6        1   \n",
       "3      0    teads            0        1           4         unknown        0   \n",
       "4      0    mopub            0        1           4               6        1   \n",
       "\n",
       "   win_price bidder_name Device_language  ...  utili weath fullOsInfo  \\\n",
       "0  -0.596066    albatros              en  ...      0     0     iOS_12   \n",
       "1   1.294197       butor              de  ...      0     0     iOS_12   \n",
       "2   1.173590    albatros              ar  ...      0     0  Android_8   \n",
       "3   1.664303    albatros              en  ...      0     0     iOS_12   \n",
       "4  -0.116945       butor              fr  ...      0     0     iOS_11   \n",
       "\n",
       "  Timestamp_hour Timestamp_DayOfWeek  Timestamp_DayOfMonth  \\\n",
       "0           Soir                   5                    15   \n",
       "1           Soir                   6                    16   \n",
       "2           Soir                   7                    17   \n",
       "3           Soir                   6                    16   \n",
       "4           nuit                   4                    21   \n",
       "\n",
       "   Days_Since_Campaign_Starts  Days_Before_Campaign_Ends  Campaign_Duration  \\\n",
       "0                    3.288217                   1.069634           2.380897   \n",
       "1                   -0.733083                   3.647355           2.144289   \n",
       "2                    1.041020                  -0.305150           0.310572   \n",
       "3                   -1.028767                  -0.262188          -0.695014   \n",
       "4                    0.804473                   1.799989           1.641496   \n",
       "\n",
       "   creative_size  \n",
       "0        300x250  \n",
       "1        300x250  \n",
       "2        320x480  \n",
       "3        300x250  \n",
       "4        320x480  \n",
       "\n",
       "[5 rows x 71 columns]"
      ]
     },
     "execution_count": 215,
     "metadata": {},
     "output_type": "execute_result"
    }
   ],
   "source": [
    "df.head()"
   ]
  },
  {
   "cell_type": "markdown",
   "metadata": {},
   "source": [
    "## Dummification"
   ]
  },
  {
   "cell_type": "code",
   "execution_count": 25,
   "metadata": {
    "ExecuteTime": {
     "end_time": "2020-03-11T11:09:35.193600Z",
     "start_time": "2020-03-11T11:09:35.096157Z"
    }
   },
   "outputs": [
    {
     "data": {
      "text/plain": [
       "(44283, 302)"
      ]
     },
     "execution_count": 25,
     "metadata": {},
     "output_type": "execute_result"
    }
   ],
   "source": [
    "df1 = df.drop(M_cat_var, axis= 1) # data frame without multicat var\n",
    "df2 = df[M_cat_var] # Variable to dummy\n",
    "df2 = pd.get_dummies(df2)\n",
    "data = pd.concat([df1, df2], axis=1)\n",
    "data.shape"
   ]
  },
  {
   "cell_type": "code",
   "execution_count": 217,
   "metadata": {
    "ExecuteTime": {
     "end_time": "2020-03-11T10:37:08.536456Z",
     "start_time": "2020-03-11T10:37:08.513650Z"
    },
    "scrolled": false
   },
   "outputs": [
    {
     "data": {
      "text/html": [
       "<div>\n",
       "<style scoped>\n",
       "    .dataframe tbody tr th:only-of-type {\n",
       "        vertical-align: middle;\n",
       "    }\n",
       "\n",
       "    .dataframe tbody tr th {\n",
       "        vertical-align: top;\n",
       "    }\n",
       "\n",
       "    .dataframe thead th {\n",
       "        text-align: right;\n",
       "    }\n",
       "</style>\n",
       "<table border=\"1\" class=\"dataframe\">\n",
       "  <thead>\n",
       "    <tr style=\"text-align: right;\">\n",
       "      <th></th>\n",
       "      <th>click</th>\n",
       "      <th>app_or_site</th>\n",
       "      <th>has_gps</th>\n",
       "      <th>has_ifa</th>\n",
       "      <th>win_price</th>\n",
       "      <th>Device_lg_Equals_country_lg</th>\n",
       "      <th>IAB1</th>\n",
       "      <th>IAB1%</th>\n",
       "      <th>IAB10</th>\n",
       "      <th>IAB11</th>\n",
       "      <th>...</th>\n",
       "      <th>City_Tehran</th>\n",
       "      <th>City_Tijuana</th>\n",
       "      <th>City_Tokyo</th>\n",
       "      <th>City_Toronto</th>\n",
       "      <th>City_Tunis</th>\n",
       "      <th>City_Vaduz</th>\n",
       "      <th>City_Vienna</th>\n",
       "      <th>City_Vientiane</th>\n",
       "      <th>City_Vilnius</th>\n",
       "      <th>City_Zurich</th>\n",
       "    </tr>\n",
       "  </thead>\n",
       "  <tbody>\n",
       "    <tr>\n",
       "      <td>0</td>\n",
       "      <td>0</td>\n",
       "      <td>0</td>\n",
       "      <td>1</td>\n",
       "      <td>1</td>\n",
       "      <td>-0.596066</td>\n",
       "      <td>0</td>\n",
       "      <td>1</td>\n",
       "      <td>0</td>\n",
       "      <td>0</td>\n",
       "      <td>0</td>\n",
       "      <td>...</td>\n",
       "      <td>0</td>\n",
       "      <td>0</td>\n",
       "      <td>0</td>\n",
       "      <td>0</td>\n",
       "      <td>0</td>\n",
       "      <td>0</td>\n",
       "      <td>0</td>\n",
       "      <td>0</td>\n",
       "      <td>0</td>\n",
       "      <td>0</td>\n",
       "    </tr>\n",
       "    <tr>\n",
       "      <td>1</td>\n",
       "      <td>0</td>\n",
       "      <td>0</td>\n",
       "      <td>1</td>\n",
       "      <td>1</td>\n",
       "      <td>1.294197</td>\n",
       "      <td>1</td>\n",
       "      <td>0</td>\n",
       "      <td>0</td>\n",
       "      <td>0</td>\n",
       "      <td>0</td>\n",
       "      <td>...</td>\n",
       "      <td>0</td>\n",
       "      <td>0</td>\n",
       "      <td>0</td>\n",
       "      <td>0</td>\n",
       "      <td>0</td>\n",
       "      <td>0</td>\n",
       "      <td>0</td>\n",
       "      <td>0</td>\n",
       "      <td>0</td>\n",
       "      <td>0</td>\n",
       "    </tr>\n",
       "    <tr>\n",
       "      <td>2</td>\n",
       "      <td>0</td>\n",
       "      <td>0</td>\n",
       "      <td>1</td>\n",
       "      <td>1</td>\n",
       "      <td>1.173590</td>\n",
       "      <td>0</td>\n",
       "      <td>1</td>\n",
       "      <td>0</td>\n",
       "      <td>0</td>\n",
       "      <td>0</td>\n",
       "      <td>...</td>\n",
       "      <td>0</td>\n",
       "      <td>0</td>\n",
       "      <td>0</td>\n",
       "      <td>0</td>\n",
       "      <td>0</td>\n",
       "      <td>0</td>\n",
       "      <td>0</td>\n",
       "      <td>0</td>\n",
       "      <td>0</td>\n",
       "      <td>0</td>\n",
       "    </tr>\n",
       "    <tr>\n",
       "      <td>3</td>\n",
       "      <td>0</td>\n",
       "      <td>0</td>\n",
       "      <td>1</td>\n",
       "      <td>0</td>\n",
       "      <td>1.664303</td>\n",
       "      <td>0</td>\n",
       "      <td>1</td>\n",
       "      <td>0</td>\n",
       "      <td>0</td>\n",
       "      <td>0</td>\n",
       "      <td>...</td>\n",
       "      <td>0</td>\n",
       "      <td>0</td>\n",
       "      <td>0</td>\n",
       "      <td>1</td>\n",
       "      <td>0</td>\n",
       "      <td>0</td>\n",
       "      <td>0</td>\n",
       "      <td>0</td>\n",
       "      <td>0</td>\n",
       "      <td>0</td>\n",
       "    </tr>\n",
       "    <tr>\n",
       "      <td>4</td>\n",
       "      <td>0</td>\n",
       "      <td>0</td>\n",
       "      <td>1</td>\n",
       "      <td>1</td>\n",
       "      <td>-0.116945</td>\n",
       "      <td>0</td>\n",
       "      <td>0</td>\n",
       "      <td>0</td>\n",
       "      <td>0</td>\n",
       "      <td>0</td>\n",
       "      <td>...</td>\n",
       "      <td>0</td>\n",
       "      <td>0</td>\n",
       "      <td>0</td>\n",
       "      <td>0</td>\n",
       "      <td>0</td>\n",
       "      <td>0</td>\n",
       "      <td>0</td>\n",
       "      <td>0</td>\n",
       "      <td>0</td>\n",
       "      <td>0</td>\n",
       "    </tr>\n",
       "  </tbody>\n",
       "</table>\n",
       "<p>5 rows × 302 columns</p>\n",
       "</div>"
      ],
      "text/plain": [
       "   click  app_or_site  has_gps  has_ifa  win_price  \\\n",
       "0      0            0        1        1  -0.596066   \n",
       "1      0            0        1        1   1.294197   \n",
       "2      0            0        1        1   1.173590   \n",
       "3      0            0        1        0   1.664303   \n",
       "4      0            0        1        1  -0.116945   \n",
       "\n",
       "   Device_lg_Equals_country_lg  IAB1  IAB1%  IAB10  IAB11  ...  City_Tehran  \\\n",
       "0                            0     1      0      0      0  ...            0   \n",
       "1                            1     0      0      0      0  ...            0   \n",
       "2                            0     1      0      0      0  ...            0   \n",
       "3                            0     1      0      0      0  ...            0   \n",
       "4                            0     0      0      0      0  ...            0   \n",
       "\n",
       "   City_Tijuana  City_Tokyo  City_Toronto  City_Tunis  City_Vaduz  \\\n",
       "0             0           0             0           0           0   \n",
       "1             0           0             0           0           0   \n",
       "2             0           0             0           0           0   \n",
       "3             0           0             1           0           0   \n",
       "4             0           0             0           0           0   \n",
       "\n",
       "   City_Vienna  City_Vientiane  City_Vilnius  City_Zurich  \n",
       "0            0               0             0            0  \n",
       "1            0               0             0            0  \n",
       "2            0               0             0            0  \n",
       "3            0               0             0            0  \n",
       "4            0               0             0            0  \n",
       "\n",
       "[5 rows x 302 columns]"
      ]
     },
     "execution_count": 217,
     "metadata": {},
     "output_type": "execute_result"
    }
   ],
   "source": [
    "data.head()"
   ]
  },
  {
   "cell_type": "markdown",
   "metadata": {},
   "source": [
    "## SVD for dimensionnal reduction"
   ]
  },
  {
   "cell_type": "code",
   "execution_count": 26,
   "metadata": {
    "ExecuteTime": {
     "end_time": "2020-03-11T11:09:38.886930Z",
     "start_time": "2020-03-11T11:09:38.080217Z"
    },
    "scrolled": false
   },
   "outputs": [
    {
     "name": "stdout",
     "output_type": "stream",
     "text": [
      "Pourcentage d'inertie :  0.804449798620644\n"
     ]
    }
   ],
   "source": [
    "svd = TruncatedSVD(n_components=20, n_iter=7, random_state=42)\n",
    "X = data.drop('click', axis = 1)\n",
    "X_normalised = normalize(X) # Normalize before svd\n",
    "X_transform = svd.fit_transform(X_normalised)\n",
    "print(\"Pourcentage d'inertie : \", svd.explained_variance_ratio_.sum())"
   ]
  },
  {
   "cell_type": "code",
   "execution_count": 27,
   "metadata": {
    "ExecuteTime": {
     "end_time": "2020-03-11T11:09:40.108987Z",
     "start_time": "2020-03-11T11:09:40.095204Z"
    },
    "scrolled": true
   },
   "outputs": [
    {
     "name": "stdout",
     "output_type": "stream",
     "text": [
      "Shape before SVD :  (44283, 302) \n",
      "Shape after SVD :  (44283, 21)\n"
     ]
    }
   ],
   "source": [
    "## Concatenate dataframe for modelization\n",
    "X = pd.DataFrame(X_transform)\n",
    "dataF = pd.concat([data.click, X], axis=1)\n",
    "print(\"Shape before SVD : \",data.shape,\"\\nShape after SVD : \", dataF.shape,)"
   ]
  },
  {
   "cell_type": "code",
   "execution_count": 223,
   "metadata": {
    "ExecuteTime": {
     "end_time": "2020-03-11T10:38:47.380223Z",
     "start_time": "2020-03-11T10:38:47.353604Z"
    },
    "scrolled": true
   },
   "outputs": [
    {
     "data": {
      "text/html": [
       "<div>\n",
       "<style scoped>\n",
       "    .dataframe tbody tr th:only-of-type {\n",
       "        vertical-align: middle;\n",
       "    }\n",
       "\n",
       "    .dataframe tbody tr th {\n",
       "        vertical-align: top;\n",
       "    }\n",
       "\n",
       "    .dataframe thead th {\n",
       "        text-align: right;\n",
       "    }\n",
       "</style>\n",
       "<table border=\"1\" class=\"dataframe\">\n",
       "  <thead>\n",
       "    <tr style=\"text-align: right;\">\n",
       "      <th></th>\n",
       "      <th>click</th>\n",
       "      <th>0</th>\n",
       "      <th>1</th>\n",
       "      <th>2</th>\n",
       "      <th>3</th>\n",
       "      <th>4</th>\n",
       "      <th>5</th>\n",
       "      <th>6</th>\n",
       "      <th>7</th>\n",
       "      <th>8</th>\n",
       "      <th>...</th>\n",
       "      <th>10</th>\n",
       "      <th>11</th>\n",
       "      <th>12</th>\n",
       "      <th>13</th>\n",
       "      <th>14</th>\n",
       "      <th>15</th>\n",
       "      <th>16</th>\n",
       "      <th>17</th>\n",
       "      <th>18</th>\n",
       "      <th>19</th>\n",
       "    </tr>\n",
       "  </thead>\n",
       "  <tbody>\n",
       "    <tr>\n",
       "      <td>0</td>\n",
       "      <td>0</td>\n",
       "      <td>0.239720</td>\n",
       "      <td>-0.182906</td>\n",
       "      <td>0.562510</td>\n",
       "      <td>-0.164532</td>\n",
       "      <td>-0.360404</td>\n",
       "      <td>0.105818</td>\n",
       "      <td>0.434236</td>\n",
       "      <td>-0.003728</td>\n",
       "      <td>0.175631</td>\n",
       "      <td>...</td>\n",
       "      <td>-0.148058</td>\n",
       "      <td>-0.035611</td>\n",
       "      <td>0.064235</td>\n",
       "      <td>0.006775</td>\n",
       "      <td>0.030498</td>\n",
       "      <td>-0.032721</td>\n",
       "      <td>0.071570</td>\n",
       "      <td>0.011526</td>\n",
       "      <td>0.034021</td>\n",
       "      <td>0.024630</td>\n",
       "    </tr>\n",
       "    <tr>\n",
       "      <td>1</td>\n",
       "      <td>0</td>\n",
       "      <td>0.235869</td>\n",
       "      <td>-0.108414</td>\n",
       "      <td>0.655370</td>\n",
       "      <td>-0.078453</td>\n",
       "      <td>0.127249</td>\n",
       "      <td>0.399215</td>\n",
       "      <td>-0.163075</td>\n",
       "      <td>-0.164201</td>\n",
       "      <td>-0.124046</td>\n",
       "      <td>...</td>\n",
       "      <td>0.038883</td>\n",
       "      <td>0.147599</td>\n",
       "      <td>0.085544</td>\n",
       "      <td>-0.020629</td>\n",
       "      <td>-0.090508</td>\n",
       "      <td>0.002784</td>\n",
       "      <td>-0.190993</td>\n",
       "      <td>0.011891</td>\n",
       "      <td>-0.057900</td>\n",
       "      <td>-0.106653</td>\n",
       "    </tr>\n",
       "    <tr>\n",
       "      <td>2</td>\n",
       "      <td>0</td>\n",
       "      <td>0.459670</td>\n",
       "      <td>-0.019355</td>\n",
       "      <td>0.376591</td>\n",
       "      <td>0.062483</td>\n",
       "      <td>0.026900</td>\n",
       "      <td>-0.181445</td>\n",
       "      <td>0.140725</td>\n",
       "      <td>0.243506</td>\n",
       "      <td>0.002367</td>\n",
       "      <td>...</td>\n",
       "      <td>-0.107027</td>\n",
       "      <td>-0.048884</td>\n",
       "      <td>-0.125425</td>\n",
       "      <td>-0.132561</td>\n",
       "      <td>-0.113364</td>\n",
       "      <td>-0.218919</td>\n",
       "      <td>0.121626</td>\n",
       "      <td>0.092727</td>\n",
       "      <td>0.201657</td>\n",
       "      <td>0.063101</td>\n",
       "    </tr>\n",
       "    <tr>\n",
       "      <td>3</td>\n",
       "      <td>0</td>\n",
       "      <td>0.294178</td>\n",
       "      <td>0.399848</td>\n",
       "      <td>0.181519</td>\n",
       "      <td>0.105549</td>\n",
       "      <td>0.366002</td>\n",
       "      <td>-0.073995</td>\n",
       "      <td>0.101619</td>\n",
       "      <td>-0.063145</td>\n",
       "      <td>-0.051825</td>\n",
       "      <td>...</td>\n",
       "      <td>-0.134144</td>\n",
       "      <td>0.131432</td>\n",
       "      <td>0.181608</td>\n",
       "      <td>-0.004004</td>\n",
       "      <td>-0.045709</td>\n",
       "      <td>-0.070571</td>\n",
       "      <td>0.001825</td>\n",
       "      <td>0.012912</td>\n",
       "      <td>0.078696</td>\n",
       "      <td>-0.055717</td>\n",
       "    </tr>\n",
       "    <tr>\n",
       "      <td>4</td>\n",
       "      <td>0</td>\n",
       "      <td>0.300416</td>\n",
       "      <td>-0.016187</td>\n",
       "      <td>0.451747</td>\n",
       "      <td>-0.264057</td>\n",
       "      <td>-0.243983</td>\n",
       "      <td>0.129633</td>\n",
       "      <td>0.147057</td>\n",
       "      <td>-0.076987</td>\n",
       "      <td>-0.063274</td>\n",
       "      <td>...</td>\n",
       "      <td>0.317214</td>\n",
       "      <td>-0.058523</td>\n",
       "      <td>0.059770</td>\n",
       "      <td>-0.026747</td>\n",
       "      <td>0.007830</td>\n",
       "      <td>0.050039</td>\n",
       "      <td>-0.112370</td>\n",
       "      <td>0.205115</td>\n",
       "      <td>-0.044305</td>\n",
       "      <td>-0.047022</td>\n",
       "    </tr>\n",
       "  </tbody>\n",
       "</table>\n",
       "<p>5 rows × 21 columns</p>\n",
       "</div>"
      ],
      "text/plain": [
       "   click         0         1         2         3         4         5  \\\n",
       "0      0  0.239720 -0.182906  0.562510 -0.164532 -0.360404  0.105818   \n",
       "1      0  0.235869 -0.108414  0.655370 -0.078453  0.127249  0.399215   \n",
       "2      0  0.459670 -0.019355  0.376591  0.062483  0.026900 -0.181445   \n",
       "3      0  0.294178  0.399848  0.181519  0.105549  0.366002 -0.073995   \n",
       "4      0  0.300416 -0.016187  0.451747 -0.264057 -0.243983  0.129633   \n",
       "\n",
       "          6         7         8  ...        10        11        12        13  \\\n",
       "0  0.434236 -0.003728  0.175631  ... -0.148058 -0.035611  0.064235  0.006775   \n",
       "1 -0.163075 -0.164201 -0.124046  ...  0.038883  0.147599  0.085544 -0.020629   \n",
       "2  0.140725  0.243506  0.002367  ... -0.107027 -0.048884 -0.125425 -0.132561   \n",
       "3  0.101619 -0.063145 -0.051825  ... -0.134144  0.131432  0.181608 -0.004004   \n",
       "4  0.147057 -0.076987 -0.063274  ...  0.317214 -0.058523  0.059770 -0.026747   \n",
       "\n",
       "         14        15        16        17        18        19  \n",
       "0  0.030498 -0.032721  0.071570  0.011526  0.034021  0.024630  \n",
       "1 -0.090508  0.002784 -0.190993  0.011891 -0.057900 -0.106653  \n",
       "2 -0.113364 -0.218919  0.121626  0.092727  0.201657  0.063101  \n",
       "3 -0.045709 -0.070571  0.001825  0.012912  0.078696 -0.055717  \n",
       "4  0.007830  0.050039 -0.112370  0.205115 -0.044305 -0.047022  \n",
       "\n",
       "[5 rows x 21 columns]"
      ]
     },
     "execution_count": 223,
     "metadata": {},
     "output_type": "execute_result"
    }
   ],
   "source": [
    "dataF.head()"
   ]
  },
  {
   "cell_type": "markdown",
   "metadata": {},
   "source": [
    "## Train test split"
   ]
  },
  {
   "cell_type": "code",
   "execution_count": 34,
   "metadata": {
    "ExecuteTime": {
     "end_time": "2020-03-11T11:10:21.157378Z",
     "start_time": "2020-03-11T11:10:21.132488Z"
    }
   },
   "outputs": [
    {
     "data": {
      "text/plain": [
       "((29669,), (29669, 20), (14614, 20), (14614,))"
      ]
     },
     "execution_count": 34,
     "metadata": {},
     "output_type": "execute_result"
    }
   ],
   "source": [
    "train, test =train_test_split(dataF,  test_size=0.33, random_state=42)\n",
    "y_train = train.click\n",
    "y_test = test.click\n",
    "x_train = train.drop('click', axis = 1)\n",
    "x_test = test.drop('click',  axis = 1)\n",
    "y_train.shape, x_train.shape, x_test.shape, y_test.shape"
   ]
  },
  {
   "cell_type": "markdown",
   "metadata": {},
   "source": [
    "# Modelization v1"
   ]
  },
  {
   "cell_type": "code",
   "execution_count": 35,
   "metadata": {
    "ExecuteTime": {
     "end_time": "2020-03-11T11:10:24.706358Z",
     "start_time": "2020-03-11T11:10:24.597692Z"
    },
    "scrolled": true
   },
   "outputs": [
    {
     "data": {
      "text/plain": [
       "LogisticRegression(C=1.0, class_weight=None, dual=False, fit_intercept=True,\n",
       "                   intercept_scaling=1, l1_ratio=None, max_iter=100,\n",
       "                   multi_class='auto', n_jobs=None, penalty='l2',\n",
       "                   random_state=None, solver='lbfgs', tol=0.0001, verbose=0,\n",
       "                   warm_start=False)"
      ]
     },
     "execution_count": 35,
     "metadata": {},
     "output_type": "execute_result"
    }
   ],
   "source": [
    "mod1 = LogisticRegression()\n",
    "mod1.fit(x_train, y_train)"
   ]
  },
  {
   "cell_type": "markdown",
   "metadata": {},
   "source": [
    "### Score Mod1"
   ]
  },
  {
   "cell_type": "code",
   "execution_count": 36,
   "metadata": {
    "ExecuteTime": {
     "end_time": "2020-03-11T11:10:25.762049Z",
     "start_time": "2020-03-11T11:10:25.750294Z"
    }
   },
   "outputs": [
    {
     "name": "stdout",
     "output_type": "stream",
     "text": [
      "Score Train :  0.9905625400249418 \n",
      "Score Test :  0.9917886957711783\n"
     ]
    }
   ],
   "source": [
    "scoreTest1 = mod1.score(x_test, y_test)\n",
    "scoreTrain1 = mod1.score(x_train, y_train)\n",
    "print(\"Score Train : \", scoreTrain1, \n",
    "     \"\\nScore Test : \", scoreTest1)"
   ]
  },
  {
   "cell_type": "markdown",
   "metadata": {},
   "source": [
    "### Confusion matrix mod1"
   ]
  },
  {
   "cell_type": "code",
   "execution_count": 37,
   "metadata": {
    "ExecuteTime": {
     "end_time": "2020-03-11T11:10:26.892261Z",
     "start_time": "2020-03-11T11:10:26.864358Z"
    }
   },
   "outputs": [
    {
     "name": "stdout",
     "output_type": "stream",
     "text": [
      "[[14494     0]\n",
      " [  120     0]]\n"
     ]
    }
   ],
   "source": [
    "pred1 = mod1.predict(x_test)\n",
    "cm1 = metrics.confusion_matrix(y_test, pred1)\n",
    "print(cm1)"
   ]
  },
  {
   "cell_type": "code",
   "execution_count": 38,
   "metadata": {
    "ExecuteTime": {
     "end_time": "2020-03-11T11:10:29.150548Z",
     "start_time": "2020-03-11T11:10:28.947749Z"
    }
   },
   "outputs": [
    {
     "data": {
      "text/plain": [
       "<matplotlib.axes._subplots.AxesSubplot at 0x1a21a88350>"
      ]
     },
     "execution_count": 38,
     "metadata": {},
     "output_type": "execute_result"
    },
    {
     "data": {
      "image/png": "[encoded data removed]",
      "text/plain": [
       "<Figure size 748.8x655.2 with 1 Axes>"
      ]
     },
     "metadata": {},
     "output_type": "display_data"
    }
   ],
   "source": [
    "jtplot.style(context='talk', fscale=1.4, spines=False, gridlines='--')\n",
    "dataF.click.value_counts().plot(kind = 'bar')"
   ]
  },
  {
   "cell_type": "markdown",
   "metadata": {},
   "source": [
    "# Imbelencing problem fixe"
   ]
  },
  {
   "cell_type": "code",
   "execution_count": 39,
   "metadata": {
    "ExecuteTime": {
     "end_time": "2020-03-11T11:10:31.384995Z",
     "start_time": "2020-03-11T11:10:31.117009Z"
    }
   },
   "outputs": [
    {
     "data": {
      "text/plain": [
       "<matplotlib.axes._subplots.AxesSubplot at 0x1a21b08dd0>"
      ]
     },
     "execution_count": 39,
     "metadata": {},
     "output_type": "execute_result"
    },
    {
     "data": {
      "image/png": "[encoded data removed]",
      "text/plain": [
       "<Figure size 748.8x655.2 with 1 Axes>"
      ]
     },
     "metadata": {},
     "output_type": "display_data"
    }
   ],
   "source": [
    "smt = SMOTE()\n",
    "X_train, y_train = smt.fit_sample(x_train, y_train)\n",
    "y_train.value_counts().plot(kind = 'bar')"
   ]
  },
  {
   "cell_type": "markdown",
   "metadata": {},
   "source": [
    "# Modelization v2"
   ]
  },
  {
   "cell_type": "code",
   "execution_count": 40,
   "metadata": {
    "ExecuteTime": {
     "end_time": "2020-03-11T11:10:33.700014Z",
     "start_time": "2020-03-11T11:10:33.541370Z"
    }
   },
   "outputs": [],
   "source": [
    "mod2 = LogisticRegression()\n",
    "mod2.fit(X_train, y_train)\n",
    "pred2 = mod2.predict(x_test)"
   ]
  },
  {
   "cell_type": "markdown",
   "metadata": {},
   "source": [
    "### Score Mod2"
   ]
  },
  {
   "cell_type": "code",
   "execution_count": 41,
   "metadata": {
    "ExecuteTime": {
     "end_time": "2020-03-11T11:10:36.988131Z",
     "start_time": "2020-03-11T11:10:36.973414Z"
    },
    "scrolled": true
   },
   "outputs": [
    {
     "name": "stdout",
     "output_type": "stream",
     "text": [
      "Score Train :  0.764690870733948 \n",
      "Score Test :  0.7100041056521144\n"
     ]
    }
   ],
   "source": [
    "scoreTest2 = mod2.score(x_test, y_test)\n",
    "scoreTrain2 = mod2.score(X_train, y_train)\n",
    "print(\"Score Train : \", scoreTrain2, \n",
    "     \"\\nScore Test : \", scoreTest2)"
   ]
  },
  {
   "cell_type": "markdown",
   "metadata": {},
   "source": [
    "### Confusion matrix mod2"
   ]
  },
  {
   "cell_type": "code",
   "execution_count": 232,
   "metadata": {
    "ExecuteTime": {
     "end_time": "2020-03-11T10:39:21.962879Z",
     "start_time": "2020-03-11T10:39:21.941645Z"
    },
    "scrolled": true
   },
   "outputs": [
    {
     "name": "stdout",
     "output_type": "stream",
     "text": [
      "[[10283  4211]\n",
      " [   32    88]]\n"
     ]
    }
   ],
   "source": [
    "cm2 = metrics.confusion_matrix(y_test, pred2)\n",
    "print(cm2)"
   ]
  },
  {
   "cell_type": "markdown",
   "metadata": {},
   "source": [
    "### report mod2"
   ]
  },
  {
   "cell_type": "code",
   "execution_count": 233,
   "metadata": {
    "ExecuteTime": {
     "end_time": "2020-03-11T10:39:24.582108Z",
     "start_time": "2020-03-11T10:39:24.558724Z"
    }
   },
   "outputs": [
    {
     "name": "stdout",
     "output_type": "stream",
     "text": [
      "              precision    recall  f1-score   support\n",
      "\n",
      "           0       1.00      0.71      0.83     14494\n",
      "           1       0.02      0.73      0.04       120\n",
      "\n",
      "    accuracy                           0.71     14614\n",
      "   macro avg       0.51      0.72      0.43     14614\n",
      "weighted avg       0.99      0.71      0.82     14614\n",
      "\n"
     ]
    }
   ],
   "source": [
    "print(classification_report(y_test, pred2, target_names=['0', '1']))"
   ]
  },
  {
   "cell_type": "markdown",
   "metadata": {},
   "source": [
    "### ROC curve mod2"
   ]
  },
  {
   "cell_type": "code",
   "execution_count": 42,
   "metadata": {
    "ExecuteTime": {
     "end_time": "2020-03-11T11:10:42.260171Z",
     "start_time": "2020-03-11T11:10:41.917361Z"
    },
    "scrolled": false
   },
   "outputs": [
    {
     "data": {
      "image/png": "[encoded data removed]",
      "text/plain": [
       "<Figure size 748.8x655.2 with 1 Axes>"
      ]
     },
     "metadata": {},
     "output_type": "display_data"
    }
   ],
   "source": [
    "# calculate the fpr and tpr for all thresholds of the classification\n",
    "probs = mod2.predict_proba(x_test)\n",
    "preds = probs[:,1]\n",
    "fpr, tpr, threshold = metrics.roc_curve(y_test, preds)\n",
    "roc_auc = metrics.auc(fpr, tpr)\n",
    "import matplotlib.pyplot as plt\n",
    "plt.title('Receiver Operating Characteristic')\n",
    "plt.plot(fpr, tpr, 'b', label = 'AUC = %0.2f' % roc_auc)\n",
    "plt.legend(loc = 'lower right')\n",
    "plt.plot([0, 1], [0, 1],'r--')\n",
    "plt.xlim([0, 1])\n",
    "plt.ylim([0, 1])\n",
    "plt.ylabel('True Positive Rate')\n",
    "plt.xlabel('False Positive Rate')\n",
    "plt.show()"
   ]
  },
  {
   "cell_type": "markdown",
   "metadata": {},
   "source": [
    "# Param turning (Mod3)"
   ]
  },
  {
   "cell_type": "code",
   "execution_count": 43,
   "metadata": {
    "ExecuteTime": {
     "end_time": "2020-03-11T11:11:21.049106Z",
     "start_time": "2020-03-11T11:10:45.064247Z"
    }
   },
   "outputs": [
    {
     "name": "stderr",
     "output_type": "stream",
     "text": [
      "/Users/omarseck/opt/anaconda3/lib/python3.7/site-packages/sklearn/model_selection/_validation.py:536: FitFailedWarning: Estimator fit failed. The score on this train-test partition for these parameters will be set to nan. Details: \n",
      "ValueError: Solver lbfgs supports only 'l2' or 'none' penalties, got l1 penalty.\n",
      "\n",
      "  FitFailedWarning)\n",
      "/Users/omarseck/opt/anaconda3/lib/python3.7/site-packages/sklearn/model_selection/_validation.py:536: FitFailedWarning: Estimator fit failed. The score on this train-test partition for these parameters will be set to nan. Details: \n",
      "ValueError: Solver lbfgs supports only 'l2' or 'none' penalties, got elasticnet penalty.\n",
      "\n",
      "  FitFailedWarning)\n",
      "/Users/omarseck/opt/anaconda3/lib/python3.7/site-packages/sklearn/model_selection/_validation.py:536: FitFailedWarning: Estimator fit failed. The score on this train-test partition for these parameters will be set to nan. Details: \n",
      "ValueError: Solver lbfgs supports only 'l2' or 'none' penalties, got l1 penalty.\n",
      "\n",
      "  FitFailedWarning)\n",
      "/Users/omarseck/opt/anaconda3/lib/python3.7/site-packages/sklearn/model_selection/_validation.py:536: FitFailedWarning: Estimator fit failed. The score on this train-test partition for these parameters will be set to nan. Details: \n",
      "ValueError: Solver lbfgs supports only 'l2' or 'none' penalties, got elasticnet penalty.\n",
      "\n",
      "  FitFailedWarning)\n",
      "/Users/omarseck/opt/anaconda3/lib/python3.7/site-packages/sklearn/model_selection/_validation.py:536: FitFailedWarning: Estimator fit failed. The score on this train-test partition for these parameters will be set to nan. Details: \n",
      "ValueError: Solver lbfgs supports only 'l2' or 'none' penalties, got l1 penalty.\n",
      "\n",
      "  FitFailedWarning)\n",
      "/Users/omarseck/opt/anaconda3/lib/python3.7/site-packages/sklearn/model_selection/_validation.py:536: FitFailedWarning: Estimator fit failed. The score on this train-test partition for these parameters will be set to nan. Details: \n",
      "ValueError: Solver lbfgs supports only 'l2' or 'none' penalties, got elasticnet penalty.\n",
      "\n",
      "  FitFailedWarning)\n",
      "/Users/omarseck/opt/anaconda3/lib/python3.7/site-packages/sklearn/model_selection/_validation.py:536: FitFailedWarning: Estimator fit failed. The score on this train-test partition for these parameters will be set to nan. Details: \n",
      "ValueError: Solver lbfgs supports only 'l2' or 'none' penalties, got l1 penalty.\n",
      "\n",
      "  FitFailedWarning)\n",
      "/Users/omarseck/opt/anaconda3/lib/python3.7/site-packages/sklearn/model_selection/_validation.py:536: FitFailedWarning: Estimator fit failed. The score on this train-test partition for these parameters will be set to nan. Details: \n",
      "ValueError: Solver lbfgs supports only 'l2' or 'none' penalties, got elasticnet penalty.\n",
      "\n",
      "  FitFailedWarning)\n",
      "/Users/omarseck/opt/anaconda3/lib/python3.7/site-packages/sklearn/model_selection/_validation.py:536: FitFailedWarning: Estimator fit failed. The score on this train-test partition for these parameters will be set to nan. Details: \n",
      "ValueError: Solver lbfgs supports only 'l2' or 'none' penalties, got l1 penalty.\n",
      "\n",
      "  FitFailedWarning)\n",
      "/Users/omarseck/opt/anaconda3/lib/python3.7/site-packages/sklearn/model_selection/_validation.py:536: FitFailedWarning: Estimator fit failed. The score on this train-test partition for these parameters will be set to nan. Details: \n",
      "ValueError: Solver lbfgs supports only 'l2' or 'none' penalties, got elasticnet penalty.\n",
      "\n",
      "  FitFailedWarning)\n",
      "/Users/omarseck/opt/anaconda3/lib/python3.7/site-packages/sklearn/model_selection/_validation.py:536: FitFailedWarning: Estimator fit failed. The score on this train-test partition for these parameters will be set to nan. Details: \n",
      "ValueError: Solver lbfgs supports only 'l2' or 'none' penalties, got l1 penalty.\n",
      "\n",
      "  FitFailedWarning)\n",
      "/Users/omarseck/opt/anaconda3/lib/python3.7/site-packages/sklearn/model_selection/_validation.py:536: FitFailedWarning: Estimator fit failed. The score on this train-test partition for these parameters will be set to nan. Details: \n",
      "ValueError: Solver lbfgs supports only 'l2' or 'none' penalties, got elasticnet penalty.\n",
      "\n",
      "  FitFailedWarning)\n",
      "/Users/omarseck/opt/anaconda3/lib/python3.7/site-packages/sklearn/model_selection/_validation.py:536: FitFailedWarning: Estimator fit failed. The score on this train-test partition for these parameters will be set to nan. Details: \n",
      "ValueError: Solver lbfgs supports only 'l2' or 'none' penalties, got l1 penalty.\n",
      "\n",
      "  FitFailedWarning)\n",
      "/Users/omarseck/opt/anaconda3/lib/python3.7/site-packages/sklearn/model_selection/_validation.py:536: FitFailedWarning: Estimator fit failed. The score on this train-test partition for these parameters will be set to nan. Details: \n",
      "ValueError: Solver lbfgs supports only 'l2' or 'none' penalties, got elasticnet penalty.\n",
      "\n",
      "  FitFailedWarning)\n",
      "/Users/omarseck/opt/anaconda3/lib/python3.7/site-packages/sklearn/model_selection/_validation.py:536: FitFailedWarning: Estimator fit failed. The score on this train-test partition for these parameters will be set to nan. Details: \n",
      "ValueError: Solver lbfgs supports only 'l2' or 'none' penalties, got l1 penalty.\n",
      "\n",
      "  FitFailedWarning)\n",
      "/Users/omarseck/opt/anaconda3/lib/python3.7/site-packages/sklearn/model_selection/_validation.py:536: FitFailedWarning: Estimator fit failed. The score on this train-test partition for these parameters will be set to nan. Details: \n",
      "ValueError: Solver lbfgs supports only 'l2' or 'none' penalties, got elasticnet penalty.\n",
      "\n",
      "  FitFailedWarning)\n",
      "/Users/omarseck/opt/anaconda3/lib/python3.7/site-packages/sklearn/model_selection/_validation.py:536: FitFailedWarning: Estimator fit failed. The score on this train-test partition for these parameters will be set to nan. Details: \n",
      "ValueError: Solver lbfgs supports only 'l2' or 'none' penalties, got l1 penalty.\n",
      "\n",
      "  FitFailedWarning)\n",
      "/Users/omarseck/opt/anaconda3/lib/python3.7/site-packages/sklearn/model_selection/_validation.py:536: FitFailedWarning: Estimator fit failed. The score on this train-test partition for these parameters will be set to nan. Details: \n",
      "ValueError: Solver lbfgs supports only 'l2' or 'none' penalties, got elasticnet penalty.\n",
      "\n",
      "  FitFailedWarning)\n",
      "/Users/omarseck/opt/anaconda3/lib/python3.7/site-packages/sklearn/model_selection/_validation.py:536: FitFailedWarning: Estimator fit failed. The score on this train-test partition for these parameters will be set to nan. Details: \n",
      "ValueError: Solver lbfgs supports only 'l2' or 'none' penalties, got l1 penalty.\n",
      "\n",
      "  FitFailedWarning)\n",
      "/Users/omarseck/opt/anaconda3/lib/python3.7/site-packages/sklearn/model_selection/_validation.py:536: FitFailedWarning: Estimator fit failed. The score on this train-test partition for these parameters will be set to nan. Details: \n",
      "ValueError: Solver lbfgs supports only 'l2' or 'none' penalties, got elasticnet penalty.\n",
      "\n",
      "  FitFailedWarning)\n",
      "/Users/omarseck/opt/anaconda3/lib/python3.7/site-packages/sklearn/model_selection/_validation.py:536: FitFailedWarning: Estimator fit failed. The score on this train-test partition for these parameters will be set to nan. Details: \n",
      "ValueError: Solver lbfgs supports only 'l2' or 'none' penalties, got l1 penalty.\n",
      "\n",
      "  FitFailedWarning)\n",
      "/Users/omarseck/opt/anaconda3/lib/python3.7/site-packages/sklearn/model_selection/_validation.py:536: FitFailedWarning: Estimator fit failed. The score on this train-test partition for these parameters will be set to nan. Details: \n",
      "ValueError: Solver lbfgs supports only 'l2' or 'none' penalties, got elasticnet penalty.\n",
      "\n",
      "  FitFailedWarning)\n",
      "/Users/omarseck/opt/anaconda3/lib/python3.7/site-packages/sklearn/model_selection/_validation.py:536: FitFailedWarning: Estimator fit failed. The score on this train-test partition for these parameters will be set to nan. Details: \n",
      "ValueError: Solver lbfgs supports only 'l2' or 'none' penalties, got l1 penalty.\n",
      "\n",
      "  FitFailedWarning)\n",
      "/Users/omarseck/opt/anaconda3/lib/python3.7/site-packages/sklearn/model_selection/_validation.py:536: FitFailedWarning: Estimator fit failed. The score on this train-test partition for these parameters will be set to nan. Details: \n",
      "ValueError: Solver lbfgs supports only 'l2' or 'none' penalties, got elasticnet penalty.\n",
      "\n",
      "  FitFailedWarning)\n",
      "/Users/omarseck/opt/anaconda3/lib/python3.7/site-packages/sklearn/model_selection/_validation.py:536: FitFailedWarning: Estimator fit failed. The score on this train-test partition for these parameters will be set to nan. Details: \n",
      "ValueError: Solver lbfgs supports only 'l2' or 'none' penalties, got l1 penalty.\n",
      "\n",
      "  FitFailedWarning)\n"
     ]
    },
    {
     "name": "stderr",
     "output_type": "stream",
     "text": [
      "/Users/omarseck/opt/anaconda3/lib/python3.7/site-packages/sklearn/model_selection/_validation.py:536: FitFailedWarning: Estimator fit failed. The score on this train-test partition for these parameters will be set to nan. Details: \n",
      "ValueError: Solver lbfgs supports only 'l2' or 'none' penalties, got elasticnet penalty.\n",
      "\n",
      "  FitFailedWarning)\n",
      "/Users/omarseck/opt/anaconda3/lib/python3.7/site-packages/sklearn/model_selection/_validation.py:536: FitFailedWarning: Estimator fit failed. The score on this train-test partition for these parameters will be set to nan. Details: \n",
      "ValueError: Solver lbfgs supports only 'l2' or 'none' penalties, got l1 penalty.\n",
      "\n",
      "  FitFailedWarning)\n",
      "/Users/omarseck/opt/anaconda3/lib/python3.7/site-packages/sklearn/model_selection/_validation.py:536: FitFailedWarning: Estimator fit failed. The score on this train-test partition for these parameters will be set to nan. Details: \n",
      "ValueError: Solver lbfgs supports only 'l2' or 'none' penalties, got elasticnet penalty.\n",
      "\n",
      "  FitFailedWarning)\n",
      "/Users/omarseck/opt/anaconda3/lib/python3.7/site-packages/sklearn/model_selection/_validation.py:536: FitFailedWarning: Estimator fit failed. The score on this train-test partition for these parameters will be set to nan. Details: \n",
      "ValueError: Solver lbfgs supports only 'l2' or 'none' penalties, got l1 penalty.\n",
      "\n",
      "  FitFailedWarning)\n",
      "/Users/omarseck/opt/anaconda3/lib/python3.7/site-packages/sklearn/model_selection/_validation.py:536: FitFailedWarning: Estimator fit failed. The score on this train-test partition for these parameters will be set to nan. Details: \n",
      "ValueError: Solver lbfgs supports only 'l2' or 'none' penalties, got elasticnet penalty.\n",
      "\n",
      "  FitFailedWarning)\n",
      "/Users/omarseck/opt/anaconda3/lib/python3.7/site-packages/sklearn/model_selection/_validation.py:536: FitFailedWarning: Estimator fit failed. The score on this train-test partition for these parameters will be set to nan. Details: \n",
      "ValueError: Solver lbfgs supports only 'l2' or 'none' penalties, got l1 penalty.\n",
      "\n",
      "  FitFailedWarning)\n",
      "/Users/omarseck/opt/anaconda3/lib/python3.7/site-packages/sklearn/model_selection/_validation.py:536: FitFailedWarning: Estimator fit failed. The score on this train-test partition for these parameters will be set to nan. Details: \n",
      "ValueError: Solver lbfgs supports only 'l2' or 'none' penalties, got elasticnet penalty.\n",
      "\n",
      "  FitFailedWarning)\n",
      "/Users/omarseck/opt/anaconda3/lib/python3.7/site-packages/sklearn/model_selection/_validation.py:536: FitFailedWarning: Estimator fit failed. The score on this train-test partition for these parameters will be set to nan. Details: \n",
      "ValueError: Solver lbfgs supports only 'l2' or 'none' penalties, got l1 penalty.\n",
      "\n",
      "  FitFailedWarning)\n",
      "/Users/omarseck/opt/anaconda3/lib/python3.7/site-packages/sklearn/model_selection/_validation.py:536: FitFailedWarning: Estimator fit failed. The score on this train-test partition for these parameters will be set to nan. Details: \n",
      "ValueError: Solver lbfgs supports only 'l2' or 'none' penalties, got elasticnet penalty.\n",
      "\n",
      "  FitFailedWarning)\n",
      "/Users/omarseck/opt/anaconda3/lib/python3.7/site-packages/sklearn/model_selection/_validation.py:536: FitFailedWarning: Estimator fit failed. The score on this train-test partition for these parameters will be set to nan. Details: \n",
      "ValueError: Solver lbfgs supports only 'l2' or 'none' penalties, got l1 penalty.\n",
      "\n",
      "  FitFailedWarning)\n",
      "/Users/omarseck/opt/anaconda3/lib/python3.7/site-packages/sklearn/model_selection/_validation.py:536: FitFailedWarning: Estimator fit failed. The score on this train-test partition for these parameters will be set to nan. Details: \n",
      "ValueError: Solver lbfgs supports only 'l2' or 'none' penalties, got elasticnet penalty.\n",
      "\n",
      "  FitFailedWarning)\n",
      "/Users/omarseck/opt/anaconda3/lib/python3.7/site-packages/sklearn/model_selection/_validation.py:536: FitFailedWarning: Estimator fit failed. The score on this train-test partition for these parameters will be set to nan. Details: \n",
      "ValueError: Solver lbfgs supports only 'l2' or 'none' penalties, got l1 penalty.\n",
      "\n",
      "  FitFailedWarning)\n",
      "/Users/omarseck/opt/anaconda3/lib/python3.7/site-packages/sklearn/model_selection/_validation.py:536: FitFailedWarning: Estimator fit failed. The score on this train-test partition for these parameters will be set to nan. Details: \n",
      "ValueError: Solver lbfgs supports only 'l2' or 'none' penalties, got elasticnet penalty.\n",
      "\n",
      "  FitFailedWarning)\n",
      "/Users/omarseck/opt/anaconda3/lib/python3.7/site-packages/sklearn/model_selection/_validation.py:536: FitFailedWarning: Estimator fit failed. The score on this train-test partition for these parameters will be set to nan. Details: \n",
      "ValueError: Solver lbfgs supports only 'l2' or 'none' penalties, got l1 penalty.\n",
      "\n",
      "  FitFailedWarning)\n",
      "/Users/omarseck/opt/anaconda3/lib/python3.7/site-packages/sklearn/model_selection/_validation.py:536: FitFailedWarning: Estimator fit failed. The score on this train-test partition for these parameters will be set to nan. Details: \n",
      "ValueError: Solver lbfgs supports only 'l2' or 'none' penalties, got elasticnet penalty.\n",
      "\n",
      "  FitFailedWarning)\n",
      "/Users/omarseck/opt/anaconda3/lib/python3.7/site-packages/sklearn/model_selection/_validation.py:536: FitFailedWarning: Estimator fit failed. The score on this train-test partition for these parameters will be set to nan. Details: \n",
      "ValueError: Solver lbfgs supports only 'l2' or 'none' penalties, got l1 penalty.\n",
      "\n",
      "  FitFailedWarning)\n",
      "/Users/omarseck/opt/anaconda3/lib/python3.7/site-packages/sklearn/model_selection/_validation.py:536: FitFailedWarning: Estimator fit failed. The score on this train-test partition for these parameters will be set to nan. Details: \n",
      "ValueError: Solver lbfgs supports only 'l2' or 'none' penalties, got elasticnet penalty.\n",
      "\n",
      "  FitFailedWarning)\n",
      "/Users/omarseck/opt/anaconda3/lib/python3.7/site-packages/sklearn/model_selection/_validation.py:536: FitFailedWarning: Estimator fit failed. The score on this train-test partition for these parameters will be set to nan. Details: \n",
      "ValueError: Solver lbfgs supports only 'l2' or 'none' penalties, got l1 penalty.\n",
      "\n",
      "  FitFailedWarning)\n",
      "/Users/omarseck/opt/anaconda3/lib/python3.7/site-packages/sklearn/model_selection/_validation.py:536: FitFailedWarning: Estimator fit failed. The score on this train-test partition for these parameters will be set to nan. Details: \n",
      "ValueError: Solver lbfgs supports only 'l2' or 'none' penalties, got elasticnet penalty.\n",
      "\n",
      "  FitFailedWarning)\n",
      "/Users/omarseck/opt/anaconda3/lib/python3.7/site-packages/sklearn/model_selection/_validation.py:536: FitFailedWarning: Estimator fit failed. The score on this train-test partition for these parameters will be set to nan. Details: \n",
      "ValueError: Solver lbfgs supports only 'l2' or 'none' penalties, got l1 penalty.\n",
      "\n",
      "  FitFailedWarning)\n",
      "/Users/omarseck/opt/anaconda3/lib/python3.7/site-packages/sklearn/model_selection/_validation.py:536: FitFailedWarning: Estimator fit failed. The score on this train-test partition for these parameters will be set to nan. Details: \n",
      "ValueError: Solver lbfgs supports only 'l2' or 'none' penalties, got elasticnet penalty.\n",
      "\n",
      "  FitFailedWarning)\n",
      "/Users/omarseck/opt/anaconda3/lib/python3.7/site-packages/sklearn/model_selection/_validation.py:536: FitFailedWarning: Estimator fit failed. The score on this train-test partition for these parameters will be set to nan. Details: \n",
      "ValueError: Solver lbfgs supports only 'l2' or 'none' penalties, got l1 penalty.\n",
      "\n",
      "  FitFailedWarning)\n",
      "/Users/omarseck/opt/anaconda3/lib/python3.7/site-packages/sklearn/model_selection/_validation.py:536: FitFailedWarning: Estimator fit failed. The score on this train-test partition for these parameters will be set to nan. Details: \n",
      "ValueError: Solver lbfgs supports only 'l2' or 'none' penalties, got elasticnet penalty.\n",
      "\n",
      "  FitFailedWarning)\n",
      "/Users/omarseck/opt/anaconda3/lib/python3.7/site-packages/sklearn/model_selection/_validation.py:536: FitFailedWarning: Estimator fit failed. The score on this train-test partition for these parameters will be set to nan. Details: \n",
      "ValueError: Solver lbfgs supports only 'l2' or 'none' penalties, got l1 penalty.\n",
      "\n",
      "  FitFailedWarning)\n",
      "/Users/omarseck/opt/anaconda3/lib/python3.7/site-packages/sklearn/model_selection/_validation.py:536: FitFailedWarning: Estimator fit failed. The score on this train-test partition for these parameters will be set to nan. Details: \n",
      "ValueError: Solver lbfgs supports only 'l2' or 'none' penalties, got elasticnet penalty.\n",
      "\n",
      "  FitFailedWarning)\n",
      "/Users/omarseck/opt/anaconda3/lib/python3.7/site-packages/sklearn/model_selection/_validation.py:536: FitFailedWarning: Estimator fit failed. The score on this train-test partition for these parameters will be set to nan. Details: \n",
      "ValueError: Solver lbfgs supports only 'l2' or 'none' penalties, got l1 penalty.\n",
      "\n",
      "  FitFailedWarning)\n"
     ]
    },
    {
     "name": "stderr",
     "output_type": "stream",
     "text": [
      "/Users/omarseck/opt/anaconda3/lib/python3.7/site-packages/sklearn/model_selection/_validation.py:536: FitFailedWarning: Estimator fit failed. The score on this train-test partition for these parameters will be set to nan. Details: \n",
      "ValueError: Solver lbfgs supports only 'l2' or 'none' penalties, got elasticnet penalty.\n",
      "\n",
      "  FitFailedWarning)\n",
      "/Users/omarseck/opt/anaconda3/lib/python3.7/site-packages/sklearn/model_selection/_validation.py:536: FitFailedWarning: Estimator fit failed. The score on this train-test partition for these parameters will be set to nan. Details: \n",
      "ValueError: Solver lbfgs supports only 'l2' or 'none' penalties, got l1 penalty.\n",
      "\n",
      "  FitFailedWarning)\n",
      "/Users/omarseck/opt/anaconda3/lib/python3.7/site-packages/sklearn/model_selection/_validation.py:536: FitFailedWarning: Estimator fit failed. The score on this train-test partition for these parameters will be set to nan. Details: \n",
      "ValueError: Solver lbfgs supports only 'l2' or 'none' penalties, got elasticnet penalty.\n",
      "\n",
      "  FitFailedWarning)\n",
      "/Users/omarseck/opt/anaconda3/lib/python3.7/site-packages/sklearn/model_selection/_validation.py:536: FitFailedWarning: Estimator fit failed. The score on this train-test partition for these parameters will be set to nan. Details: \n",
      "ValueError: Solver lbfgs supports only 'l2' or 'none' penalties, got l1 penalty.\n",
      "\n",
      "  FitFailedWarning)\n",
      "/Users/omarseck/opt/anaconda3/lib/python3.7/site-packages/sklearn/model_selection/_validation.py:536: FitFailedWarning: Estimator fit failed. The score on this train-test partition for these parameters will be set to nan. Details: \n",
      "ValueError: Solver lbfgs supports only 'l2' or 'none' penalties, got elasticnet penalty.\n",
      "\n",
      "  FitFailedWarning)\n",
      "/Users/omarseck/opt/anaconda3/lib/python3.7/site-packages/sklearn/model_selection/_validation.py:536: FitFailedWarning: Estimator fit failed. The score on this train-test partition for these parameters will be set to nan. Details: \n",
      "ValueError: Solver lbfgs supports only 'l2' or 'none' penalties, got l1 penalty.\n",
      "\n",
      "  FitFailedWarning)\n",
      "/Users/omarseck/opt/anaconda3/lib/python3.7/site-packages/sklearn/model_selection/_validation.py:536: FitFailedWarning: Estimator fit failed. The score on this train-test partition for these parameters will be set to nan. Details: \n",
      "ValueError: Solver lbfgs supports only 'l2' or 'none' penalties, got elasticnet penalty.\n",
      "\n",
      "  FitFailedWarning)\n",
      "/Users/omarseck/opt/anaconda3/lib/python3.7/site-packages/sklearn/model_selection/_validation.py:536: FitFailedWarning: Estimator fit failed. The score on this train-test partition for these parameters will be set to nan. Details: \n",
      "ValueError: Solver lbfgs supports only 'l2' or 'none' penalties, got l1 penalty.\n",
      "\n",
      "  FitFailedWarning)\n",
      "/Users/omarseck/opt/anaconda3/lib/python3.7/site-packages/sklearn/model_selection/_validation.py:536: FitFailedWarning: Estimator fit failed. The score on this train-test partition for these parameters will be set to nan. Details: \n",
      "ValueError: Solver lbfgs supports only 'l2' or 'none' penalties, got elasticnet penalty.\n",
      "\n",
      "  FitFailedWarning)\n",
      "/Users/omarseck/opt/anaconda3/lib/python3.7/site-packages/sklearn/model_selection/_validation.py:536: FitFailedWarning: Estimator fit failed. The score on this train-test partition for these parameters will be set to nan. Details: \n",
      "ValueError: Solver lbfgs supports only 'l2' or 'none' penalties, got l1 penalty.\n",
      "\n",
      "  FitFailedWarning)\n",
      "/Users/omarseck/opt/anaconda3/lib/python3.7/site-packages/sklearn/model_selection/_validation.py:536: FitFailedWarning: Estimator fit failed. The score on this train-test partition for these parameters will be set to nan. Details: \n",
      "ValueError: Solver lbfgs supports only 'l2' or 'none' penalties, got elasticnet penalty.\n",
      "\n",
      "  FitFailedWarning)\n",
      "/Users/omarseck/opt/anaconda3/lib/python3.7/site-packages/sklearn/model_selection/_validation.py:536: FitFailedWarning: Estimator fit failed. The score on this train-test partition for these parameters will be set to nan. Details: \n",
      "ValueError: Solver lbfgs supports only 'l2' or 'none' penalties, got l1 penalty.\n",
      "\n",
      "  FitFailedWarning)\n",
      "/Users/omarseck/opt/anaconda3/lib/python3.7/site-packages/sklearn/model_selection/_validation.py:536: FitFailedWarning: Estimator fit failed. The score on this train-test partition for these parameters will be set to nan. Details: \n",
      "ValueError: Solver lbfgs supports only 'l2' or 'none' penalties, got elasticnet penalty.\n",
      "\n",
      "  FitFailedWarning)\n",
      "/Users/omarseck/opt/anaconda3/lib/python3.7/site-packages/sklearn/model_selection/_validation.py:536: FitFailedWarning: Estimator fit failed. The score on this train-test partition for these parameters will be set to nan. Details: \n",
      "ValueError: Solver lbfgs supports only 'l2' or 'none' penalties, got l1 penalty.\n",
      "\n",
      "  FitFailedWarning)\n",
      "/Users/omarseck/opt/anaconda3/lib/python3.7/site-packages/sklearn/model_selection/_validation.py:536: FitFailedWarning: Estimator fit failed. The score on this train-test partition for these parameters will be set to nan. Details: \n",
      "ValueError: Solver lbfgs supports only 'l2' or 'none' penalties, got elasticnet penalty.\n",
      "\n",
      "  FitFailedWarning)\n",
      "/Users/omarseck/opt/anaconda3/lib/python3.7/site-packages/sklearn/model_selection/_validation.py:536: FitFailedWarning: Estimator fit failed. The score on this train-test partition for these parameters will be set to nan. Details: \n",
      "ValueError: Solver lbfgs supports only 'l2' or 'none' penalties, got l1 penalty.\n",
      "\n",
      "  FitFailedWarning)\n",
      "/Users/omarseck/opt/anaconda3/lib/python3.7/site-packages/sklearn/model_selection/_validation.py:536: FitFailedWarning: Estimator fit failed. The score on this train-test partition for these parameters will be set to nan. Details: \n",
      "ValueError: Solver lbfgs supports only 'l2' or 'none' penalties, got elasticnet penalty.\n",
      "\n",
      "  FitFailedWarning)\n",
      "/Users/omarseck/opt/anaconda3/lib/python3.7/site-packages/sklearn/model_selection/_validation.py:536: FitFailedWarning: Estimator fit failed. The score on this train-test partition for these parameters will be set to nan. Details: \n",
      "ValueError: Solver lbfgs supports only 'l2' or 'none' penalties, got l1 penalty.\n",
      "\n",
      "  FitFailedWarning)\n",
      "/Users/omarseck/opt/anaconda3/lib/python3.7/site-packages/sklearn/model_selection/_validation.py:536: FitFailedWarning: Estimator fit failed. The score on this train-test partition for these parameters will be set to nan. Details: \n",
      "ValueError: Solver lbfgs supports only 'l2' or 'none' penalties, got elasticnet penalty.\n",
      "\n",
      "  FitFailedWarning)\n",
      "/Users/omarseck/opt/anaconda3/lib/python3.7/site-packages/sklearn/model_selection/_validation.py:536: FitFailedWarning: Estimator fit failed. The score on this train-test partition for these parameters will be set to nan. Details: \n",
      "ValueError: Solver lbfgs supports only 'l2' or 'none' penalties, got l1 penalty.\n",
      "\n",
      "  FitFailedWarning)\n",
      "/Users/omarseck/opt/anaconda3/lib/python3.7/site-packages/sklearn/model_selection/_validation.py:536: FitFailedWarning: Estimator fit failed. The score on this train-test partition for these parameters will be set to nan. Details: \n",
      "ValueError: Solver lbfgs supports only 'l2' or 'none' penalties, got elasticnet penalty.\n",
      "\n",
      "  FitFailedWarning)\n",
      "/Users/omarseck/opt/anaconda3/lib/python3.7/site-packages/sklearn/model_selection/_validation.py:536: FitFailedWarning: Estimator fit failed. The score on this train-test partition for these parameters will be set to nan. Details: \n",
      "ValueError: Solver lbfgs supports only 'l2' or 'none' penalties, got l1 penalty.\n",
      "\n",
      "  FitFailedWarning)\n",
      "/Users/omarseck/opt/anaconda3/lib/python3.7/site-packages/sklearn/model_selection/_validation.py:536: FitFailedWarning: Estimator fit failed. The score on this train-test partition for these parameters will be set to nan. Details: \n",
      "ValueError: Solver lbfgs supports only 'l2' or 'none' penalties, got elasticnet penalty.\n",
      "\n",
      "  FitFailedWarning)\n",
      "/Users/omarseck/opt/anaconda3/lib/python3.7/site-packages/sklearn/model_selection/_validation.py:536: FitFailedWarning: Estimator fit failed. The score on this train-test partition for these parameters will be set to nan. Details: \n",
      "ValueError: Solver lbfgs supports only 'l2' or 'none' penalties, got l1 penalty.\n",
      "\n",
      "  FitFailedWarning)\n",
      "/Users/omarseck/opt/anaconda3/lib/python3.7/site-packages/sklearn/model_selection/_validation.py:536: FitFailedWarning: Estimator fit failed. The score on this train-test partition for these parameters will be set to nan. Details: \n",
      "ValueError: Solver lbfgs supports only 'l2' or 'none' penalties, got elasticnet penalty.\n",
      "\n",
      "  FitFailedWarning)\n",
      "/Users/omarseck/opt/anaconda3/lib/python3.7/site-packages/sklearn/model_selection/_validation.py:536: FitFailedWarning: Estimator fit failed. The score on this train-test partition for these parameters will be set to nan. Details: \n",
      "ValueError: Solver lbfgs supports only 'l2' or 'none' penalties, got l1 penalty.\n",
      "\n",
      "  FitFailedWarning)\n"
     ]
    },
    {
     "name": "stderr",
     "output_type": "stream",
     "text": [
      "/Users/omarseck/opt/anaconda3/lib/python3.7/site-packages/sklearn/model_selection/_validation.py:536: FitFailedWarning: Estimator fit failed. The score on this train-test partition for these parameters will be set to nan. Details: \n",
      "ValueError: Solver lbfgs supports only 'l2' or 'none' penalties, got elasticnet penalty.\n",
      "\n",
      "  FitFailedWarning)\n",
      "/Users/omarseck/opt/anaconda3/lib/python3.7/site-packages/sklearn/model_selection/_validation.py:536: FitFailedWarning: Estimator fit failed. The score on this train-test partition for these parameters will be set to nan. Details: \n",
      "ValueError: Solver lbfgs supports only 'l2' or 'none' penalties, got l1 penalty.\n",
      "\n",
      "  FitFailedWarning)\n",
      "/Users/omarseck/opt/anaconda3/lib/python3.7/site-packages/sklearn/model_selection/_validation.py:536: FitFailedWarning: Estimator fit failed. The score on this train-test partition for these parameters will be set to nan. Details: \n",
      "ValueError: Solver lbfgs supports only 'l2' or 'none' penalties, got elasticnet penalty.\n",
      "\n",
      "  FitFailedWarning)\n",
      "/Users/omarseck/opt/anaconda3/lib/python3.7/site-packages/sklearn/model_selection/_validation.py:536: FitFailedWarning: Estimator fit failed. The score on this train-test partition for these parameters will be set to nan. Details: \n",
      "ValueError: Solver lbfgs supports only 'l2' or 'none' penalties, got l1 penalty.\n",
      "\n",
      "  FitFailedWarning)\n",
      "/Users/omarseck/opt/anaconda3/lib/python3.7/site-packages/sklearn/model_selection/_validation.py:536: FitFailedWarning: Estimator fit failed. The score on this train-test partition for these parameters will be set to nan. Details: \n",
      "ValueError: Solver lbfgs supports only 'l2' or 'none' penalties, got elasticnet penalty.\n",
      "\n",
      "  FitFailedWarning)\n",
      "/Users/omarseck/opt/anaconda3/lib/python3.7/site-packages/sklearn/model_selection/_validation.py:536: FitFailedWarning: Estimator fit failed. The score on this train-test partition for these parameters will be set to nan. Details: \n",
      "ValueError: Solver lbfgs supports only 'l2' or 'none' penalties, got l1 penalty.\n",
      "\n",
      "  FitFailedWarning)\n",
      "/Users/omarseck/opt/anaconda3/lib/python3.7/site-packages/sklearn/model_selection/_validation.py:536: FitFailedWarning: Estimator fit failed. The score on this train-test partition for these parameters will be set to nan. Details: \n",
      "ValueError: Solver lbfgs supports only 'l2' or 'none' penalties, got elasticnet penalty.\n",
      "\n",
      "  FitFailedWarning)\n",
      "/Users/omarseck/opt/anaconda3/lib/python3.7/site-packages/sklearn/model_selection/_validation.py:536: FitFailedWarning: Estimator fit failed. The score on this train-test partition for these parameters will be set to nan. Details: \n",
      "ValueError: Solver lbfgs supports only 'l2' or 'none' penalties, got l1 penalty.\n",
      "\n",
      "  FitFailedWarning)\n",
      "/Users/omarseck/opt/anaconda3/lib/python3.7/site-packages/sklearn/model_selection/_validation.py:536: FitFailedWarning: Estimator fit failed. The score on this train-test partition for these parameters will be set to nan. Details: \n",
      "ValueError: Solver lbfgs supports only 'l2' or 'none' penalties, got elasticnet penalty.\n",
      "\n",
      "  FitFailedWarning)\n",
      "/Users/omarseck/opt/anaconda3/lib/python3.7/site-packages/sklearn/model_selection/_validation.py:536: FitFailedWarning: Estimator fit failed. The score on this train-test partition for these parameters will be set to nan. Details: \n",
      "ValueError: Solver lbfgs supports only 'l2' or 'none' penalties, got l1 penalty.\n",
      "\n",
      "  FitFailedWarning)\n",
      "/Users/omarseck/opt/anaconda3/lib/python3.7/site-packages/sklearn/model_selection/_validation.py:536: FitFailedWarning: Estimator fit failed. The score on this train-test partition for these parameters will be set to nan. Details: \n",
      "ValueError: Solver lbfgs supports only 'l2' or 'none' penalties, got elasticnet penalty.\n",
      "\n",
      "  FitFailedWarning)\n",
      "/Users/omarseck/opt/anaconda3/lib/python3.7/site-packages/sklearn/model_selection/_validation.py:536: FitFailedWarning: Estimator fit failed. The score on this train-test partition for these parameters will be set to nan. Details: \n",
      "ValueError: Solver lbfgs supports only 'l2' or 'none' penalties, got l1 penalty.\n",
      "\n",
      "  FitFailedWarning)\n",
      "/Users/omarseck/opt/anaconda3/lib/python3.7/site-packages/sklearn/model_selection/_validation.py:536: FitFailedWarning: Estimator fit failed. The score on this train-test partition for these parameters will be set to nan. Details: \n",
      "ValueError: Solver lbfgs supports only 'l2' or 'none' penalties, got elasticnet penalty.\n",
      "\n",
      "  FitFailedWarning)\n",
      "/Users/omarseck/opt/anaconda3/lib/python3.7/site-packages/sklearn/model_selection/_validation.py:536: FitFailedWarning: Estimator fit failed. The score on this train-test partition for these parameters will be set to nan. Details: \n",
      "ValueError: Solver lbfgs supports only 'l2' or 'none' penalties, got l1 penalty.\n",
      "\n",
      "  FitFailedWarning)\n",
      "/Users/omarseck/opt/anaconda3/lib/python3.7/site-packages/sklearn/model_selection/_validation.py:536: FitFailedWarning: Estimator fit failed. The score on this train-test partition for these parameters will be set to nan. Details: \n",
      "ValueError: Solver lbfgs supports only 'l2' or 'none' penalties, got elasticnet penalty.\n",
      "\n",
      "  FitFailedWarning)\n",
      "/Users/omarseck/opt/anaconda3/lib/python3.7/site-packages/sklearn/model_selection/_validation.py:536: FitFailedWarning: Estimator fit failed. The score on this train-test partition for these parameters will be set to nan. Details: \n",
      "ValueError: Solver lbfgs supports only 'l2' or 'none' penalties, got l1 penalty.\n",
      "\n",
      "  FitFailedWarning)\n",
      "/Users/omarseck/opt/anaconda3/lib/python3.7/site-packages/sklearn/model_selection/_validation.py:536: FitFailedWarning: Estimator fit failed. The score on this train-test partition for these parameters will be set to nan. Details: \n",
      "ValueError: Solver lbfgs supports only 'l2' or 'none' penalties, got elasticnet penalty.\n",
      "\n",
      "  FitFailedWarning)\n",
      "/Users/omarseck/opt/anaconda3/lib/python3.7/site-packages/sklearn/model_selection/_validation.py:536: FitFailedWarning: Estimator fit failed. The score on this train-test partition for these parameters will be set to nan. Details: \n",
      "ValueError: Solver lbfgs supports only 'l2' or 'none' penalties, got l1 penalty.\n",
      "\n",
      "  FitFailedWarning)\n",
      "/Users/omarseck/opt/anaconda3/lib/python3.7/site-packages/sklearn/model_selection/_validation.py:536: FitFailedWarning: Estimator fit failed. The score on this train-test partition for these parameters will be set to nan. Details: \n",
      "ValueError: Solver lbfgs supports only 'l2' or 'none' penalties, got elasticnet penalty.\n",
      "\n",
      "  FitFailedWarning)\n",
      "/Users/omarseck/opt/anaconda3/lib/python3.7/site-packages/sklearn/model_selection/_validation.py:536: FitFailedWarning: Estimator fit failed. The score on this train-test partition for these parameters will be set to nan. Details: \n",
      "ValueError: Solver lbfgs supports only 'l2' or 'none' penalties, got l1 penalty.\n",
      "\n",
      "  FitFailedWarning)\n",
      "/Users/omarseck/opt/anaconda3/lib/python3.7/site-packages/sklearn/model_selection/_validation.py:536: FitFailedWarning: Estimator fit failed. The score on this train-test partition for these parameters will be set to nan. Details: \n",
      "ValueError: Solver lbfgs supports only 'l2' or 'none' penalties, got elasticnet penalty.\n",
      "\n",
      "  FitFailedWarning)\n",
      "/Users/omarseck/opt/anaconda3/lib/python3.7/site-packages/sklearn/model_selection/_validation.py:536: FitFailedWarning: Estimator fit failed. The score on this train-test partition for these parameters will be set to nan. Details: \n",
      "ValueError: Solver lbfgs supports only 'l2' or 'none' penalties, got l1 penalty.\n",
      "\n",
      "  FitFailedWarning)\n",
      "/Users/omarseck/opt/anaconda3/lib/python3.7/site-packages/sklearn/model_selection/_validation.py:536: FitFailedWarning: Estimator fit failed. The score on this train-test partition for these parameters will be set to nan. Details: \n",
      "ValueError: Solver lbfgs supports only 'l2' or 'none' penalties, got elasticnet penalty.\n",
      "\n",
      "  FitFailedWarning)\n"
     ]
    }
   ],
   "source": [
    "logistic = LogisticRegression()\n",
    "# Create regularization penalty space\n",
    "penalty = ['l1', 'l2', 'elasticnet']\n",
    "\n",
    "# Create regularization hyperparameter space\n",
    "C = np.logspace(0, 4, 10)\n",
    "\n",
    "max_iter = [100, 200, 300, 400, 500]\n",
    "\n",
    "# Create hyperparameter options\n",
    "hyperparameters = dict(C=C, penalty=penalty, max_iter= max_iter)\n",
    "\n",
    "clf = GridSearchCV(logistic, hyperparameters, cv=5, verbose=0)\n",
    "# Fit grid search\n",
    "best_model = clf.fit(X_train, y_train)"
   ]
  },
  {
   "cell_type": "code",
   "execution_count": 44,
   "metadata": {
    "ExecuteTime": {
     "end_time": "2020-03-11T11:11:30.198433Z",
     "start_time": "2020-03-11T11:11:30.193529Z"
    },
    "scrolled": false
   },
   "outputs": [
    {
     "name": "stdout",
     "output_type": "stream",
     "text": [
      "Best Penalty: l2\n",
      "Best C: 464.15888336127773\n",
      "Best max_iter: 100\n"
     ]
    }
   ],
   "source": [
    "bestP = best_model.best_estimator_.get_params()['penalty']\n",
    "bestC = best_model.best_estimator_.get_params()['C']\n",
    "bestMI = best_model.best_estimator_.get_params()['max_iter']\n",
    "print('Best Penalty:', bestP)\n",
    "print('Best C:', bestC)\n",
    "print('Best max_iter:', bestMI)"
   ]
  },
  {
   "cell_type": "markdown",
   "metadata": {},
   "source": [
    "# Modelization Mod3"
   ]
  },
  {
   "cell_type": "code",
   "execution_count": 45,
   "metadata": {
    "ExecuteTime": {
     "end_time": "2020-03-11T11:11:37.026708Z",
     "start_time": "2020-03-11T11:11:36.857648Z"
    },
    "scrolled": true
   },
   "outputs": [],
   "source": [
    "mod3 = LogisticRegression(penalty = bestP, C = bestC, max_iter = bestMI )\n",
    "mod = mod3.fit(X_train, y_train)\n",
    "pred3 = mod3.predict(x_test)"
   ]
  },
  {
   "cell_type": "markdown",
   "metadata": {},
   "source": [
    "### Score Mod3"
   ]
  },
  {
   "cell_type": "code",
   "execution_count": 46,
   "metadata": {
    "ExecuteTime": {
     "end_time": "2020-03-11T11:11:39.488304Z",
     "start_time": "2020-03-11T11:11:39.473315Z"
    },
    "scrolled": true
   },
   "outputs": [
    {
     "name": "stdout",
     "output_type": "stream",
     "text": [
      "Score de Train :  0.7646568443975638 \n",
      "Score de Test :  0.7105515259340358\n"
     ]
    }
   ],
   "source": [
    "scoreTest3 = mod3.score(x_test, y_test)\n",
    "scoreTrain3 = mod3.score(X_train, y_train)\n",
    "print(\"Score de Train : \", scoreTrain3, \n",
    "     \"\\nScore de Test : \", scoreTest3)"
   ]
  },
  {
   "cell_type": "markdown",
   "metadata": {},
   "source": [
    "### Confusion Matrix Mod3"
   ]
  },
  {
   "cell_type": "code",
   "execution_count": 47,
   "metadata": {
    "ExecuteTime": {
     "end_time": "2020-03-11T11:11:42.096201Z",
     "start_time": "2020-03-11T11:11:42.079353Z"
    },
    "scrolled": true
   },
   "outputs": [
    {
     "name": "stdout",
     "output_type": "stream",
     "text": [
      "[[10295  4199]\n",
      " [   31    89]]\n"
     ]
    }
   ],
   "source": [
    "cm3 = metrics.confusion_matrix(y_test, pred3)\n",
    "print(cm3)"
   ]
  },
  {
   "cell_type": "markdown",
   "metadata": {},
   "source": [
    "### Report Mod3"
   ]
  },
  {
   "cell_type": "code",
   "execution_count": 48,
   "metadata": {
    "ExecuteTime": {
     "end_time": "2020-03-11T11:11:44.253001Z",
     "start_time": "2020-03-11T11:11:44.224512Z"
    },
    "scrolled": true
   },
   "outputs": [
    {
     "name": "stdout",
     "output_type": "stream",
     "text": [
      "              precision    recall  f1-score   support\n",
      "\n",
      "           0       1.00      0.71      0.83     14494\n",
      "           1       0.02      0.74      0.04       120\n",
      "\n",
      "    accuracy                           0.71     14614\n",
      "   macro avg       0.51      0.73      0.43     14614\n",
      "weighted avg       0.99      0.71      0.82     14614\n",
      "\n"
     ]
    }
   ],
   "source": [
    "print(classification_report(y_test, pred3, target_names=['0', '1']))"
   ]
  },
  {
   "cell_type": "markdown",
   "metadata": {},
   "source": [
    "### Roc curve Mod3"
   ]
  },
  {
   "cell_type": "code",
   "execution_count": 49,
   "metadata": {
    "ExecuteTime": {
     "end_time": "2020-03-11T11:11:46.904245Z",
     "start_time": "2020-03-11T11:11:46.559470Z"
    },
    "scrolled": false
   },
   "outputs": [
    {
     "data": {
      "image/png": "[encoded data removed]",
      "text/plain": [
       "<Figure size 748.8x655.2 with 1 Axes>"
      ]
     },
     "metadata": {},
     "output_type": "display_data"
    }
   ],
   "source": [
    "# calculate the fpr and tpr for all thresholds of the classification\n",
    "probs = mod3.predict_proba(x_test)\n",
    "preds = probs[:,1]\n",
    "fpr, tpr, threshold = metrics.roc_curve(y_test, preds)\n",
    "roc_auc = metrics.auc(fpr, tpr)\n",
    "import matplotlib.pyplot as plt\n",
    "plt.title('Receiver Operating Characteristic')\n",
    "plt.plot(fpr, tpr, 'b', label = 'AUC = %0.2f' % roc_auc)\n",
    "plt.legend(loc = 'lower right')\n",
    "plt.plot([0, 1], [0, 1],'r--')\n",
    "plt.xlim([0, 1])\n",
    "plt.ylim([0, 1])\n",
    "plt.ylabel('True Positive Rate')\n",
    "plt.xlabel('False Positive Rate')\n",
    "plt.show()"
   ]
  },
  {
   "cell_type": "code",
   "execution_count": 50,
   "metadata": {
    "ExecuteTime": {
     "end_time": "2020-03-11T11:11:50.613242Z",
     "start_time": "2020-03-11T11:11:50.609094Z"
    }
   },
   "outputs": [
    {
     "data": {
      "text/plain": [
       "array([[-5.72347113, -3.8147907 ,  0.91528231, -4.50849589, -0.65376994,\n",
       "        -2.70520565, -4.23257897,  3.26327534,  1.11005801,  1.44302388,\n",
       "        -0.53233602,  0.72873565, -0.27887039, -0.75826056, -1.22812606,\n",
       "        -0.93356735, -2.42994632, -2.72877243, -1.03968076,  0.3726094 ]])"
      ]
     },
     "execution_count": 50,
     "metadata": {},
     "output_type": "execute_result"
    }
   ],
   "source": [
    "mod3.coef_"
   ]
  }
 ],
 "metadata": {
  "kernelspec": {
   "display_name": "Python 3",
   "language": "python",
   "name": "python3"
  },
  "language_info": {
   "codemirror_mode": {
    "name": "ipython",
    "version": 3
   },
   "file_extension": ".py",
   "mimetype": "text/x-python",
   "name": "python",
   "nbconvert_exporter": "python",
   "pygments_lexer": "ipython3",
   "version": "3.7.4"
  },
  "toc": {
   "base_numbering": 1,
   "nav_menu": {},
   "number_sections": true,
   "sideBar": true,
   "skip_h1_title": false,
   "title_cell": "Table of Contents",
   "title_sidebar": "Contents",
   "toc_cell": false,
   "toc_position": {},
   "toc_section_display": true,
   "toc_window_display": true
  }
 },
 "nbformat": 4,
 "nbformat_minor": 2
}
