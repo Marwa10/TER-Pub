{
 "cells": [
  {
   "cell_type": "code",
   "execution_count": 56,
   "metadata": {},
   "outputs": [],
   "source": [
    "import pandas as pd\n",
    "from sklearn.ensemble import AdaBoostClassifier, BaggingClassifier \n",
    "from sklearn.tree import DecisionTreeClassifier\n",
    "from sklearn.model_selection import train_test_split \n",
    "from sklearn.metrics import f1_score \n",
    "import numpy as np\n",
    "from sklearn.metrics import classification_report, confusion_matrix\n",
    "from sklearn import ensemble\n",
    "from sklearn.model_selection import train_test_split\n",
    "from sklearn.svm import SVC\n",
    "import matplotlib.pyplot as plt\n",
    "from sklearn.metrics import classification_report , mean_squared_error, roc_curve, auc\n",
    "%matplotlib inline\n",
    "from sklearn.ensemble import GradientBoostingClassifier\n",
    "from sklearn.model_selection import cross_validate\n",
    "from imblearn.over_sampling import SMOTE"
   ]
  },
  {
   "cell_type": "code",
   "execution_count": 57,
   "metadata": {},
   "outputs": [
    {
     "name": "stderr",
     "output_type": "stream",
     "text": [
      "C:\\Users\\Tharshika NAGARATNAM\\Anaconda3\\Nouveau dossier (2)\\lib\\site-packages\\IPython\\core\\interactiveshell.py:3049: DtypeWarning: Columns (5) have mixed types.Specify dtype option on import or set low_memory=False.\n",
      "  interactivity=interactivity, compiler=compiler, result=result)\n"
     ]
    },
    {
     "data": {
      "text/html": [
       "<div>\n",
       "<style scoped>\n",
       "    .dataframe tbody tr th:only-of-type {\n",
       "        vertical-align: middle;\n",
       "    }\n",
       "\n",
       "    .dataframe tbody tr th {\n",
       "        vertical-align: top;\n",
       "    }\n",
       "\n",
       "    .dataframe thead th {\n",
       "        text-align: right;\n",
       "    }\n",
       "</style>\n",
       "<table border=\"1\" class=\"dataframe\">\n",
       "  <thead>\n",
       "    <tr style=\"text-align: right;\">\n",
       "      <th></th>\n",
       "      <th>auction_id</th>\n",
       "      <th>click</th>\n",
       "      <th>exchange</th>\n",
       "      <th>app_or_site</th>\n",
       "      <th>has_gps</th>\n",
       "      <th>device_type</th>\n",
       "      <th>connection_type</th>\n",
       "      <th>creative_size</th>\n",
       "      <th>has_ifa</th>\n",
       "      <th>win_price</th>\n",
       "      <th>...</th>\n",
       "      <th>fullOsInfo</th>\n",
       "      <th>Timestamp_second</th>\n",
       "      <th>Timestamp_minute</th>\n",
       "      <th>Timestamp_hour</th>\n",
       "      <th>Timestamp_DayOfWeek</th>\n",
       "      <th>Timestamp_DayOfMonth</th>\n",
       "      <th>Timestamp_Month</th>\n",
       "      <th>Days_Since_Campaign_Starts</th>\n",
       "      <th>Days_Before_Campaign_Ends</th>\n",
       "      <th>Campaign_Duration</th>\n",
       "    </tr>\n",
       "  </thead>\n",
       "  <tbody>\n",
       "    <tr>\n",
       "      <th>0</th>\n",
       "      <td>00013c2d-c680-4108-ac8d-8606d72b6fd0</td>\n",
       "      <td>0</td>\n",
       "      <td>mopub</td>\n",
       "      <td>app</td>\n",
       "      <td>True</td>\n",
       "      <td>1</td>\n",
       "      <td>2</td>\n",
       "      <td>300x250</td>\n",
       "      <td>True</td>\n",
       "      <td>0.430000</td>\n",
       "      <td>...</td>\n",
       "      <td>Android9</td>\n",
       "      <td>53</td>\n",
       "      <td>57</td>\n",
       "      <td>15</td>\n",
       "      <td>7</td>\n",
       "      <td>2</td>\n",
       "      <td>11</td>\n",
       "      <td>34</td>\n",
       "      <td>8</td>\n",
       "      <td>42</td>\n",
       "    </tr>\n",
       "    <tr>\n",
       "      <th>1</th>\n",
       "      <td>0009ade41e7048ab19ba9ea839b246cb7f8fbaec_43</td>\n",
       "      <td>0</td>\n",
       "      <td>rubicon</td>\n",
       "      <td>site</td>\n",
       "      <td>False</td>\n",
       "      <td>4</td>\n",
       "      <td>unknown</td>\n",
       "      <td>320x50</td>\n",
       "      <td>False</td>\n",
       "      <td>0.149999</td>\n",
       "      <td>...</td>\n",
       "      <td>iOS13</td>\n",
       "      <td>16</td>\n",
       "      <td>9</td>\n",
       "      <td>1</td>\n",
       "      <td>6</td>\n",
       "      <td>8</td>\n",
       "      <td>11</td>\n",
       "      <td>2</td>\n",
       "      <td>53</td>\n",
       "      <td>55</td>\n",
       "    </tr>\n",
       "    <tr>\n",
       "      <th>2</th>\n",
       "      <td>0010e5a6-418c-4250-a257-9027f1ecfdd9</td>\n",
       "      <td>1</td>\n",
       "      <td>mopub</td>\n",
       "      <td>app</td>\n",
       "      <td>True</td>\n",
       "      <td>1</td>\n",
       "      <td>2</td>\n",
       "      <td>300x250</td>\n",
       "      <td>True</td>\n",
       "      <td>1.750000</td>\n",
       "      <td>...</td>\n",
       "      <td>Android7</td>\n",
       "      <td>30</td>\n",
       "      <td>11</td>\n",
       "      <td>5</td>\n",
       "      <td>5</td>\n",
       "      <td>14</td>\n",
       "      <td>11</td>\n",
       "      <td>3</td>\n",
       "      <td>2</td>\n",
       "      <td>5</td>\n",
       "    </tr>\n",
       "    <tr>\n",
       "      <th>3</th>\n",
       "      <td>00184670-d598-4e99-b067-13ae9aac471e</td>\n",
       "      <td>0</td>\n",
       "      <td>mopub</td>\n",
       "      <td>app</td>\n",
       "      <td>True</td>\n",
       "      <td>4</td>\n",
       "      <td>2</td>\n",
       "      <td>320x50</td>\n",
       "      <td>True</td>\n",
       "      <td>0.480000</td>\n",
       "      <td>...</td>\n",
       "      <td>iOS13</td>\n",
       "      <td>18</td>\n",
       "      <td>22</td>\n",
       "      <td>21</td>\n",
       "      <td>4</td>\n",
       "      <td>27</td>\n",
       "      <td>11</td>\n",
       "      <td>1</td>\n",
       "      <td>9</td>\n",
       "      <td>10</td>\n",
       "    </tr>\n",
       "    <tr>\n",
       "      <th>4</th>\n",
       "      <td>001f282c-efeb-4735-9a45-853c0c161039</td>\n",
       "      <td>0</td>\n",
       "      <td>mopub</td>\n",
       "      <td>app</td>\n",
       "      <td>True</td>\n",
       "      <td>4</td>\n",
       "      <td>1</td>\n",
       "      <td>320x480</td>\n",
       "      <td>False</td>\n",
       "      <td>1.180000</td>\n",
       "      <td>...</td>\n",
       "      <td>Android7</td>\n",
       "      <td>42</td>\n",
       "      <td>55</td>\n",
       "      <td>10</td>\n",
       "      <td>4</td>\n",
       "      <td>6</td>\n",
       "      <td>11</td>\n",
       "      <td>1</td>\n",
       "      <td>2</td>\n",
       "      <td>3</td>\n",
       "    </tr>\n",
       "  </tbody>\n",
       "</table>\n",
       "<p>5 rows × 78 columns</p>\n",
       "</div>"
      ],
      "text/plain": [
       "                                    auction_id  click exchange app_or_site  \\\n",
       "0         00013c2d-c680-4108-ac8d-8606d72b6fd0      0    mopub         app   \n",
       "1  0009ade41e7048ab19ba9ea839b246cb7f8fbaec_43      0  rubicon        site   \n",
       "2         0010e5a6-418c-4250-a257-9027f1ecfdd9      1    mopub         app   \n",
       "3         00184670-d598-4e99-b067-13ae9aac471e      0    mopub         app   \n",
       "4         001f282c-efeb-4735-9a45-853c0c161039      0    mopub         app   \n",
       "\n",
       "   has_gps device_type connection_type creative_size  has_ifa  win_price  ...  \\\n",
       "0     True           1               2       300x250     True   0.430000  ...   \n",
       "1    False           4         unknown        320x50    False   0.149999  ...   \n",
       "2     True           1               2       300x250     True   1.750000  ...   \n",
       "3     True           4               2        320x50     True   0.480000  ...   \n",
       "4     True           4               1       320x480    False   1.180000  ...   \n",
       "\n",
       "   fullOsInfo Timestamp_second Timestamp_minute Timestamp_hour  \\\n",
       "0    Android9               53               57             15   \n",
       "1       iOS13               16                9              1   \n",
       "2    Android7               30               11              5   \n",
       "3       iOS13               18               22             21   \n",
       "4    Android7               42               55             10   \n",
       "\n",
       "   Timestamp_DayOfWeek Timestamp_DayOfMonth Timestamp_Month  \\\n",
       "0                    7                    2              11   \n",
       "1                    6                    8              11   \n",
       "2                    5                   14              11   \n",
       "3                    4                   27              11   \n",
       "4                    4                    6              11   \n",
       "\n",
       "  Days_Since_Campaign_Starts Days_Before_Campaign_Ends  Campaign_Duration  \n",
       "0                         34                         8                 42  \n",
       "1                          2                        53                 55  \n",
       "2                          3                         2                  5  \n",
       "3                          1                         9                 10  \n",
       "4                          1                         2                  3  \n",
       "\n",
       "[5 rows x 78 columns]"
      ]
     },
     "execution_count": 57,
     "metadata": {},
     "output_type": "execute_result"
    }
   ],
   "source": [
    "df = pd.read_csv(\"data_one_month_cleaned_over_sampling.csv\")\n",
    "df.head()"
   ]
  },
  {
   "cell_type": "code",
   "execution_count": null,
   "metadata": {},
   "outputs": [],
   "source": [
    "#df.drop(df[df.click == 0].sample(70000).index, inplace=True)"
   ]
  },
  {
   "cell_type": "code",
   "execution_count": 58,
   "metadata": {},
   "outputs": [],
   "source": [
    "import random\n",
    "random.seed(1234)"
   ]
  },
  {
   "cell_type": "code",
   "execution_count": 62,
   "metadata": {},
   "outputs": [],
   "source": [
    "df_train, df_test = train_test_split(df, test_size = 0.3 , random_state = 1234)"
   ]
  },
  {
   "cell_type": "code",
   "execution_count": 63,
   "metadata": {},
   "outputs": [],
   "source": [
    "target = df_train.click\n",
    "data = df_train.drop(\"click\", axis = 1)"
   ]
  },
  {
   "cell_type": "code",
   "execution_count": null,
   "metadata": {},
   "outputs": [],
   "source": [
    "# data.drop(['auction_id','win_price','IAB1', 'IAB1%', 'IAB10', 'IAB11',\n",
    "#        'IAB12', 'IAB13', 'IAB14', 'IAB15', 'IAB16', 'IAB17', 'IAB18', 'IAB19',\n",
    "#        'IAB2', 'IAB20', 'IAB21', 'IAB22', 'IAB23', 'IAB24', 'IAB3', 'IAB3%',\n",
    "#        'IAB4', 'IAB5', 'IAB6', 'IAB7', 'IAB8', 'IAB9', 'IAB9%', 'books',\n",
    "#        'busin', 'educa', 'enter', 'finan', 'games', 'healt', 'lifes', 'medic',\n",
    "#        'music', 'navig', 'news', 'photo', 'produ', 'refer', 'socia', 'sport',\n",
    "#        'trave', 'unkno', 'utili', 'weath', 'fullOsInfo', 'Country_language',\n",
    "#         'Country_language', 'Timestamp', 'Timestamp_second',\n",
    "#        'Timestamp_minute', 'IAB26', 'exchange'], axis = 1, inplace = True)"
   ]
  },
  {
   "cell_type": "code",
   "execution_count": 64,
   "metadata": {},
   "outputs": [],
   "source": [
    "data.drop(['auction_id','win_price','Country_language',\n",
    "        'Country_language', 'Timestamp', 'Timestamp_second',\n",
    "       'Timestamp_minute', 'exchange'], axis = 1, inplace = True)"
   ]
  },
  {
   "cell_type": "code",
   "execution_count": 65,
   "metadata": {},
   "outputs": [],
   "source": [
    "col = data.columns\n",
    "for i in col:\n",
    "    if data[i].dtype == 'O' :\n",
    "        data = data.join(pd.get_dummies(data[i], prefix = i))\n",
    "        data.drop([i], axis = 1, inplace = True)"
   ]
  },
  {
   "cell_type": "code",
   "execution_count": 66,
   "metadata": {},
   "outputs": [
    {
     "name": "stdout",
     "output_type": "stream",
     "text": [
      "Pourcentage d'inertie :  0.9894752625677534\n"
     ]
    }
   ],
   "source": [
    "from sklearn.decomposition import TruncatedSVD\n",
    "from sklearn.preprocessing import normalize\n",
    "svd = TruncatedSVD(n_components=15, n_iter=7)\n",
    "data_normalized = normalize(data) # Normalize before svd\n",
    "data_transformed = svd.fit_transform(data_normalized)\n",
    "print(\"Pourcentage d'inertie : \", svd.explained_variance_ratio_.sum())"
   ]
  },
  {
   "cell_type": "code",
   "execution_count": 67,
   "metadata": {},
   "outputs": [],
   "source": [
    "smt = SMOTE(random_state = 0)\n",
    "data, target = smt.fit_sample(data.to_numpy(), target)"
   ]
  },
  {
   "cell_type": "code",
   "execution_count": 68,
   "metadata": {},
   "outputs": [],
   "source": [
    "X_train1,X_train2,y_train1,y_train2 = train_test_split(data, target, test_size = 0.3 , random_state = 1234)"
   ]
  },
  {
   "cell_type": "code",
   "execution_count": null,
   "metadata": {},
   "outputs": [],
   "source": [
    "# parametres = dict(C =  [0.1,1,10], kernel = ['rbf', 'linear','poly'], gamma = [0.001,0.01, 0.1, 0.5])\n",
    "# clf = SVC()\n",
    "# grid_clf = GridSearchCV(estimator = clf, param_grid = parametres)\n",
    "# grille = grid_clf.fit(X_train_res,y_train_res)\n",
    "# print(pd.DataFrame.from_dict(grille.cv_results_).loc[:,[\"params\",\"mean_test_score\"]])\n",
    "\n",
    "# print(grid_clf.best_params_)"
   ]
  },
  {
   "cell_type": "code",
   "execution_count": 70,
   "metadata": {},
   "outputs": [],
   "source": [
    "from sklearn.neural_network import MLPClassifier\n",
    "mlp = MLPClassifier(hidden_layer_sizes=(320, 100,100,1),\n",
    "                   alpha = 1e-05,\n",
    "                   activation = \"tanh\",\n",
    "                   solver = \"adam\",\n",
    "                   random_state = 1234,\n",
    "                    max_iter = 10000,\n",
    "                    warm_start=True)"
   ]
  },
  {
   "cell_type": "code",
   "execution_count": null,
   "metadata": {},
   "outputs": [],
   "source": [
    "mlp.fit(X_train1,y_train1)"
   ]
  },
  {
   "cell_type": "code",
   "execution_count": null,
   "metadata": {},
   "outputs": [],
   "source": [
    "y_pred = clf.predict(X_train2)\n",
    "print(classification_report(y_train2, y_pred),\"\\n\")"
   ]
  },
  {
   "cell_type": "code",
   "execution_count": null,
   "metadata": {},
   "outputs": [],
   "source": [
    "mlp = MLPClassifier()\n",
    "parameters = {'solver': ['lbfgs'], \n",
    "              'max_iter': [1000,1100,1200,1300,1400,1500,1600,1700,1800,1900,2000 ], \n",
    "              'alpha': 10.0 ** -np.arange(1, 10), \n",
    "              'hidden_layer_sizes':np.arange(10, 15), \n",
    "              'random_state':[0,1,2,3,4,5,6,7,8,9]}\n",
    "grid_clf = model_selection.GridSearchCV(estimator = mlp, param_grid = parametres, n_jobs=-1)\n",
    "grid_clf.fit(X_train1,y_train1)\n",
    "print(grid_clf.best_params_)\n",
    "y_pred = grid_clf.predict(X_train2)"
   ]
  },
  {
   "cell_type": "markdown",
   "metadata": {},
   "source": [
    "**ALGORITHME :**\n",
    "\n",
    "On split les données en 2 échantillons : Train et Test.\n",
    "\n",
    "On part de 70 % de l'échantillon d'apprentissage.\n",
    "\n",
    "On fait un modèle sur 70% de l'échantillon d’apprentissage.\n",
    "\n",
    "On teste le modèle sur le rete 30% de l'échantillon d'apprentissage.\n",
    "\n",
    "On regarde les métriques.\n",
    "\n",
    "Analyser les erreurs (faux négatifs et faux positifs) et de les corriger\n",
    "\n",
    "* on prend 20% des inputs sur lesquels il s’est planté dans l’échantillon sur lequel on a testé et les rajouter dans l’échantillon d’apprentissage.\n",
    "\n",
    "* On recommence ça jusqu’à obtenir un score qu’on souhaite obtenir.\n",
    "\n",
    "Une fois qu'on a valodé notre modèle, on teste sur l'échantillon de test. \n",
    "\n",
    "**IDEE : Corriger petit à petit les erreurs qu’il fait jusqu’à obtenir un F1-score qu’on veut**"
   ]
  },
  {
   "cell_type": "code",
   "execution_count": 17,
   "metadata": {},
   "outputs": [
    {
     "name": "stdout",
     "output_type": "stream",
     "text": [
      "f1-score :  0.2579864472410455 \n",
      "\n",
      "              precision    recall  f1-score   support\n",
      "\n",
      "           0       0.94      0.94      0.94     25581\n",
      "           1       0.25      0.26      0.26      2036\n",
      "\n",
      "    accuracy                           0.89     27617\n",
      "   macro avg       0.60      0.60      0.60     27617\n",
      "weighted avg       0.89      0.89      0.89     27617\n",
      " \n",
      "\n",
      "Matrice de confusion : \n",
      " Prédite      0     1\n",
      "Réelle              \n",
      "0        24018  1563\n",
      "1         1503   533\n"
     ]
    },
    {
     "data": {
      "image/png": "[encoded data removed]",
      "text/plain": [
       "<Figure size 432x288 with 1 Axes>"
      ]
     },
     "metadata": {
      "needs_background": "light"
     },
     "output_type": "display_data"
    },
    {
     "data": {
      "image/png": "[encoded data removed]",
      "text/plain": [
       "<Figure size 432x288 with 1 Axes>"
      ]
     },
     "metadata": {
      "needs_background": "light"
     },
     "output_type": "display_data"
    },
    {
     "name": "stdout",
     "output_type": "stream",
     "text": [
      "Vous voulez continuer : \n"
     ]
    }
   ],
   "source": [
    "from sklearn.model_selection import cross_val_predict\n",
    "i = 0\n",
    "x = []\n",
    "score = []\n",
    "continuer = \"OUI\"\n",
    "while continuer == \"OUI\" : \n",
    "    \n",
    "    # Entrainement\n",
    "    grid_clf.fit(X_train1,y_train1)\n",
    "\n",
    "    \n",
    "    # Prédiction\n",
    "    y_pred = grid_clf.predict(X_train2)\n",
    "    #y_pred = (grid_clf.predict_proba(X_train2)[:,1] >= 0.1).astype(bool)\n",
    "    \n",
    "    # Probabilité \n",
    "    probs = grid_clf.predict_proba(X_train2)\n",
    "    \n",
    "    # F1-score\n",
    "    f1 = f1_score(y_train2, y_pred)\n",
    "    print(\"f1-score : \", f1, \"\\n\")\n",
    "    \n",
    "    i += 1\n",
    "    x.append(str(i))\n",
    "    score.append(f1)\n",
    "    \n",
    "    # classification_report\n",
    "    print(classification_report(y_train2, y_pred),\"\\n\")\n",
    "    \n",
    "    # Matrice de confusion\n",
    "    print(\"Matrice de confusion : \\n\", pd.crosstab(y_train2, y_pred, rownames=['Réelle'], colnames=['Prédite']))\n",
    "    \n",
    "    # Courbe ROC\n",
    "    fpr, tpr, seuils = roc_curve(y_train2, probs[:,1] ,pos_label = 1)\n",
    "    roc_auc = auc(fpr, tpr)\n",
    "    plt.plot(fpr, tpr, color = \"blue\", label = '(auc = ' + str(round(roc_auc,2)) + ')')\n",
    "    plt.plot([0,1],[0,1], color = 'red', linestyle = '--', label = 'Aléatoire (auc = 0.5)')\n",
    "    plt.legend(loc = 'lower right')\n",
    "    plt.title('Courbe ROC')\n",
    "    plt.xlabel('Taux faux positifs')\n",
    "    plt.ylabel('Taux vrais positifs')\n",
    "    plt.xlim([0, 1])\n",
    "    plt.show(); \n",
    "    \n",
    "    # Evolution\n",
    "    plt.scatter(x, score)\n",
    "    plt.show()\n",
    "     \n",
    "    continuer = input('Vous voulez continuer : ').upper()\n",
    "    if continuer == \"OUI\" :\n",
    "        y = pd.DataFrame({\"réel\" : y_test , \"pred\" : y_pred})\n",
    "        faux_negatifs = y[(y[\"pred\"] == 0) & (y[\"réel\"] == 1)]\n",
    "        faux_negatifs_sample = faux_negatifs.sample(frac=0.1, random_state=1234)\n",
    "        faux_positifs = y[(y[\"pred\"] == 1) & (y[\"réel\"] == 0)]\n",
    "        faux_positifs_sample = faux_positifs.sample(frac=0.2, random_state=1234)\n",
    "        faux = pd.concat([faux_negatifs_sample, faux_positifs_sample])\n",
    "        X_train2 = X_train2[~X_train2.index.isin(faux.index)]\n",
    "        y_train2 = y_train2[~y_train2.index.isin(faux.index)]\n",
    "        X_train1 = pd.concat([X_train1, X_train2[X_train2.index.isin(faux.index)]])\n",
    "        y_train1 = pd.concat([y_train1, y_train2[y_train2.index.isin(faux.index)]])"
   ]
  },
  {
   "cell_type": "code",
   "execution_count": null,
   "metadata": {},
   "outputs": [],
   "source": [
    "y_test = df_test.click\n",
    "X_test = df_test.drop(\"click\", axis = 1)\n",
    "X_test.drop(['auction_id','win_price','Country_language',\n",
    "        'Country_language', 'Timestamp', 'Timestamp_second',\n",
    "       'Timestamp_minute', 'exchange'], axis = 1, inplace = True)\n",
    "col = X_test.columns\n",
    "for i in col:\n",
    "    if X_test[i].dtype == 'O' :\n",
    "        X_test = data_valid.join(pd.get_dummies(X_test[i], prefix = i))\n",
    "        X_test.drop([i], axis = 1, inplace = True)\n",
    "\n",
    "from sklearn.decomposition import TruncatedSVD\n",
    "from sklearn.preprocessing import normalize\n",
    "svd = TruncatedSVD(n_components=15, n_iter=7)\n",
    "X_test_normalized = normalize(X_test) # Normalize before svd\n",
    "X_test_transformed = svd.fit_transform(X_test_normalized)\n",
    "print(\"Pourcentage d'inertie : \", svd.explained_variance_ratio_.sum())"
   ]
  }
 ],
 "metadata": {
  "kernelspec": {
   "display_name": "Python 3",
   "language": "python",
   "name": "python3"
  },
  "language_info": {
   "codemirror_mode": {
    "name": "ipython",
    "version": 3
   },
   "file_extension": ".py",
   "mimetype": "text/x-python",
   "name": "python",
   "nbconvert_exporter": "python",
   "pygments_lexer": "ipython3",
   "version": "3.7.3"
  }
 },
 "nbformat": 4,
 "nbformat_minor": 2
}
